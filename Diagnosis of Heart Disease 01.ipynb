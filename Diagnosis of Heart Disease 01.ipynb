{
 "cells": [
  {
   "cell_type": "markdown",
   "id": "e9801bfa",
   "metadata": {},
   "source": [
    "# Diagnosis of Heart Disease"
   ]
  },
  {
   "cell_type": "code",
   "execution_count": null,
   "id": "c0badf98",
   "metadata": {},
   "outputs": [],
   "source": []
  }
 ],
 "metadata": {
  "kernelspec": {
   "display_name": "Python 3",
   "language": "python",
   "name": "python3"
  }
 },
 "nbformat": 4,
 "nbformat_minor": 5
}
