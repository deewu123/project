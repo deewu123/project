{
 "cells": [
  {
   "cell_type": "markdown",
   "id": "0b0ca9a9",
   "metadata": {},
   "source": [
    "# Diagnosis of Heart Disease Proposal"
   ]
  },
  {
   "cell_type": "code",
   "execution_count": null,
   "id": "4b40c69e",
   "metadata": {},
   "outputs": [],
   "source": []
  },
  {
   "cell_type": "code",
   "execution_count": null,
   "id": "22ca2b65",
   "metadata": {},
   "outputs": [],
   "source": []
  }
 ],
 "metadata": {
  "kernelspec": {
   "display_name": "Python 3",
   "language": "python",
   "name": "python3"
  }
 },
 "nbformat": 4,
 "nbformat_minor": 5
}
