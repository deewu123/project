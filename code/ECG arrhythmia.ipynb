{
 "cells": [
  {
   "cell_type": "code",
   "execution_count": 1,
   "id": "f95c5feb",
   "metadata": {},
   "outputs": [],
   "source": [
    "import numpy as np\n",
    "import pandas as pd\n",
    "import seaborn as sns\n",
    "import os\n",
    "import matplotlib.pyplot as plt"
   ]
  },
  {
   "cell_type": "code",
   "execution_count": 2,
   "id": "d56460f9",
   "metadata": {},
   "outputs": [
    {
     "name": "stdout",
     "output_type": "stream",
     "text": [
      "..\\data\\heartbeat\n"
     ]
    }
   ],
   "source": [
    "raw_data_path=os.path.join(os.path.pardir,'data','heartbeat')\n",
    "print (raw_data_path)"
   ]
  },
  {
   "cell_type": "code",
   "execution_count": 3,
   "id": "4e4a4114",
   "metadata": {},
   "outputs": [
    {
     "name": "stdout",
     "output_type": "stream",
     "text": [
      "..\\data\\heartbeat\\mitbih_train.csv\n"
     ]
    }
   ],
   "source": [
    "data_path=os.path.join(raw_data_path,'mitbih_train.csv')\n",
    "print (data_path)"
   ]
  },
  {
   "cell_type": "code",
   "execution_count": 4,
   "id": "1c66e09c",
   "metadata": {},
   "outputs": [
    {
     "name": "stdout",
     "output_type": "stream",
     "text": [
      " Volume in drive C is Windows\n",
      " Volume Serial Number is BC66-004A\n",
      "\n",
      " Directory of C:\\Users\\DeeWu\\heartbeat\n",
      "\n",
      "2021-06-26  09:56 PM    <DIR>          .\n",
      "2021-06-26  09:55 PM    <DIR>          ..\n",
      "2021-06-26  09:56 PM    <DIR>          .ipynb_checkpoints\n",
      "2021-06-26  09:53 PM            17,993 ECG arrhythmia.ipynb\n",
      "               1 File(s)         17,993 bytes\n",
      "               3 Dir(s)  46,875,865,088 bytes free\n"
     ]
    }
   ],
   "source": [
    "!dir "
   ]
  },
  {
   "cell_type": "markdown",
   "id": "8f5f068d",
   "metadata": {},
   "source": [
    "## dataset: https://www.kaggle.com/shayanfazeli/heartbeat"
   ]
  },
  {
   "cell_type": "code",
   "execution_count": 5,
   "id": "05c038d5",
   "metadata": {},
   "outputs": [],
   "source": [
    "data = pd.read_csv(data_path, header=None)"
   ]
  },
  {
   "cell_type": "code",
   "execution_count": 6,
   "id": "33c2b00c",
   "metadata": {},
   "outputs": [],
   "source": [
    "df = pd.DataFrame(data)"
   ]
  },
  {
   "cell_type": "code",
   "execution_count": 7,
   "id": "813e2c1c",
   "metadata": {},
   "outputs": [
    {
     "data": {
      "text/html": [
       "<div>\n",
       "<style scoped>\n",
       "    .dataframe tbody tr th:only-of-type {\n",
       "        vertical-align: middle;\n",
       "    }\n",
       "\n",
       "    .dataframe tbody tr th {\n",
       "        vertical-align: top;\n",
       "    }\n",
       "\n",
       "    .dataframe thead th {\n",
       "        text-align: right;\n",
       "    }\n",
       "</style>\n",
       "<table border=\"1\" class=\"dataframe\">\n",
       "  <thead>\n",
       "    <tr style=\"text-align: right;\">\n",
       "      <th></th>\n",
       "      <th>0</th>\n",
       "      <th>1</th>\n",
       "      <th>2</th>\n",
       "      <th>3</th>\n",
       "      <th>4</th>\n",
       "      <th>5</th>\n",
       "      <th>6</th>\n",
       "      <th>7</th>\n",
       "      <th>8</th>\n",
       "      <th>9</th>\n",
       "      <th>...</th>\n",
       "      <th>178</th>\n",
       "      <th>179</th>\n",
       "      <th>180</th>\n",
       "      <th>181</th>\n",
       "      <th>182</th>\n",
       "      <th>183</th>\n",
       "      <th>184</th>\n",
       "      <th>185</th>\n",
       "      <th>186</th>\n",
       "      <th>187</th>\n",
       "    </tr>\n",
       "  </thead>\n",
       "  <tbody>\n",
       "    <tr>\n",
       "      <th>0</th>\n",
       "      <td>0.977941</td>\n",
       "      <td>0.926471</td>\n",
       "      <td>0.681373</td>\n",
       "      <td>0.245098</td>\n",
       "      <td>0.154412</td>\n",
       "      <td>0.191176</td>\n",
       "      <td>0.151961</td>\n",
       "      <td>0.085784</td>\n",
       "      <td>0.058824</td>\n",
       "      <td>0.049020</td>\n",
       "      <td>...</td>\n",
       "      <td>0.0</td>\n",
       "      <td>0.0</td>\n",
       "      <td>0.0</td>\n",
       "      <td>0.0</td>\n",
       "      <td>0.0</td>\n",
       "      <td>0.0</td>\n",
       "      <td>0.0</td>\n",
       "      <td>0.0</td>\n",
       "      <td>0.0</td>\n",
       "      <td>0.0</td>\n",
       "    </tr>\n",
       "    <tr>\n",
       "      <th>1</th>\n",
       "      <td>0.960114</td>\n",
       "      <td>0.863248</td>\n",
       "      <td>0.461538</td>\n",
       "      <td>0.196581</td>\n",
       "      <td>0.094017</td>\n",
       "      <td>0.125356</td>\n",
       "      <td>0.099715</td>\n",
       "      <td>0.088319</td>\n",
       "      <td>0.074074</td>\n",
       "      <td>0.082621</td>\n",
       "      <td>...</td>\n",
       "      <td>0.0</td>\n",
       "      <td>0.0</td>\n",
       "      <td>0.0</td>\n",
       "      <td>0.0</td>\n",
       "      <td>0.0</td>\n",
       "      <td>0.0</td>\n",
       "      <td>0.0</td>\n",
       "      <td>0.0</td>\n",
       "      <td>0.0</td>\n",
       "      <td>0.0</td>\n",
       "    </tr>\n",
       "    <tr>\n",
       "      <th>2</th>\n",
       "      <td>1.000000</td>\n",
       "      <td>0.659459</td>\n",
       "      <td>0.186486</td>\n",
       "      <td>0.070270</td>\n",
       "      <td>0.070270</td>\n",
       "      <td>0.059459</td>\n",
       "      <td>0.056757</td>\n",
       "      <td>0.043243</td>\n",
       "      <td>0.054054</td>\n",
       "      <td>0.045946</td>\n",
       "      <td>...</td>\n",
       "      <td>0.0</td>\n",
       "      <td>0.0</td>\n",
       "      <td>0.0</td>\n",
       "      <td>0.0</td>\n",
       "      <td>0.0</td>\n",
       "      <td>0.0</td>\n",
       "      <td>0.0</td>\n",
       "      <td>0.0</td>\n",
       "      <td>0.0</td>\n",
       "      <td>0.0</td>\n",
       "    </tr>\n",
       "    <tr>\n",
       "      <th>3</th>\n",
       "      <td>0.925414</td>\n",
       "      <td>0.665746</td>\n",
       "      <td>0.541436</td>\n",
       "      <td>0.276243</td>\n",
       "      <td>0.196133</td>\n",
       "      <td>0.077348</td>\n",
       "      <td>0.071823</td>\n",
       "      <td>0.060773</td>\n",
       "      <td>0.066298</td>\n",
       "      <td>0.058011</td>\n",
       "      <td>...</td>\n",
       "      <td>0.0</td>\n",
       "      <td>0.0</td>\n",
       "      <td>0.0</td>\n",
       "      <td>0.0</td>\n",
       "      <td>0.0</td>\n",
       "      <td>0.0</td>\n",
       "      <td>0.0</td>\n",
       "      <td>0.0</td>\n",
       "      <td>0.0</td>\n",
       "      <td>0.0</td>\n",
       "    </tr>\n",
       "    <tr>\n",
       "      <th>4</th>\n",
       "      <td>0.967136</td>\n",
       "      <td>1.000000</td>\n",
       "      <td>0.830986</td>\n",
       "      <td>0.586854</td>\n",
       "      <td>0.356808</td>\n",
       "      <td>0.248826</td>\n",
       "      <td>0.145540</td>\n",
       "      <td>0.089202</td>\n",
       "      <td>0.117371</td>\n",
       "      <td>0.150235</td>\n",
       "      <td>...</td>\n",
       "      <td>0.0</td>\n",
       "      <td>0.0</td>\n",
       "      <td>0.0</td>\n",
       "      <td>0.0</td>\n",
       "      <td>0.0</td>\n",
       "      <td>0.0</td>\n",
       "      <td>0.0</td>\n",
       "      <td>0.0</td>\n",
       "      <td>0.0</td>\n",
       "      <td>0.0</td>\n",
       "    </tr>\n",
       "  </tbody>\n",
       "</table>\n",
       "<p>5 rows × 188 columns</p>\n",
       "</div>"
      ],
      "text/plain": [
       "        0         1         2         3         4         5         6    \\\n",
       "0  0.977941  0.926471  0.681373  0.245098  0.154412  0.191176  0.151961   \n",
       "1  0.960114  0.863248  0.461538  0.196581  0.094017  0.125356  0.099715   \n",
       "2  1.000000  0.659459  0.186486  0.070270  0.070270  0.059459  0.056757   \n",
       "3  0.925414  0.665746  0.541436  0.276243  0.196133  0.077348  0.071823   \n",
       "4  0.967136  1.000000  0.830986  0.586854  0.356808  0.248826  0.145540   \n",
       "\n",
       "        7         8         9    ...  178  179  180  181  182  183  184  185  \\\n",
       "0  0.085784  0.058824  0.049020  ...  0.0  0.0  0.0  0.0  0.0  0.0  0.0  0.0   \n",
       "1  0.088319  0.074074  0.082621  ...  0.0  0.0  0.0  0.0  0.0  0.0  0.0  0.0   \n",
       "2  0.043243  0.054054  0.045946  ...  0.0  0.0  0.0  0.0  0.0  0.0  0.0  0.0   \n",
       "3  0.060773  0.066298  0.058011  ...  0.0  0.0  0.0  0.0  0.0  0.0  0.0  0.0   \n",
       "4  0.089202  0.117371  0.150235  ...  0.0  0.0  0.0  0.0  0.0  0.0  0.0  0.0   \n",
       "\n",
       "   186  187  \n",
       "0  0.0  0.0  \n",
       "1  0.0  0.0  \n",
       "2  0.0  0.0  \n",
       "3  0.0  0.0  \n",
       "4  0.0  0.0  \n",
       "\n",
       "[5 rows x 188 columns]"
      ]
     },
     "execution_count": 7,
     "metadata": {},
     "output_type": "execute_result"
    }
   ],
   "source": [
    "df.head()"
   ]
  },
  {
   "cell_type": "code",
   "execution_count": 8,
   "id": "d810f8ba",
   "metadata": {},
   "outputs": [
    {
     "data": {
      "image/png": "[encoded data removed]",
      "text/plain": [
       "<Figure size 432x288 with 1 Axes>"
      ]
     },
     "metadata": {
      "needs_background": "light"
     },
     "output_type": "display_data"
    }
   ],
   "source": [
    "plt.plot(data.iloc[0])\n",
    "plt.show()"
   ]
  },
  {
   "cell_type": "code",
   "execution_count": 11,
   "id": "eee17358",
   "metadata": {},
   "outputs": [
    {
     "data": {
      "image/png": "[encoded data removed]",
      "text/plain": [
       "<Figure size 1800x144 with 5 Axes>"
      ]
     },
     "metadata": {
      "needs_background": "light"
     },
     "output_type": "display_data"
    }
   ],
   "source": [
    "fig, ax = plt.subplots(nrows = 1, ncols = 5, figsize = (25,2))\n",
    "for i in range(5):\n",
    "    ax[i].plot(df[df[187] ==float(i)].sample(1).iloc[0,:186])\n",
    "    ax[i].set_title('Class:{}'.format(i))"
   ]
  },
  {
   "cell_type": "code",
   "execution_count": 12,
   "id": "6c0b13ea",
   "metadata": {},
   "outputs": [
    {
     "data": {
      "text/plain": [
       "<AxesSubplot:xlabel='187', ylabel='count'>"
      ]
     },
     "execution_count": 12,
     "metadata": {},
     "output_type": "execute_result"
    },
    {
     "data": {
      "image/png": "[encoded data removed]",
      "text/plain": [
       "<Figure size 432x288 with 1 Axes>"
      ]
     },
     "metadata": {
      "needs_background": "light"
     },
     "output_type": "display_data"
    }
   ],
   "source": [
    "sns.countplot(x=187, data=df)"
   ]
  },
  {
   "cell_type": "code",
   "execution_count": 13,
   "id": "b2ca7398",
   "metadata": {},
   "outputs": [],
   "source": [
    "class_0 = df[df[187]==0.0].sample(8000)\n",
    "class_1 = df[df[187]==1.0]\n",
    "class_2 = df[df[187]==2.0]\n",
    "class_3 = df[df[187]==3.0]\n",
    "class_4 = df[df[187]==4.0]\n"
   ]
  },
  {
   "cell_type": "code",
   "execution_count": 14,
   "id": "b858ddb0",
   "metadata": {},
   "outputs": [],
   "source": [
    "new_df = pd.concat([class_0, class_1, class_2, class_3, class_4])"
   ]
  },
  {
   "cell_type": "code",
   "execution_count": 16,
   "id": "918d3dd4",
   "metadata": {},
   "outputs": [
    {
     "data": {
      "text/html": [
       "<div>\n",
       "<style scoped>\n",
       "    .dataframe tbody tr th:only-of-type {\n",
       "        vertical-align: middle;\n",
       "    }\n",
       "\n",
       "    .dataframe tbody tr th {\n",
       "        vertical-align: top;\n",
       "    }\n",
       "\n",
       "    .dataframe thead th {\n",
       "        text-align: right;\n",
       "    }\n",
       "</style>\n",
       "<table border=\"1\" class=\"dataframe\">\n",
       "  <thead>\n",
       "    <tr style=\"text-align: right;\">\n",
       "      <th></th>\n",
       "      <th>0</th>\n",
       "      <th>1</th>\n",
       "      <th>2</th>\n",
       "      <th>3</th>\n",
       "      <th>4</th>\n",
       "      <th>5</th>\n",
       "      <th>6</th>\n",
       "      <th>7</th>\n",
       "      <th>8</th>\n",
       "      <th>9</th>\n",
       "      <th>...</th>\n",
       "      <th>178</th>\n",
       "      <th>179</th>\n",
       "      <th>180</th>\n",
       "      <th>181</th>\n",
       "      <th>182</th>\n",
       "      <th>183</th>\n",
       "      <th>184</th>\n",
       "      <th>185</th>\n",
       "      <th>186</th>\n",
       "      <th>187</th>\n",
       "    </tr>\n",
       "  </thead>\n",
       "  <tbody>\n",
       "    <tr>\n",
       "      <th>10986</th>\n",
       "      <td>1.000000</td>\n",
       "      <td>0.835735</td>\n",
       "      <td>0.383285</td>\n",
       "      <td>0.000000</td>\n",
       "      <td>0.198847</td>\n",
       "      <td>0.311239</td>\n",
       "      <td>0.386167</td>\n",
       "      <td>0.386167</td>\n",
       "      <td>0.423631</td>\n",
       "      <td>0.426513</td>\n",
       "      <td>...</td>\n",
       "      <td>0.0</td>\n",
       "      <td>0.0</td>\n",
       "      <td>0.0</td>\n",
       "      <td>0.0</td>\n",
       "      <td>0.0</td>\n",
       "      <td>0.0</td>\n",
       "      <td>0.0</td>\n",
       "      <td>0.0</td>\n",
       "      <td>0.0</td>\n",
       "      <td>0.0</td>\n",
       "    </tr>\n",
       "    <tr>\n",
       "      <th>15161</th>\n",
       "      <td>0.987085</td>\n",
       "      <td>1.000000</td>\n",
       "      <td>0.583026</td>\n",
       "      <td>0.055351</td>\n",
       "      <td>0.000000</td>\n",
       "      <td>0.175277</td>\n",
       "      <td>0.271218</td>\n",
       "      <td>0.263838</td>\n",
       "      <td>0.250923</td>\n",
       "      <td>0.258303</td>\n",
       "      <td>...</td>\n",
       "      <td>0.0</td>\n",
       "      <td>0.0</td>\n",
       "      <td>0.0</td>\n",
       "      <td>0.0</td>\n",
       "      <td>0.0</td>\n",
       "      <td>0.0</td>\n",
       "      <td>0.0</td>\n",
       "      <td>0.0</td>\n",
       "      <td>0.0</td>\n",
       "      <td>0.0</td>\n",
       "    </tr>\n",
       "    <tr>\n",
       "      <th>54993</th>\n",
       "      <td>0.926829</td>\n",
       "      <td>1.000000</td>\n",
       "      <td>0.619137</td>\n",
       "      <td>0.378987</td>\n",
       "      <td>0.371482</td>\n",
       "      <td>0.343340</td>\n",
       "      <td>0.330206</td>\n",
       "      <td>0.362101</td>\n",
       "      <td>0.390244</td>\n",
       "      <td>0.463415</td>\n",
       "      <td>...</td>\n",
       "      <td>0.0</td>\n",
       "      <td>0.0</td>\n",
       "      <td>0.0</td>\n",
       "      <td>0.0</td>\n",
       "      <td>0.0</td>\n",
       "      <td>0.0</td>\n",
       "      <td>0.0</td>\n",
       "      <td>0.0</td>\n",
       "      <td>0.0</td>\n",
       "      <td>0.0</td>\n",
       "    </tr>\n",
       "    <tr>\n",
       "      <th>68702</th>\n",
       "      <td>0.456929</td>\n",
       "      <td>0.014981</td>\n",
       "      <td>0.123596</td>\n",
       "      <td>0.299625</td>\n",
       "      <td>0.408240</td>\n",
       "      <td>0.449438</td>\n",
       "      <td>0.434457</td>\n",
       "      <td>0.434457</td>\n",
       "      <td>0.464419</td>\n",
       "      <td>0.468165</td>\n",
       "      <td>...</td>\n",
       "      <td>0.0</td>\n",
       "      <td>0.0</td>\n",
       "      <td>0.0</td>\n",
       "      <td>0.0</td>\n",
       "      <td>0.0</td>\n",
       "      <td>0.0</td>\n",
       "      <td>0.0</td>\n",
       "      <td>0.0</td>\n",
       "      <td>0.0</td>\n",
       "      <td>0.0</td>\n",
       "    </tr>\n",
       "    <tr>\n",
       "      <th>9650</th>\n",
       "      <td>0.994911</td>\n",
       "      <td>0.964377</td>\n",
       "      <td>0.743003</td>\n",
       "      <td>0.325700</td>\n",
       "      <td>0.137405</td>\n",
       "      <td>0.173028</td>\n",
       "      <td>0.137405</td>\n",
       "      <td>0.066158</td>\n",
       "      <td>0.055980</td>\n",
       "      <td>0.043257</td>\n",
       "      <td>...</td>\n",
       "      <td>0.0</td>\n",
       "      <td>0.0</td>\n",
       "      <td>0.0</td>\n",
       "      <td>0.0</td>\n",
       "      <td>0.0</td>\n",
       "      <td>0.0</td>\n",
       "      <td>0.0</td>\n",
       "      <td>0.0</td>\n",
       "      <td>0.0</td>\n",
       "      <td>0.0</td>\n",
       "    </tr>\n",
       "  </tbody>\n",
       "</table>\n",
       "<p>5 rows × 188 columns</p>\n",
       "</div>"
      ],
      "text/plain": [
       "            0         1         2         3         4         5         6    \\\n",
       "10986  1.000000  0.835735  0.383285  0.000000  0.198847  0.311239  0.386167   \n",
       "15161  0.987085  1.000000  0.583026  0.055351  0.000000  0.175277  0.271218   \n",
       "54993  0.926829  1.000000  0.619137  0.378987  0.371482  0.343340  0.330206   \n",
       "68702  0.456929  0.014981  0.123596  0.299625  0.408240  0.449438  0.434457   \n",
       "9650   0.994911  0.964377  0.743003  0.325700  0.137405  0.173028  0.137405   \n",
       "\n",
       "            7         8         9    ...  178  179  180  181  182  183  184  \\\n",
       "10986  0.386167  0.423631  0.426513  ...  0.0  0.0  0.0  0.0  0.0  0.0  0.0   \n",
       "15161  0.263838  0.250923  0.258303  ...  0.0  0.0  0.0  0.0  0.0  0.0  0.0   \n",
       "54993  0.362101  0.390244  0.463415  ...  0.0  0.0  0.0  0.0  0.0  0.0  0.0   \n",
       "68702  0.434457  0.464419  0.468165  ...  0.0  0.0  0.0  0.0  0.0  0.0  0.0   \n",
       "9650   0.066158  0.055980  0.043257  ...  0.0  0.0  0.0  0.0  0.0  0.0  0.0   \n",
       "\n",
       "       185  186  187  \n",
       "10986  0.0  0.0  0.0  \n",
       "15161  0.0  0.0  0.0  \n",
       "54993  0.0  0.0  0.0  \n",
       "68702  0.0  0.0  0.0  \n",
       "9650   0.0  0.0  0.0  \n",
       "\n",
       "[5 rows x 188 columns]"
      ]
     },
     "execution_count": 16,
     "metadata": {},
     "output_type": "execute_result"
    }
   ],
   "source": [
    "new_df.head()"
   ]
  },
  {
   "cell_type": "code",
   "execution_count": 17,
   "id": "9d98d53e",
   "metadata": {},
   "outputs": [
    {
     "data": {
      "text/plain": [
       "<AxesSubplot:xlabel='187', ylabel='count'>"
      ]
     },
     "execution_count": 17,
     "metadata": {},
     "output_type": "execute_result"
    },
    {
     "data": {
      "image/png": "[encoded data removed]",
      "text/plain": [
       "<Figure size 432x288 with 1 Axes>"
      ]
     },
     "metadata": {
      "needs_background": "light"
     },
     "output_type": "display_data"
    }
   ],
   "source": [
    "sns.countplot(x=187, data = new_df)"
   ]
  },
  {
   "cell_type": "markdown",
   "id": "79e78fb8",
   "metadata": {},
   "source": [
    "## Train/Test split"
   ]
  },
  {
   "cell_type": "code",
   "execution_count": 18,
   "id": "b21e64fe",
   "metadata": {},
   "outputs": [],
   "source": [
    "from sklearn.model_selection import train_test_split\n",
    "X_train, X_test, y_train, y_test = train_test_split(new_df.drop([187], axis=1), new_df[187], test_size=0.33, random_state=42)"
   ]
  },
  {
   "cell_type": "code",
   "execution_count": 19,
   "id": "e7d9606c",
   "metadata": {},
   "outputs": [],
   "source": [
    "X_train = np.array(X_train).reshape(X_train.shape[0], X_train.shape[1], 1)\n",
    "X_test = np.array(X_test).reshape(X_test.shape[0], X_test.shape[1],1)"
   ]
  },
  {
   "cell_type": "markdown",
   "id": "77fa15f7",
   "metadata": {},
   "source": [
    "## Define Model"
   ]
  },
  {
   "cell_type": "code",
   "execution_count": 25,
   "id": "df170613",
   "metadata": {},
   "outputs": [],
   "source": [
    "#!pip install tensorflow\n",
    "from tensorflow.keras import Sequential, utils\n",
    "from tensorflow.keras.layers import Flatten, Dense, Conv1D, MaxPool1D, Dropout"
   ]
  },
  {
   "cell_type": "code",
   "execution_count": 26,
   "id": "369f06f8",
   "metadata": {},
   "outputs": [],
   "source": [
    "model = Sequential()"
   ]
  },
  {
   "cell_type": "code",
   "execution_count": 29,
   "id": "f00f55aa",
   "metadata": {},
   "outputs": [],
   "source": [
    "model.add(Conv1D(filters=32, kernel_size=(3,),padding='same', activation='relu'))\n",
    "model.add(Conv1D(filters=64, kernel_size=(3,),padding='same', activation='relu'))\n",
    "model.add(Conv1D(filters=128, kernel_size=(5,),padding='same', activation='relu'))"
   ]
  },
  {
   "cell_type": "code",
   "execution_count": 30,
   "id": "2bc9f587",
   "metadata": {},
   "outputs": [],
   "source": [
    "model.add(MaxPool1D(pool_size=(3,), strides=2, padding='same'))\n",
    "model.add(Dropout(0.5))"
   ]
  },
  {
   "cell_type": "code",
   "execution_count": 31,
   "id": "d7260d8a",
   "metadata": {},
   "outputs": [],
   "source": [
    "model.add(Flatten())"
   ]
  },
  {
   "cell_type": "code",
   "execution_count": 32,
   "id": "9db5d107",
   "metadata": {},
   "outputs": [],
   "source": [
    "model.add(Dense(units = 512, activation='relu'))\n",
    "model.add(Dense(units = 1024, activation='relu'))\n",
    "model.add(Dense(units = 5, activation='softmax'))\n"
   ]
  },
  {
   "cell_type": "markdown",
   "id": "a4bb6d4f",
   "metadata": {},
   "source": [
    "## Define Optimizer"
   ]
  },
  {
   "cell_type": "code",
   "execution_count": 34,
   "id": "a1bcbc7f",
   "metadata": {},
   "outputs": [],
   "source": [
    "model.compile(optimizer='adam', loss='sparse_categorical_crossentropy',metrics=['accuracy'])"
   ]
  },
  {
   "cell_type": "markdown",
   "id": "76b7135e",
   "metadata": {},
   "source": [
    "## train the model"
   ]
  },
  {
   "cell_type": "code",
   "execution_count": 37,
   "id": "5bba9a3f",
   "metadata": {},
   "outputs": [
    {
     "name": "stdout",
     "output_type": "stream",
     "text": [
      "Epoch 1/10\n",
      "484/484 [==============================] - 42s 84ms/step - loss: 0.4301 - accuracy: 0.8455 - val_loss: 0.2514 - val_accuracy: 0.9180\n",
      "Epoch 2/10\n",
      "484/484 [==============================] - 35s 72ms/step - loss: 0.2316 - accuracy: 0.9233 - val_loss: 0.2053 - val_accuracy: 0.9332\n",
      "Epoch 3/10\n",
      "484/484 [==============================] - 31s 65ms/step - loss: 0.1704 - accuracy: 0.9424 - val_loss: 0.1527 - val_accuracy: 0.9508\n",
      "Epoch 4/10\n",
      "484/484 [==============================] - 32s 66ms/step - loss: 0.1387 - accuracy: 0.9527 - val_loss: 0.1470 - val_accuracy: 0.9525\n",
      "Epoch 5/10\n",
      "484/484 [==============================] - 31s 65ms/step - loss: 0.1144 - accuracy: 0.9615 - val_loss: 0.1440 - val_accuracy: 0.9537\n",
      "Epoch 6/10\n",
      "484/484 [==============================] - 31s 65ms/step - loss: 0.0945 - accuracy: 0.9675 - val_loss: 0.1398 - val_accuracy: 0.9587\n",
      "Epoch 7/10\n",
      "484/484 [==============================] - 32s 66ms/step - loss: 0.0845 - accuracy: 0.9703 - val_loss: 0.1545 - val_accuracy: 0.9575\n",
      "Epoch 8/10\n",
      "484/484 [==============================] - 32s 65ms/step - loss: 0.0635 - accuracy: 0.9776 - val_loss: 0.1435 - val_accuracy: 0.9563\n",
      "Epoch 9/10\n",
      "484/484 [==============================] - 32s 66ms/step - loss: 0.0630 - accuracy: 0.9787 - val_loss: 0.1622 - val_accuracy: 0.9556\n",
      "Epoch 10/10\n",
      "484/484 [==============================] - 32s 66ms/step - loss: 0.0544 - accuracy: 0.9812 - val_loss: 0.1601 - val_accuracy: 0.9609\n"
     ]
    }
   ],
   "source": [
    "history = model.fit(X_train, y_train, epochs=10, validation_data = (X_test,y_test))"
   ]
  },
  {
   "cell_type": "code",
   "execution_count": 38,
   "id": "bbe19b23",
   "metadata": {},
   "outputs": [],
   "source": [
    "acc = history.history['accuracy']\n",
    "loss = history.history['loss']\n",
    "val_acc = history.history['val_accuracy']\n",
    "val_loss = history.history['val_loss']"
   ]
  },
  {
   "cell_type": "code",
   "execution_count": 39,
   "id": "8cb0058a",
   "metadata": {},
   "outputs": [],
   "source": [
    "epochs = range(len(acc))"
   ]
  },
  {
   "cell_type": "code",
   "execution_count": 41,
   "id": "7872ca41",
   "metadata": {},
   "outputs": [
    {
     "data": {
      "image/png": "[encoded data removed]",
      "text/plain": [
       "<Figure size 432x288 with 1 Axes>"
      ]
     },
     "metadata": {
      "needs_background": "light"
     },
     "output_type": "display_data"
    }
   ],
   "source": [
    "plt.plot(epochs,acc,\"r\",label='Training acc')\n",
    "plt.plot(epochs,loss,\"b\",label='Training loss')\n",
    "plt.plot(epochs,val_acc,'g',label='Validation acc')\n",
    "plt.plot(epochs,val_loss,'y',label='Validation loss')\n",
    "\n",
    "plt.title('Training and validation accuracy and loss')\n",
    "plt.xlabel('Epochs')\n",
    "plt.ylabel(\"Value\")\n",
    "plt.legend()\n",
    "plt.show()"
   ]
  },
  {
   "cell_type": "code",
   "execution_count": 42,
   "id": "c32c3ead",
   "metadata": {},
   "outputs": [
    {
     "name": "stdout",
     "output_type": "stream",
     "text": [
      "[8.7611889e-04 9.9912328e-01 5.4784670e-07 6.0417214e-08 4.7739192e-08]\n"
     ]
    }
   ],
   "source": [
    "# model predict result\n",
    "y_pred = model.predict(X_test)\n",
    "print(y_pred[1])"
   ]
  },
  {
   "cell_type": "code",
   "execution_count": 43,
   "id": "207762fc",
   "metadata": {},
   "outputs": [
    {
     "name": "stdout",
     "output_type": "stream",
     "text": [
      "1\n"
     ]
    }
   ],
   "source": [
    "y_lbl = [np.where(i==np.max(i))[0][0] for i in y_pred]\n",
    "print(y_lbl[1])"
   ]
  },
  {
   "cell_type": "code",
   "execution_count": 44,
   "id": "9cdd9b9b",
   "metadata": {},
   "outputs": [
    {
     "data": {
      "text/plain": [
       "<AxesSubplot:>"
      ]
     },
     "execution_count": 44,
     "metadata": {},
     "output_type": "execute_result"
    },
    {
     "data": {
      "image/png": "[encoded data removed]",
      "text/plain": [
       "<Figure size 576x576 with 2 Axes>"
      ]
     },
     "metadata": {
      "needs_background": "light"
     },
     "output_type": "display_data"
    }
   ],
   "source": [
    "from sklearn.metrics import confusion_matrix\n",
    "mat = confusion_matrix(y_test, y_lbl)\n",
    "fig, ax = plt.subplots(figsize=(8,8))\n",
    "sns.heatmap(mat,annot=True)"
   ]
  },
  {
   "cell_type": "code",
   "execution_count": 46,
   "id": "e92db495",
   "metadata": {},
   "outputs": [
    {
     "name": "stdout",
     "output_type": "stream",
     "text": [
      "Accuracy of the predictions:0.9608821212916776\n"
     ]
    }
   ],
   "source": [
    "from sklearn import metrics\n",
    "print(\"Accuracy of the predictions:{}\".format(metrics.accuracy_score(y_lbl,y_test)))"
   ]
  },
  {
   "cell_type": "markdown",
   "id": "aca6a399",
   "metadata": {},
   "source": [
    "## Testing in test dataset"
   ]
  },
  {
   "cell_type": "code",
   "execution_count": 48,
   "id": "699a0a3e",
   "metadata": {},
   "outputs": [
    {
     "name": "stdout",
     "output_type": "stream",
     "text": [
      "..\\data\\heartbeat\\mitbih_train.csv\n"
     ]
    }
   ],
   "source": [
    "test_path=os.path.join(raw_data_path,'mitbih_test.csv')\n",
    "print (data_path)"
   ]
  },
  {
   "cell_type": "code",
   "execution_count": 49,
   "id": "1cdea3ff",
   "metadata": {},
   "outputs": [],
   "source": [
    "test_data = pd.read_csv(test_path, header=None)"
   ]
  },
  {
   "cell_type": "code",
   "execution_count": 50,
   "id": "e30249bb",
   "metadata": {},
   "outputs": [
    {
     "data": {
      "text/html": [
       "<div>\n",
       "<style scoped>\n",
       "    .dataframe tbody tr th:only-of-type {\n",
       "        vertical-align: middle;\n",
       "    }\n",
       "\n",
       "    .dataframe tbody tr th {\n",
       "        vertical-align: top;\n",
       "    }\n",
       "\n",
       "    .dataframe thead th {\n",
       "        text-align: right;\n",
       "    }\n",
       "</style>\n",
       "<table border=\"1\" class=\"dataframe\">\n",
       "  <thead>\n",
       "    <tr style=\"text-align: right;\">\n",
       "      <th></th>\n",
       "      <th>0</th>\n",
       "      <th>1</th>\n",
       "      <th>2</th>\n",
       "      <th>3</th>\n",
       "      <th>4</th>\n",
       "      <th>5</th>\n",
       "      <th>6</th>\n",
       "      <th>7</th>\n",
       "      <th>8</th>\n",
       "      <th>9</th>\n",
       "      <th>...</th>\n",
       "      <th>178</th>\n",
       "      <th>179</th>\n",
       "      <th>180</th>\n",
       "      <th>181</th>\n",
       "      <th>182</th>\n",
       "      <th>183</th>\n",
       "      <th>184</th>\n",
       "      <th>185</th>\n",
       "      <th>186</th>\n",
       "      <th>187</th>\n",
       "    </tr>\n",
       "  </thead>\n",
       "  <tbody>\n",
       "    <tr>\n",
       "      <th>0</th>\n",
       "      <td>1.000000</td>\n",
       "      <td>0.758264</td>\n",
       "      <td>0.111570</td>\n",
       "      <td>0.000000</td>\n",
       "      <td>0.080579</td>\n",
       "      <td>0.078512</td>\n",
       "      <td>0.066116</td>\n",
       "      <td>0.049587</td>\n",
       "      <td>0.047521</td>\n",
       "      <td>0.035124</td>\n",
       "      <td>...</td>\n",
       "      <td>0.0</td>\n",
       "      <td>0.0</td>\n",
       "      <td>0.0</td>\n",
       "      <td>0.0</td>\n",
       "      <td>0.0</td>\n",
       "      <td>0.0</td>\n",
       "      <td>0.0</td>\n",
       "      <td>0.0</td>\n",
       "      <td>0.0</td>\n",
       "      <td>0.0</td>\n",
       "    </tr>\n",
       "    <tr>\n",
       "      <th>1</th>\n",
       "      <td>0.908425</td>\n",
       "      <td>0.783883</td>\n",
       "      <td>0.531136</td>\n",
       "      <td>0.362637</td>\n",
       "      <td>0.366300</td>\n",
       "      <td>0.344322</td>\n",
       "      <td>0.333333</td>\n",
       "      <td>0.307692</td>\n",
       "      <td>0.296703</td>\n",
       "      <td>0.300366</td>\n",
       "      <td>...</td>\n",
       "      <td>0.0</td>\n",
       "      <td>0.0</td>\n",
       "      <td>0.0</td>\n",
       "      <td>0.0</td>\n",
       "      <td>0.0</td>\n",
       "      <td>0.0</td>\n",
       "      <td>0.0</td>\n",
       "      <td>0.0</td>\n",
       "      <td>0.0</td>\n",
       "      <td>0.0</td>\n",
       "    </tr>\n",
       "    <tr>\n",
       "      <th>2</th>\n",
       "      <td>0.730088</td>\n",
       "      <td>0.212389</td>\n",
       "      <td>0.000000</td>\n",
       "      <td>0.119469</td>\n",
       "      <td>0.101770</td>\n",
       "      <td>0.101770</td>\n",
       "      <td>0.110619</td>\n",
       "      <td>0.123894</td>\n",
       "      <td>0.115044</td>\n",
       "      <td>0.132743</td>\n",
       "      <td>...</td>\n",
       "      <td>0.0</td>\n",
       "      <td>0.0</td>\n",
       "      <td>0.0</td>\n",
       "      <td>0.0</td>\n",
       "      <td>0.0</td>\n",
       "      <td>0.0</td>\n",
       "      <td>0.0</td>\n",
       "      <td>0.0</td>\n",
       "      <td>0.0</td>\n",
       "      <td>0.0</td>\n",
       "    </tr>\n",
       "    <tr>\n",
       "      <th>3</th>\n",
       "      <td>1.000000</td>\n",
       "      <td>0.910417</td>\n",
       "      <td>0.681250</td>\n",
       "      <td>0.472917</td>\n",
       "      <td>0.229167</td>\n",
       "      <td>0.068750</td>\n",
       "      <td>0.000000</td>\n",
       "      <td>0.004167</td>\n",
       "      <td>0.014583</td>\n",
       "      <td>0.054167</td>\n",
       "      <td>...</td>\n",
       "      <td>0.0</td>\n",
       "      <td>0.0</td>\n",
       "      <td>0.0</td>\n",
       "      <td>0.0</td>\n",
       "      <td>0.0</td>\n",
       "      <td>0.0</td>\n",
       "      <td>0.0</td>\n",
       "      <td>0.0</td>\n",
       "      <td>0.0</td>\n",
       "      <td>0.0</td>\n",
       "    </tr>\n",
       "    <tr>\n",
       "      <th>4</th>\n",
       "      <td>0.570470</td>\n",
       "      <td>0.399329</td>\n",
       "      <td>0.238255</td>\n",
       "      <td>0.147651</td>\n",
       "      <td>0.000000</td>\n",
       "      <td>0.003356</td>\n",
       "      <td>0.040268</td>\n",
       "      <td>0.080537</td>\n",
       "      <td>0.070470</td>\n",
       "      <td>0.090604</td>\n",
       "      <td>...</td>\n",
       "      <td>0.0</td>\n",
       "      <td>0.0</td>\n",
       "      <td>0.0</td>\n",
       "      <td>0.0</td>\n",
       "      <td>0.0</td>\n",
       "      <td>0.0</td>\n",
       "      <td>0.0</td>\n",
       "      <td>0.0</td>\n",
       "      <td>0.0</td>\n",
       "      <td>0.0</td>\n",
       "    </tr>\n",
       "  </tbody>\n",
       "</table>\n",
       "<p>5 rows × 188 columns</p>\n",
       "</div>"
      ],
      "text/plain": [
       "        0         1         2         3         4         5         6    \\\n",
       "0  1.000000  0.758264  0.111570  0.000000  0.080579  0.078512  0.066116   \n",
       "1  0.908425  0.783883  0.531136  0.362637  0.366300  0.344322  0.333333   \n",
       "2  0.730088  0.212389  0.000000  0.119469  0.101770  0.101770  0.110619   \n",
       "3  1.000000  0.910417  0.681250  0.472917  0.229167  0.068750  0.000000   \n",
       "4  0.570470  0.399329  0.238255  0.147651  0.000000  0.003356  0.040268   \n",
       "\n",
       "        7         8         9    ...  178  179  180  181  182  183  184  185  \\\n",
       "0  0.049587  0.047521  0.035124  ...  0.0  0.0  0.0  0.0  0.0  0.0  0.0  0.0   \n",
       "1  0.307692  0.296703  0.300366  ...  0.0  0.0  0.0  0.0  0.0  0.0  0.0  0.0   \n",
       "2  0.123894  0.115044  0.132743  ...  0.0  0.0  0.0  0.0  0.0  0.0  0.0  0.0   \n",
       "3  0.004167  0.014583  0.054167  ...  0.0  0.0  0.0  0.0  0.0  0.0  0.0  0.0   \n",
       "4  0.080537  0.070470  0.090604  ...  0.0  0.0  0.0  0.0  0.0  0.0  0.0  0.0   \n",
       "\n",
       "   186  187  \n",
       "0  0.0  0.0  \n",
       "1  0.0  0.0  \n",
       "2  0.0  0.0  \n",
       "3  0.0  0.0  \n",
       "4  0.0  0.0  \n",
       "\n",
       "[5 rows x 188 columns]"
      ]
     },
     "execution_count": 50,
     "metadata": {},
     "output_type": "execute_result"
    }
   ],
   "source": [
    "test_df = pd.DataFrame(test_data)\n",
    "test_df.head()"
   ]
  },
  {
   "cell_type": "code",
   "execution_count": 51,
   "id": "1ccaeb97",
   "metadata": {},
   "outputs": [
    {
     "data": {
      "text/plain": [
       "<AxesSubplot:xlabel='187', ylabel='count'>"
      ]
     },
     "execution_count": 51,
     "metadata": {},
     "output_type": "execute_result"
    },
    {
     "data": {
      "image/png": "[encoded data removed]",
      "text/plain": [
       "<Figure size 432x288 with 1 Axes>"
      ]
     },
     "metadata": {
      "needs_background": "light"
     },
     "output_type": "display_data"
    }
   ],
   "source": [
    "sns.countplot(x=187, data = test_df)"
   ]
  },
  {
   "cell_type": "code",
   "execution_count": 52,
   "id": "1e86495e",
   "metadata": {},
   "outputs": [],
   "source": [
    "test_X = test_df.drop([187], axis =1)\n",
    "test_y = test_df[187]\n",
    "test_X = np.array(test_X).reshape(test_X.shape[0], test_X.shape[1], 1)"
   ]
  },
  {
   "cell_type": "code",
   "execution_count": 54,
   "id": "5a406210",
   "metadata": {},
   "outputs": [],
   "source": [
    "test_pred_y = model.predict(test_X)\n",
    "test_lbl_y = [np.where(i==np.max(i))[0][0] for i in test_pred_y]"
   ]
  },
  {
   "cell_type": "code",
   "execution_count": 55,
   "id": "587ebe67",
   "metadata": {},
   "outputs": [
    {
     "data": {
      "text/plain": [
       "<AxesSubplot:>"
      ]
     },
     "execution_count": 55,
     "metadata": {},
     "output_type": "execute_result"
    },
    {
     "data": {
      "image/png": "[encoded data removed]",
      "text/plain": [
       "<Figure size 576x576 with 2 Axes>"
      ]
     },
     "metadata": {
      "needs_background": "light"
     },
     "output_type": "display_data"
    }
   ],
   "source": [
    "mat = confusion_matrix(test_y, test_lbl_y)\n",
    "fig, ax = plt.subplots(figsize=(8,8))\n",
    "sns.heatmap(mat,annot=True)"
   ]
  },
  {
   "cell_type": "code",
   "execution_count": 57,
   "id": "0361cbce",
   "metadata": {},
   "outputs": [
    {
     "name": "stdout",
     "output_type": "stream",
     "text": [
      "Accuracy of the predictions:0.9676594189658323\n"
     ]
    }
   ],
   "source": [
    "print(\"Accuracy of the predictions:{}\".format(metrics.accuracy_score(test_lbl_y,test_y)))"
   ]
  },
  {
   "cell_type": "markdown",
   "id": "fe8b890a",
   "metadata": {},
   "source": [
    "## Test Individual"
   ]
  },
  {
   "cell_type": "code",
   "execution_count": 58,
   "id": "526a8ed9",
   "metadata": {},
   "outputs": [
    {
     "name": "stdout",
     "output_type": "stream",
     "text": [
      "Number of Chart8787\n"
     ]
    },
    {
     "data": {
      "text/plain": [
       "Text(0.5, 0, 'prediction of patient 8787:class0')"
      ]
     },
     "execution_count": 58,
     "metadata": {},
     "output_type": "execute_result"
    },
    {
     "data": {
      "image/png": "[encoded data removed]",
      "text/plain": [
       "<Figure size 432x288 with 1 Axes>"
      ]
     },
     "metadata": {
      "needs_background": "light"
     },
     "output_type": "display_data"
    }
   ],
   "source": [
    "test_number = int(input(\"Number of Chart\"))\n",
    "plt.plot(test_data.iloc[test_number])\n",
    "plt.xlabel(\"prediction of patient {}:class{}\".format(test_number, test_lbl_y[test_number]))"
   ]
  },
  {
   "cell_type": "code",
   "execution_count": null,
   "id": "543ca4ae",
   "metadata": {},
   "outputs": [],
   "source": []
  }
 ],
 "metadata": {
  "kernelspec": {
   "display_name": "Python 3 (ipykernel)",
   "language": "python",
   "name": "python3"
  },
  "language_info": {
   "codemirror_mode": {
    "name": "ipython",
    "version": 3
   },
   "file_extension": ".py",
   "mimetype": "text/x-python",
   "name": "python",
   "nbconvert_exporter": "python",
   "pygments_lexer": "ipython3",
   "version": "3.9.6"
  }
 },
 "nbformat": 4,
 "nbformat_minor": 5
}
