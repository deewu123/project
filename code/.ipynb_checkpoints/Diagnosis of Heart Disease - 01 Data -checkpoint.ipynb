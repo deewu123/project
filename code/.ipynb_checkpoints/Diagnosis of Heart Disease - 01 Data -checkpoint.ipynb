{
 "cells": [
  {
   "cell_type": "markdown",
   "id": "2872855c",
   "metadata": {},
   "source": [
    "# Exploring and Processing Data - Part 1"
   ]
  },
  {
   "cell_type": "code",
   "execution_count": 1,
   "id": "088c019e",
   "metadata": {},
   "outputs": [],
   "source": [
    "import pandas as pd\n",
    "import numpy as np\n",
    "import os\n",
    "import warnings\n",
    "warnings.filterwarnings(\"ignore\")"
   ]
  },
  {
   "cell_type": "markdown",
   "id": "31a5b838",
   "metadata": {},
   "source": [
    "## Import Data"
   ]
  },
  {
   "cell_type": "code",
   "execution_count": 2,
   "id": "36a64752",
   "metadata": {},
   "outputs": [
    {
     "name": "stdout",
     "output_type": "stream",
     "text": [
      "..\\data\\raw\\hungarian.processed.data\n",
      "..\\data\\raw\\cleveland.processed.data\n"
     ]
    }
   ],
   "source": [
    "# set the path of the raw data\n",
    "raw_data_path=os.path.join(os.path.pardir,'data','raw')\n",
    "train_file_path=os.path.join(raw_data_path,'hungarian.processed.data')\n",
    "test_file_path=os.path.join(raw_data_path,'cleveland.processed.data')\n",
    "print (train_file_path)\n",
    "print (test_file_path)"
   ]
  },
  {
   "cell_type": "code",
   "execution_count": 3,
   "id": "4d4f5efe",
   "metadata": {},
   "outputs": [],
   "source": [
    "# read the data with all default parameters\n",
    "train_df=pd.read_csv(train_file_path, header=None)\n",
    "test_df=pd.read_csv(test_file_path, header=None)\n"
   ]
  },
  {
   "cell_type": "code",
   "execution_count": 4,
   "id": "bf4a2c0f",
   "metadata": {
    "scrolled": false
   },
   "outputs": [],
   "source": [
    "# read the data with all default parameters\n",
    "train_df.columns=[\"age\",\"sex\",\"cp\",\"trestbps\",\"chol\",\"fbs\",\"restecg\",\"thalach\",\"exang\",\"oldpeak\",\"slope\",\"ca\",\"thal\",\"num\"]\n",
    "test_df.columns=[\"age\",\"sex\",\"cp\",\"trestbps\",\"chol\",\"fbs\",\"restecg\",\"thalach\",\"exang\",\"oldpeak\",\"slope\",\"ca\",\"thal\",\"num\"]\n"
   ]
  },
  {
   "cell_type": "code",
   "execution_count": 5,
   "id": "662dd727",
   "metadata": {},
   "outputs": [
    {
     "data": {
      "text/plain": [
       "pandas.core.frame.DataFrame"
      ]
     },
     "execution_count": 5,
     "metadata": {},
     "output_type": "execute_result"
    }
   ],
   "source": [
    "type(train_df)"
   ]
  },
  {
   "cell_type": "code",
   "execution_count": 6,
   "id": "58ab6217",
   "metadata": {},
   "outputs": [
    {
     "data": {
      "text/html": [
       "<div>\n",
       "<style scoped>\n",
       "    .dataframe tbody tr th:only-of-type {\n",
       "        vertical-align: middle;\n",
       "    }\n",
       "\n",
       "    .dataframe tbody tr th {\n",
       "        vertical-align: top;\n",
       "    }\n",
       "\n",
       "    .dataframe thead th {\n",
       "        text-align: right;\n",
       "    }\n",
       "</style>\n",
       "<table border=\"1\" class=\"dataframe\">\n",
       "  <thead>\n",
       "    <tr style=\"text-align: right;\">\n",
       "      <th></th>\n",
       "      <th>age</th>\n",
       "      <th>sex</th>\n",
       "      <th>cp</th>\n",
       "      <th>trestbps</th>\n",
       "      <th>chol</th>\n",
       "      <th>fbs</th>\n",
       "      <th>restecg</th>\n",
       "      <th>thalach</th>\n",
       "      <th>exang</th>\n",
       "      <th>oldpeak</th>\n",
       "      <th>slope</th>\n",
       "      <th>ca</th>\n",
       "      <th>thal</th>\n",
       "      <th>num</th>\n",
       "    </tr>\n",
       "  </thead>\n",
       "  <tbody>\n",
       "    <tr>\n",
       "      <th>0</th>\n",
       "      <td>28</td>\n",
       "      <td>1</td>\n",
       "      <td>2</td>\n",
       "      <td>130</td>\n",
       "      <td>132</td>\n",
       "      <td>0</td>\n",
       "      <td>2</td>\n",
       "      <td>185</td>\n",
       "      <td>0</td>\n",
       "      <td>0.0</td>\n",
       "      <td>?</td>\n",
       "      <td>?</td>\n",
       "      <td>?</td>\n",
       "      <td>0</td>\n",
       "    </tr>\n",
       "    <tr>\n",
       "      <th>1</th>\n",
       "      <td>29</td>\n",
       "      <td>1</td>\n",
       "      <td>2</td>\n",
       "      <td>120</td>\n",
       "      <td>243</td>\n",
       "      <td>0</td>\n",
       "      <td>0</td>\n",
       "      <td>160</td>\n",
       "      <td>0</td>\n",
       "      <td>0.0</td>\n",
       "      <td>?</td>\n",
       "      <td>?</td>\n",
       "      <td>?</td>\n",
       "      <td>0</td>\n",
       "    </tr>\n",
       "    <tr>\n",
       "      <th>2</th>\n",
       "      <td>29</td>\n",
       "      <td>1</td>\n",
       "      <td>2</td>\n",
       "      <td>140</td>\n",
       "      <td>?</td>\n",
       "      <td>0</td>\n",
       "      <td>0</td>\n",
       "      <td>170</td>\n",
       "      <td>0</td>\n",
       "      <td>0.0</td>\n",
       "      <td>?</td>\n",
       "      <td>?</td>\n",
       "      <td>?</td>\n",
       "      <td>0</td>\n",
       "    </tr>\n",
       "    <tr>\n",
       "      <th>3</th>\n",
       "      <td>30</td>\n",
       "      <td>0</td>\n",
       "      <td>1</td>\n",
       "      <td>170</td>\n",
       "      <td>237</td>\n",
       "      <td>0</td>\n",
       "      <td>1</td>\n",
       "      <td>170</td>\n",
       "      <td>0</td>\n",
       "      <td>0.0</td>\n",
       "      <td>?</td>\n",
       "      <td>?</td>\n",
       "      <td>6</td>\n",
       "      <td>0</td>\n",
       "    </tr>\n",
       "    <tr>\n",
       "      <th>4</th>\n",
       "      <td>31</td>\n",
       "      <td>0</td>\n",
       "      <td>2</td>\n",
       "      <td>100</td>\n",
       "      <td>219</td>\n",
       "      <td>0</td>\n",
       "      <td>1</td>\n",
       "      <td>150</td>\n",
       "      <td>0</td>\n",
       "      <td>0.0</td>\n",
       "      <td>?</td>\n",
       "      <td>?</td>\n",
       "      <td>?</td>\n",
       "      <td>0</td>\n",
       "    </tr>\n",
       "  </tbody>\n",
       "</table>\n",
       "</div>"
      ],
      "text/plain": [
       "   age  sex  cp trestbps chol fbs restecg thalach exang  oldpeak slope ca  \\\n",
       "0   28    1   2      130  132   0       2     185     0      0.0     ?  ?   \n",
       "1   29    1   2      120  243   0       0     160     0      0.0     ?  ?   \n",
       "2   29    1   2      140    ?   0       0     170     0      0.0     ?  ?   \n",
       "3   30    0   1      170  237   0       1     170     0      0.0     ?  ?   \n",
       "4   31    0   2      100  219   0       1     150     0      0.0     ?  ?   \n",
       "\n",
       "  thal  num  \n",
       "0    ?    0  \n",
       "1    ?    0  \n",
       "2    ?    0  \n",
       "3    6    0  \n",
       "4    ?    0  "
      ]
     },
     "execution_count": 6,
     "metadata": {},
     "output_type": "execute_result"
    }
   ],
   "source": [
    "train_df.head()"
   ]
  },
  {
   "cell_type": "markdown",
   "id": "9f6c5f08",
   "metadata": {},
   "source": [
    "## 1. Basic Structure"
   ]
  },
  {
   "cell_type": "code",
   "execution_count": 7,
   "id": "5568ec03",
   "metadata": {},
   "outputs": [
    {
     "name": "stdout",
     "output_type": "stream",
     "text": [
      "<class 'pandas.core.frame.DataFrame'>\n",
      "RangeIndex: 294 entries, 0 to 293\n",
      "Data columns (total 14 columns):\n",
      " #   Column    Non-Null Count  Dtype  \n",
      "---  ------    --------------  -----  \n",
      " 0   age       294 non-null    int64  \n",
      " 1   sex       294 non-null    int64  \n",
      " 2   cp        294 non-null    int64  \n",
      " 3   trestbps  294 non-null    object \n",
      " 4   chol      294 non-null    object \n",
      " 5   fbs       294 non-null    object \n",
      " 6   restecg   294 non-null    object \n",
      " 7   thalach   294 non-null    object \n",
      " 8   exang     294 non-null    object \n",
      " 9   oldpeak   294 non-null    float64\n",
      " 10  slope     294 non-null    object \n",
      " 11  ca        294 non-null    object \n",
      " 12  thal      294 non-null    object \n",
      " 13  num       294 non-null    int64  \n",
      "dtypes: float64(1), int64(4), object(9)\n",
      "memory usage: 32.3+ KB\n"
     ]
    }
   ],
   "source": [
    "train_df.info()"
   ]
  },
  {
   "cell_type": "code",
   "execution_count": 8,
   "id": "b2758d77",
   "metadata": {},
   "outputs": [
    {
     "name": "stdout",
     "output_type": "stream",
     "text": [
      "<class 'pandas.core.frame.DataFrame'>\n",
      "RangeIndex: 303 entries, 0 to 302\n",
      "Data columns (total 14 columns):\n",
      " #   Column    Non-Null Count  Dtype  \n",
      "---  ------    --------------  -----  \n",
      " 0   age       303 non-null    float64\n",
      " 1   sex       303 non-null    float64\n",
      " 2   cp        303 non-null    float64\n",
      " 3   trestbps  303 non-null    float64\n",
      " 4   chol      303 non-null    float64\n",
      " 5   fbs       303 non-null    float64\n",
      " 6   restecg   303 non-null    float64\n",
      " 7   thalach   303 non-null    float64\n",
      " 8   exang     303 non-null    float64\n",
      " 9   oldpeak   303 non-null    float64\n",
      " 10  slope     303 non-null    float64\n",
      " 11  ca        303 non-null    object \n",
      " 12  thal      303 non-null    object \n",
      " 13  num       303 non-null    int64  \n",
      "dtypes: float64(11), int64(1), object(2)\n",
      "memory usage: 33.3+ KB\n"
     ]
    }
   ],
   "source": [
    "test_df.info()"
   ]
  },
  {
   "cell_type": "code",
   "execution_count": 9,
   "id": "7e5e656f",
   "metadata": {},
   "outputs": [],
   "source": [
    "# Adding diagnosed with actual result\n",
    "train_df['diagnosed'] = train_df['num'].apply(lambda x: 0 if x == 0 else 1)"
   ]
  },
  {
   "cell_type": "code",
   "execution_count": 10,
   "id": "dc691881",
   "metadata": {},
   "outputs": [],
   "source": [
    "test_df[\"diagnosed\"] = -888 # Adding Survived with a default value"
   ]
  },
  {
   "cell_type": "code",
   "execution_count": 11,
   "id": "919fce5a",
   "metadata": {},
   "outputs": [],
   "source": [
    "df = pd.concat((train_df, test_df))"
   ]
  },
  {
   "cell_type": "code",
   "execution_count": 12,
   "id": "925ff0a5",
   "metadata": {
    "scrolled": true
   },
   "outputs": [
    {
     "name": "stdout",
     "output_type": "stream",
     "text": [
      "<class 'pandas.core.frame.DataFrame'>\n",
      "Int64Index: 597 entries, 0 to 302\n",
      "Data columns (total 15 columns):\n",
      " #   Column     Non-Null Count  Dtype  \n",
      "---  ------     --------------  -----  \n",
      " 0   age        597 non-null    float64\n",
      " 1   sex        597 non-null    float64\n",
      " 2   cp         597 non-null    float64\n",
      " 3   trestbps   597 non-null    object \n",
      " 4   chol       597 non-null    object \n",
      " 5   fbs        597 non-null    object \n",
      " 6   restecg    597 non-null    object \n",
      " 7   thalach    597 non-null    object \n",
      " 8   exang      597 non-null    object \n",
      " 9   oldpeak    597 non-null    float64\n",
      " 10  slope      597 non-null    object \n",
      " 11  ca         597 non-null    object \n",
      " 12  thal       597 non-null    object \n",
      " 13  num        597 non-null    int64  \n",
      " 14  diagnosed  597 non-null    int64  \n",
      "dtypes: float64(4), int64(2), object(9)\n",
      "memory usage: 74.6+ KB\n"
     ]
    }
   ],
   "source": [
    "df.info()"
   ]
  },
  {
   "cell_type": "markdown",
   "id": "5bcae472",
   "metadata": {},
   "source": [
    "## 2. Summary Statistics"
   ]
  },
  {
   "cell_type": "code",
   "execution_count": 13,
   "id": "618effb9",
   "metadata": {},
   "outputs": [
    {
     "data": {
      "text/html": [
       "<div>\n",
       "<style scoped>\n",
       "    .dataframe tbody tr th:only-of-type {\n",
       "        vertical-align: middle;\n",
       "    }\n",
       "\n",
       "    .dataframe tbody tr th {\n",
       "        vertical-align: top;\n",
       "    }\n",
       "\n",
       "    .dataframe thead th {\n",
       "        text-align: right;\n",
       "    }\n",
       "</style>\n",
       "<table border=\"1\" class=\"dataframe\">\n",
       "  <thead>\n",
       "    <tr style=\"text-align: right;\">\n",
       "      <th></th>\n",
       "      <th>age</th>\n",
       "      <th>sex</th>\n",
       "      <th>cp</th>\n",
       "      <th>oldpeak</th>\n",
       "      <th>num</th>\n",
       "      <th>diagnosed</th>\n",
       "    </tr>\n",
       "  </thead>\n",
       "  <tbody>\n",
       "    <tr>\n",
       "      <th>count</th>\n",
       "      <td>597.000000</td>\n",
       "      <td>597.000000</td>\n",
       "      <td>597.000000</td>\n",
       "      <td>597.000000</td>\n",
       "      <td>597.000000</td>\n",
       "      <td>597.000000</td>\n",
       "    </tr>\n",
       "    <tr>\n",
       "      <th>mean</th>\n",
       "      <td>51.182580</td>\n",
       "      <td>0.701843</td>\n",
       "      <td>3.072027</td>\n",
       "      <td>0.816248</td>\n",
       "      <td>0.653266</td>\n",
       "      <td>-450.515913</td>\n",
       "    </tr>\n",
       "    <tr>\n",
       "      <th>std</th>\n",
       "      <td>9.074366</td>\n",
       "      <td>0.457833</td>\n",
       "      <td>0.965776</td>\n",
       "      <td>1.067938</td>\n",
       "      <td>0.980708</td>\n",
       "      <td>444.502359</td>\n",
       "    </tr>\n",
       "    <tr>\n",
       "      <th>min</th>\n",
       "      <td>28.000000</td>\n",
       "      <td>0.000000</td>\n",
       "      <td>1.000000</td>\n",
       "      <td>0.000000</td>\n",
       "      <td>0.000000</td>\n",
       "      <td>-888.000000</td>\n",
       "    </tr>\n",
       "    <tr>\n",
       "      <th>25%</th>\n",
       "      <td>44.000000</td>\n",
       "      <td>0.000000</td>\n",
       "      <td>2.000000</td>\n",
       "      <td>0.000000</td>\n",
       "      <td>0.000000</td>\n",
       "      <td>-888.000000</td>\n",
       "    </tr>\n",
       "    <tr>\n",
       "      <th>50%</th>\n",
       "      <td>52.000000</td>\n",
       "      <td>1.000000</td>\n",
       "      <td>3.000000</td>\n",
       "      <td>0.200000</td>\n",
       "      <td>0.000000</td>\n",
       "      <td>-888.000000</td>\n",
       "    </tr>\n",
       "    <tr>\n",
       "      <th>75%</th>\n",
       "      <td>58.000000</td>\n",
       "      <td>1.000000</td>\n",
       "      <td>4.000000</td>\n",
       "      <td>1.500000</td>\n",
       "      <td>1.000000</td>\n",
       "      <td>0.000000</td>\n",
       "    </tr>\n",
       "    <tr>\n",
       "      <th>max</th>\n",
       "      <td>77.000000</td>\n",
       "      <td>1.000000</td>\n",
       "      <td>4.000000</td>\n",
       "      <td>6.200000</td>\n",
       "      <td>4.000000</td>\n",
       "      <td>1.000000</td>\n",
       "    </tr>\n",
       "  </tbody>\n",
       "</table>\n",
       "</div>"
      ],
      "text/plain": [
       "              age         sex          cp     oldpeak         num   diagnosed\n",
       "count  597.000000  597.000000  597.000000  597.000000  597.000000  597.000000\n",
       "mean    51.182580    0.701843    3.072027    0.816248    0.653266 -450.515913\n",
       "std      9.074366    0.457833    0.965776    1.067938    0.980708  444.502359\n",
       "min     28.000000    0.000000    1.000000    0.000000    0.000000 -888.000000\n",
       "25%     44.000000    0.000000    2.000000    0.000000    0.000000 -888.000000\n",
       "50%     52.000000    1.000000    3.000000    0.200000    0.000000 -888.000000\n",
       "75%     58.000000    1.000000    4.000000    1.500000    1.000000    0.000000\n",
       "max     77.000000    1.000000    4.000000    6.200000    4.000000    1.000000"
      ]
     },
     "execution_count": 13,
     "metadata": {},
     "output_type": "execute_result"
    }
   ],
   "source": [
    "df.describe()"
   ]
  },
  {
   "cell_type": "code",
   "execution_count": 14,
   "id": "6414e27f",
   "metadata": {},
   "outputs": [
    {
     "name": "stdout",
     "output_type": "stream",
     "text": [
      "Mean age : 51.18257956448911\n",
      "Median age : 52.0\n"
     ]
    }
   ],
   "source": [
    "# numerical feature\n",
    "# centrality measures\n",
    "print(\"Mean age : {0}\".format(df.age.mean())) #mean\n",
    "print(\"Median age : {0}\".format(df.age.median())) #median\n"
   ]
  },
  {
   "cell_type": "code",
   "execution_count": 15,
   "id": "bc625be0",
   "metadata": {},
   "outputs": [
    {
     "name": "stdout",
     "output_type": "stream",
     "text": [
      "Min age:28.0\n",
      "Max age:77.0\n",
      "Age range:49.0\n",
      "25 percentile:44.0\n",
      "50 percentile:52.0\n",
      "75 percentile:58.0\n",
      "Variance age:82.34412554944747\n",
      "Standard deviation age:9.074366399338714\n"
     ]
    }
   ],
   "source": [
    "# dispersion measures\n",
    "print(\"Min age:{0}\".format(df.age.min())) # minimum\n",
    "print(\"Max age:{0}\".format(df.age.max())) # maximum\n",
    "print(\"Age range:{0}\".format(df.age.max()-df.age.min())) # range\n",
    "print(\"25 percentile:{0}\".format(df.age.quantile(.25))) #25 percentile\n",
    "print(\"50 percentile:{0}\".format(df.age.quantile(.50))) #50 percentile\n",
    "print(\"75 percentile:{0}\".format(df.age.quantile(.75))) #75 percentile\n",
    "print(\"Variance age:{0}\".format(df.age.var())) # variance\n",
    "print(\"Standard deviation age:{0}\".format(df.age.std())) # standard deviation\n"
   ]
  },
  {
   "cell_type": "markdown",
   "id": "f0a6cbe5",
   "metadata": {},
   "source": [
    "## 3. Distribution"
   ]
  },
  {
   "cell_type": "code",
   "execution_count": 16,
   "id": "6ff6b81d",
   "metadata": {},
   "outputs": [],
   "source": [
    "%matplotlib inline"
   ]
  },
  {
   "cell_type": "code",
   "execution_count": 17,
   "id": "2790cbcf",
   "metadata": {},
   "outputs": [
    {
     "data": {
      "text/plain": [
       "<AxesSubplot:>"
      ]
     },
     "execution_count": 17,
     "metadata": {},
     "output_type": "execute_result"
    },
    {
     "data": {
      "image/png": "[encoded data removed]",
      "text/plain": [
       "<Figure size 432x288 with 1 Axes>"
      ]
     },
     "metadata": {
      "needs_background": "light"
     },
     "output_type": "display_data"
    }
   ],
   "source": [
    "# box-whisker plot\n",
    "df.age.plot(kind=\"box\")"
   ]
  },
  {
   "cell_type": "code",
   "execution_count": 18,
   "id": "a7acdf1f",
   "metadata": {},
   "outputs": [
    {
     "data": {
      "text/html": [
       "<div>\n",
       "<style scoped>\n",
       "    .dataframe tbody tr th:only-of-type {\n",
       "        vertical-align: middle;\n",
       "    }\n",
       "\n",
       "    .dataframe tbody tr th {\n",
       "        vertical-align: top;\n",
       "    }\n",
       "\n",
       "    .dataframe thead th {\n",
       "        text-align: right;\n",
       "    }\n",
       "</style>\n",
       "<table border=\"1\" class=\"dataframe\">\n",
       "  <thead>\n",
       "    <tr style=\"text-align: right;\">\n",
       "      <th></th>\n",
       "      <th>age</th>\n",
       "      <th>sex</th>\n",
       "      <th>cp</th>\n",
       "      <th>trestbps</th>\n",
       "      <th>chol</th>\n",
       "      <th>fbs</th>\n",
       "      <th>restecg</th>\n",
       "      <th>thalach</th>\n",
       "      <th>exang</th>\n",
       "      <th>oldpeak</th>\n",
       "      <th>slope</th>\n",
       "      <th>ca</th>\n",
       "      <th>thal</th>\n",
       "      <th>num</th>\n",
       "      <th>diagnosed</th>\n",
       "    </tr>\n",
       "  </thead>\n",
       "  <tbody>\n",
       "    <tr>\n",
       "      <th>count</th>\n",
       "      <td>597.000000</td>\n",
       "      <td>597.000000</td>\n",
       "      <td>597.000000</td>\n",
       "      <td>597</td>\n",
       "      <td>597</td>\n",
       "      <td>597</td>\n",
       "      <td>597</td>\n",
       "      <td>597</td>\n",
       "      <td>597.0</td>\n",
       "      <td>597.000000</td>\n",
       "      <td>597</td>\n",
       "      <td>597</td>\n",
       "      <td>597</td>\n",
       "      <td>597.000000</td>\n",
       "      <td>597.000000</td>\n",
       "    </tr>\n",
       "    <tr>\n",
       "      <th>unique</th>\n",
       "      <td>NaN</td>\n",
       "      <td>NaN</td>\n",
       "      <td>NaN</td>\n",
       "      <td>82</td>\n",
       "      <td>306</td>\n",
       "      <td>5</td>\n",
       "      <td>7</td>\n",
       "      <td>163</td>\n",
       "      <td>5.0</td>\n",
       "      <td>NaN</td>\n",
       "      <td>7</td>\n",
       "      <td>6</td>\n",
       "      <td>7</td>\n",
       "      <td>NaN</td>\n",
       "      <td>NaN</td>\n",
       "    </tr>\n",
       "    <tr>\n",
       "      <th>top</th>\n",
       "      <td>NaN</td>\n",
       "      <td>NaN</td>\n",
       "      <td>NaN</td>\n",
       "      <td>120</td>\n",
       "      <td>?</td>\n",
       "      <td>0</td>\n",
       "      <td>0</td>\n",
       "      <td>150</td>\n",
       "      <td>0.0</td>\n",
       "      <td>NaN</td>\n",
       "      <td>?</td>\n",
       "      <td>?</td>\n",
       "      <td>?</td>\n",
       "      <td>NaN</td>\n",
       "      <td>NaN</td>\n",
       "    </tr>\n",
       "    <tr>\n",
       "      <th>freq</th>\n",
       "      <td>NaN</td>\n",
       "      <td>NaN</td>\n",
       "      <td>NaN</td>\n",
       "      <td>65</td>\n",
       "      <td>23</td>\n",
       "      <td>266</td>\n",
       "      <td>235</td>\n",
       "      <td>29</td>\n",
       "      <td>204.0</td>\n",
       "      <td>NaN</td>\n",
       "      <td>190</td>\n",
       "      <td>295</td>\n",
       "      <td>268</td>\n",
       "      <td>NaN</td>\n",
       "      <td>NaN</td>\n",
       "    </tr>\n",
       "    <tr>\n",
       "      <th>mean</th>\n",
       "      <td>51.182580</td>\n",
       "      <td>0.701843</td>\n",
       "      <td>3.072027</td>\n",
       "      <td>NaN</td>\n",
       "      <td>NaN</td>\n",
       "      <td>NaN</td>\n",
       "      <td>NaN</td>\n",
       "      <td>NaN</td>\n",
       "      <td>NaN</td>\n",
       "      <td>0.816248</td>\n",
       "      <td>NaN</td>\n",
       "      <td>NaN</td>\n",
       "      <td>NaN</td>\n",
       "      <td>0.653266</td>\n",
       "      <td>-450.515913</td>\n",
       "    </tr>\n",
       "    <tr>\n",
       "      <th>std</th>\n",
       "      <td>9.074366</td>\n",
       "      <td>0.457833</td>\n",
       "      <td>0.965776</td>\n",
       "      <td>NaN</td>\n",
       "      <td>NaN</td>\n",
       "      <td>NaN</td>\n",
       "      <td>NaN</td>\n",
       "      <td>NaN</td>\n",
       "      <td>NaN</td>\n",
       "      <td>1.067938</td>\n",
       "      <td>NaN</td>\n",
       "      <td>NaN</td>\n",
       "      <td>NaN</td>\n",
       "      <td>0.980708</td>\n",
       "      <td>444.502359</td>\n",
       "    </tr>\n",
       "    <tr>\n",
       "      <th>min</th>\n",
       "      <td>28.000000</td>\n",
       "      <td>0.000000</td>\n",
       "      <td>1.000000</td>\n",
       "      <td>NaN</td>\n",
       "      <td>NaN</td>\n",
       "      <td>NaN</td>\n",
       "      <td>NaN</td>\n",
       "      <td>NaN</td>\n",
       "      <td>NaN</td>\n",
       "      <td>0.000000</td>\n",
       "      <td>NaN</td>\n",
       "      <td>NaN</td>\n",
       "      <td>NaN</td>\n",
       "      <td>0.000000</td>\n",
       "      <td>-888.000000</td>\n",
       "    </tr>\n",
       "    <tr>\n",
       "      <th>25%</th>\n",
       "      <td>44.000000</td>\n",
       "      <td>0.000000</td>\n",
       "      <td>2.000000</td>\n",
       "      <td>NaN</td>\n",
       "      <td>NaN</td>\n",
       "      <td>NaN</td>\n",
       "      <td>NaN</td>\n",
       "      <td>NaN</td>\n",
       "      <td>NaN</td>\n",
       "      <td>0.000000</td>\n",
       "      <td>NaN</td>\n",
       "      <td>NaN</td>\n",
       "      <td>NaN</td>\n",
       "      <td>0.000000</td>\n",
       "      <td>-888.000000</td>\n",
       "    </tr>\n",
       "    <tr>\n",
       "      <th>50%</th>\n",
       "      <td>52.000000</td>\n",
       "      <td>1.000000</td>\n",
       "      <td>3.000000</td>\n",
       "      <td>NaN</td>\n",
       "      <td>NaN</td>\n",
       "      <td>NaN</td>\n",
       "      <td>NaN</td>\n",
       "      <td>NaN</td>\n",
       "      <td>NaN</td>\n",
       "      <td>0.200000</td>\n",
       "      <td>NaN</td>\n",
       "      <td>NaN</td>\n",
       "      <td>NaN</td>\n",
       "      <td>0.000000</td>\n",
       "      <td>-888.000000</td>\n",
       "    </tr>\n",
       "    <tr>\n",
       "      <th>75%</th>\n",
       "      <td>58.000000</td>\n",
       "      <td>1.000000</td>\n",
       "      <td>4.000000</td>\n",
       "      <td>NaN</td>\n",
       "      <td>NaN</td>\n",
       "      <td>NaN</td>\n",
       "      <td>NaN</td>\n",
       "      <td>NaN</td>\n",
       "      <td>NaN</td>\n",
       "      <td>1.500000</td>\n",
       "      <td>NaN</td>\n",
       "      <td>NaN</td>\n",
       "      <td>NaN</td>\n",
       "      <td>1.000000</td>\n",
       "      <td>0.000000</td>\n",
       "    </tr>\n",
       "    <tr>\n",
       "      <th>max</th>\n",
       "      <td>77.000000</td>\n",
       "      <td>1.000000</td>\n",
       "      <td>4.000000</td>\n",
       "      <td>NaN</td>\n",
       "      <td>NaN</td>\n",
       "      <td>NaN</td>\n",
       "      <td>NaN</td>\n",
       "      <td>NaN</td>\n",
       "      <td>NaN</td>\n",
       "      <td>6.200000</td>\n",
       "      <td>NaN</td>\n",
       "      <td>NaN</td>\n",
       "      <td>NaN</td>\n",
       "      <td>4.000000</td>\n",
       "      <td>1.000000</td>\n",
       "    </tr>\n",
       "  </tbody>\n",
       "</table>\n",
       "</div>"
      ],
      "text/plain": [
       "               age         sex          cp trestbps chol  fbs restecg thalach  \\\n",
       "count   597.000000  597.000000  597.000000      597  597  597     597     597   \n",
       "unique         NaN         NaN         NaN       82  306    5       7     163   \n",
       "top            NaN         NaN         NaN      120    ?    0       0     150   \n",
       "freq           NaN         NaN         NaN       65   23  266     235      29   \n",
       "mean     51.182580    0.701843    3.072027      NaN  NaN  NaN     NaN     NaN   \n",
       "std       9.074366    0.457833    0.965776      NaN  NaN  NaN     NaN     NaN   \n",
       "min      28.000000    0.000000    1.000000      NaN  NaN  NaN     NaN     NaN   \n",
       "25%      44.000000    0.000000    2.000000      NaN  NaN  NaN     NaN     NaN   \n",
       "50%      52.000000    1.000000    3.000000      NaN  NaN  NaN     NaN     NaN   \n",
       "75%      58.000000    1.000000    4.000000      NaN  NaN  NaN     NaN     NaN   \n",
       "max      77.000000    1.000000    4.000000      NaN  NaN  NaN     NaN     NaN   \n",
       "\n",
       "        exang     oldpeak slope   ca thal         num   diagnosed  \n",
       "count   597.0  597.000000   597  597  597  597.000000  597.000000  \n",
       "unique    5.0         NaN     7    6    7         NaN         NaN  \n",
       "top       0.0         NaN     ?    ?    ?         NaN         NaN  \n",
       "freq    204.0         NaN   190  295  268         NaN         NaN  \n",
       "mean      NaN    0.816248   NaN  NaN  NaN    0.653266 -450.515913  \n",
       "std       NaN    1.067938   NaN  NaN  NaN    0.980708  444.502359  \n",
       "min       NaN    0.000000   NaN  NaN  NaN    0.000000 -888.000000  \n",
       "25%       NaN    0.000000   NaN  NaN  NaN    0.000000 -888.000000  \n",
       "50%       NaN    0.200000   NaN  NaN  NaN    0.000000 -888.000000  \n",
       "75%       NaN    1.500000   NaN  NaN  NaN    1.000000    0.000000  \n",
       "max       NaN    6.200000   NaN  NaN  NaN    4.000000    1.000000  "
      ]
     },
     "execution_count": 18,
     "metadata": {},
     "output_type": "execute_result"
    }
   ],
   "source": [
    "# use .describe(include=\"all\") to get statistics for all columns including non-numeric ones\n",
    "df.describe(include=\"all\")"
   ]
  },
  {
   "cell_type": "code",
   "execution_count": 19,
   "id": "9ee1920d",
   "metadata": {},
   "outputs": [
    {
     "data": {
      "text/plain": [
       "1.0    419\n",
       "0.0    178\n",
       "Name: sex, dtype: int64"
      ]
     },
     "execution_count": 19,
     "metadata": {},
     "output_type": "execute_result"
    }
   ],
   "source": [
    "# categorical column : Counts\n",
    "df.sex.value_counts()"
   ]
  },
  {
   "cell_type": "code",
   "execution_count": 20,
   "id": "bd9defbd",
   "metadata": {},
   "outputs": [
    {
     "data": {
      "text/plain": [
       "1.0    0.701843\n",
       "0.0    0.298157\n",
       "Name: sex, dtype: float64"
      ]
     },
     "execution_count": 20,
     "metadata": {},
     "output_type": "execute_result"
    }
   ],
   "source": [
    "# categorical column : Proprotions\n",
    "df.sex.value_counts(normalize=True)"
   ]
  },
  {
   "cell_type": "code",
   "execution_count": 21,
   "id": "f96160b1",
   "metadata": {},
   "outputs": [
    {
     "data": {
      "text/plain": [
       "0    188\n",
       "1    106\n",
       "Name: diagnosed, dtype: int64"
      ]
     },
     "execution_count": 21,
     "metadata": {},
     "output_type": "execute_result"
    }
   ],
   "source": [
    "# apply on other columns\n",
    "df[df.diagnosed != -888].diagnosed.value_counts()"
   ]
  },
  {
   "cell_type": "code",
   "execution_count": 22,
   "id": "d58d046d",
   "metadata": {},
   "outputs": [
    {
     "data": {
      "text/plain": [
       "4.0    267\n",
       "2.0    156\n",
       "3.0    140\n",
       "1.0     34\n",
       "Name: cp, dtype: int64"
      ]
     },
     "execution_count": 22,
     "metadata": {},
     "output_type": "execute_result"
    }
   ],
   "source": [
    "# count: cp (chest pain) type\n",
    "df.cp.value_counts()"
   ]
  },
  {
   "cell_type": "code",
   "execution_count": 23,
   "id": "9a60a780",
   "metadata": {},
   "outputs": [
    {
     "data": {
      "text/plain": [
       "<AxesSubplot:>"
      ]
     },
     "execution_count": 23,
     "metadata": {},
     "output_type": "execute_result"
    },
    {
     "data": {
      "image/png": "[encoded data removed]",
      "text/plain": [
       "<Figure size 432x288 with 1 Axes>"
      ]
     },
     "metadata": {
      "needs_background": "light"
     },
     "output_type": "display_data"
    }
   ],
   "source": [
    "# visualize counts\n",
    "df.cp.value_counts().plot(kind=\"bar\")"
   ]
  },
  {
   "cell_type": "code",
   "execution_count": 24,
   "id": "e7fc5d73",
   "metadata": {},
   "outputs": [
    {
     "data": {
      "text/plain": [
       "<AxesSubplot:title={'center':'Chest Pain Type Count'}>"
      ]
     },
     "execution_count": 24,
     "metadata": {},
     "output_type": "execute_result"
    },
    {
     "data": {
      "image/png": "[encoded data removed]",
      "text/plain": [
       "<Figure size 432x288 with 1 Axes>"
      ]
     },
     "metadata": {
      "needs_background": "light"
     },
     "output_type": "display_data"
    }
   ],
   "source": [
    "# title: to set title, color: to set color, rot: to rotate labels\n",
    "df.cp.value_counts().plot(kind=\"bar\",rot=0,title=\"Chest Pain Type Count\", color=\"c\")"
   ]
  },
  {
   "cell_type": "code",
   "execution_count": 25,
   "id": "7c2ecf3c",
   "metadata": {},
   "outputs": [
    {
     "data": {
      "text/plain": [
       "<AxesSubplot:title={'center':'histogram for Age'}, ylabel='Frequency'>"
      ]
     },
     "execution_count": 25,
     "metadata": {},
     "output_type": "execute_result"
    },
    {
     "data": {
      "image/png": "[encoded data removed]",
      "text/plain": [
       "<Figure size 432x288 with 1 Axes>"
      ]
     },
     "metadata": {
      "needs_background": "light"
     },
     "output_type": "display_data"
    }
   ],
   "source": [
    "# use hist to create histogram\n",
    "df.age.plot(kind=\"hist\",title=\"histogram for Age\", color=\"c\")"
   ]
  },
  {
   "cell_type": "code",
   "execution_count": 26,
   "id": "9a91354a",
   "metadata": {},
   "outputs": [
    {
     "data": {
      "text/plain": [
       "<AxesSubplot:title={'center':'histogram for Age'}, ylabel='Frequency'>"
      ]
     },
     "execution_count": 26,
     "metadata": {},
     "output_type": "execute_result"
    },
    {
     "data": {
      "image/png": "[encoded data removed]",
      "text/plain": [
       "<Figure size 432x288 with 1 Axes>"
      ]
     },
     "metadata": {
      "needs_background": "light"
     },
     "output_type": "display_data"
    }
   ],
   "source": [
    "# use bins to add or remove bins\n",
    "df.age.plot(kind=\"hist\",title=\"histogram for Age\", color=\"c\", bins=20)"
   ]
  },
  {
   "cell_type": "code",
   "execution_count": 27,
   "id": "62ea7ad9",
   "metadata": {},
   "outputs": [
    {
     "data": {
      "text/plain": [
       "<AxesSubplot:title={'center':'Density plot for Age'}, ylabel='Density'>"
      ]
     },
     "execution_count": 27,
     "metadata": {},
     "output_type": "execute_result"
    },
    {
     "data": {
      "image/png": "[encoded data removed]",
      "text/plain": [
       "<Figure size 432x288 with 1 Axes>"
      ]
     },
     "metadata": {
      "needs_background": "light"
     },
     "output_type": "display_data"
    }
   ],
   "source": [
    "# use kde for density plot\n",
    "df.age.plot(kind=\"kde\", title=\"Density plot for Age\", color=\"c\")"
   ]
  },
  {
   "cell_type": "code",
   "execution_count": 28,
   "id": "9fa6a53b",
   "metadata": {},
   "outputs": [],
   "source": [
    "# histogram for fare\n",
    "df = df.replace('?', np.nan)\n",
    "df['trestbps'] = pd.to_numeric(df['trestbps'])\n"
   ]
  },
  {
   "cell_type": "code",
   "execution_count": 29,
   "id": "762f7d6d",
   "metadata": {},
   "outputs": [
    {
     "data": {
      "image/png": "[encoded data removed]",
      "text/plain": [
       "<Figure size 432x288 with 1 Axes>"
      ]
     },
     "metadata": {
      "needs_background": "light"
     },
     "output_type": "display_data"
    }
   ],
   "source": [
    "# histogram for fare\n",
    "df.trestbps.plot(kind=\"hist\",title=\"histogram for Resting Blood Pressure\",color=\"c\",bins=20);"
   ]
  },
  {
   "cell_type": "code",
   "execution_count": 30,
   "id": "e1820511",
   "metadata": {},
   "outputs": [
    {
     "name": "stdout",
     "output_type": "stream",
     "text": [
      "skewness for age:-0.06\n",
      "skewness for fare:0.72\n"
     ]
    }
   ],
   "source": [
    "print(\"skewness for age:{0:.2f}\".format(df.age.skew()))\n",
    "print(\"skewness for fare:{0:.2f}\".format(df.trestbps.skew()))\n"
   ]
  },
  {
   "cell_type": "code",
   "execution_count": 31,
   "id": "717faf95",
   "metadata": {},
   "outputs": [
    {
     "data": {
      "image/png": "[encoded data removed]",
      "text/plain": [
       "<Figure size 432x288 with 1 Axes>"
      ]
     },
     "metadata": {
      "needs_background": "light"
     },
     "output_type": "display_data"
    }
   ],
   "source": [
    "# use scatter plot for bi-variate distribution\n",
    "df.plot.scatter(x=\"age\",y=\"trestbps\",color=\"c\",title=\"scatter plot:Age vs Trestbps\");"
   ]
  },
  {
   "cell_type": "code",
   "execution_count": 32,
   "id": "a3b91d6b",
   "metadata": {},
   "outputs": [
    {
     "data": {
      "image/png": "[encoded data removed]",
      "text/plain": [
       "<Figure size 432x288 with 1 Axes>"
      ]
     },
     "metadata": {
      "needs_background": "light"
     },
     "output_type": "display_data"
    }
   ],
   "source": [
    "# use alpha to set the transparency\n",
    "df.plot.scatter(x=\"age\",y=\"trestbps\",color=\"c\",title=\"scatter plot:Age vs Trestbps\",alpha=0.1);"
   ]
  },
  {
   "cell_type": "code",
   "execution_count": 33,
   "id": "c22693a1",
   "metadata": {},
   "outputs": [
    {
     "data": {
      "image/png": "[encoded data removed]",
      "text/plain": [
       "<Figure size 432x288 with 1 Axes>"
      ]
     },
     "metadata": {
      "needs_background": "light"
     },
     "output_type": "display_data"
    }
   ],
   "source": [
    "df.plot.scatter(x=\"cp\",y=\"trestbps\",color=\"c\",title=\"scatter plot:Chess Pain Type vs Trestbps\",alpha=0.15);"
   ]
  },
  {
   "cell_type": "markdown",
   "id": "e1e1ce5c",
   "metadata": {},
   "source": [
    "## 4 Grouping and Aggregations"
   ]
  },
  {
   "cell_type": "code",
   "execution_count": 34,
   "id": "2242ebf6",
   "metadata": {},
   "outputs": [
    {
     "data": {
      "text/plain": [
       "sex\n",
       "0.0    52.0\n",
       "1.0    52.0\n",
       "Name: age, dtype: float64"
      ]
     },
     "execution_count": 34,
     "metadata": {},
     "output_type": "execute_result"
    }
   ],
   "source": [
    "# group by \n",
    "df.groupby(\"sex\").age.median()"
   ]
  },
  {
   "cell_type": "code",
   "execution_count": 35,
   "id": "af37925c",
   "metadata": {},
   "outputs": [
    {
     "data": {
      "text/plain": [
       "cp\n",
       "1.0    140.0\n",
       "2.0    130.0\n",
       "3.0    130.0\n",
       "4.0    130.0\n",
       "Name: trestbps, dtype: float64"
      ]
     },
     "execution_count": 35,
     "metadata": {},
     "output_type": "execute_result"
    }
   ],
   "source": [
    "# group by \n",
    "df.groupby(\"cp\").trestbps.median()"
   ]
  },
  {
   "cell_type": "code",
   "execution_count": 36,
   "id": "29b55a92",
   "metadata": {},
   "outputs": [
    {
     "data": {
      "text/plain": [
       "cp\n",
       "1.0    55.5\n",
       "2.0    49.0\n",
       "3.0    51.0\n",
       "4.0    53.0\n",
       "Name: age, dtype: float64"
      ]
     },
     "execution_count": 36,
     "metadata": {},
     "output_type": "execute_result"
    }
   ],
   "source": [
    "# group by \n",
    "df.groupby(\"cp\").age.median()"
   ]
  },
  {
   "cell_type": "code",
   "execution_count": 37,
   "id": "f63bb9da",
   "metadata": {},
   "outputs": [
    {
     "data": {
      "text/html": [
       "<div>\n",
       "<style scoped>\n",
       "    .dataframe tbody tr th:only-of-type {\n",
       "        vertical-align: middle;\n",
       "    }\n",
       "\n",
       "    .dataframe tbody tr th {\n",
       "        vertical-align: top;\n",
       "    }\n",
       "\n",
       "    .dataframe thead th {\n",
       "        text-align: right;\n",
       "    }\n",
       "</style>\n",
       "<table border=\"1\" class=\"dataframe\">\n",
       "  <thead>\n",
       "    <tr style=\"text-align: right;\">\n",
       "      <th></th>\n",
       "      <th>trestbps</th>\n",
       "      <th>age</th>\n",
       "    </tr>\n",
       "    <tr>\n",
       "      <th>cp</th>\n",
       "      <th></th>\n",
       "      <th></th>\n",
       "    </tr>\n",
       "  </thead>\n",
       "  <tbody>\n",
       "    <tr>\n",
       "      <th>1.0</th>\n",
       "      <td>140.0</td>\n",
       "      <td>55.5</td>\n",
       "    </tr>\n",
       "    <tr>\n",
       "      <th>2.0</th>\n",
       "      <td>130.0</td>\n",
       "      <td>49.0</td>\n",
       "    </tr>\n",
       "    <tr>\n",
       "      <th>3.0</th>\n",
       "      <td>130.0</td>\n",
       "      <td>51.0</td>\n",
       "    </tr>\n",
       "    <tr>\n",
       "      <th>4.0</th>\n",
       "      <td>130.0</td>\n",
       "      <td>53.0</td>\n",
       "    </tr>\n",
       "  </tbody>\n",
       "</table>\n",
       "</div>"
      ],
      "text/plain": [
       "     trestbps   age\n",
       "cp                 \n",
       "1.0     140.0  55.5\n",
       "2.0     130.0  49.0\n",
       "3.0     130.0  51.0\n",
       "4.0     130.0  53.0"
      ]
     },
     "execution_count": 37,
     "metadata": {},
     "output_type": "execute_result"
    }
   ],
   "source": [
    "df.groupby([\"cp\"])[\"trestbps\",\"age\"].median()"
   ]
  },
  {
   "cell_type": "code",
   "execution_count": 38,
   "id": "ce56420e",
   "metadata": {},
   "outputs": [
    {
     "data": {
      "text/html": [
       "<div>\n",
       "<style scoped>\n",
       "    .dataframe tbody tr th:only-of-type {\n",
       "        vertical-align: middle;\n",
       "    }\n",
       "\n",
       "    .dataframe tbody tr th {\n",
       "        vertical-align: top;\n",
       "    }\n",
       "\n",
       "    .dataframe thead th {\n",
       "        text-align: right;\n",
       "    }\n",
       "</style>\n",
       "<table border=\"1\" class=\"dataframe\">\n",
       "  <thead>\n",
       "    <tr style=\"text-align: right;\">\n",
       "      <th></th>\n",
       "      <th>trestbps</th>\n",
       "      <th>age</th>\n",
       "    </tr>\n",
       "    <tr>\n",
       "      <th>cp</th>\n",
       "      <th></th>\n",
       "      <th></th>\n",
       "    </tr>\n",
       "  </thead>\n",
       "  <tbody>\n",
       "    <tr>\n",
       "      <th>1.0</th>\n",
       "      <td>137.941176</td>\n",
       "      <td>55.5</td>\n",
       "    </tr>\n",
       "    <tr>\n",
       "      <th>2.0</th>\n",
       "      <td>129.967742</td>\n",
       "      <td>49.0</td>\n",
       "    </tr>\n",
       "    <tr>\n",
       "      <th>3.0</th>\n",
       "      <td>131.121429</td>\n",
       "      <td>51.0</td>\n",
       "    </tr>\n",
       "    <tr>\n",
       "      <th>4.0</th>\n",
       "      <td>133.172285</td>\n",
       "      <td>53.0</td>\n",
       "    </tr>\n",
       "  </tbody>\n",
       "</table>\n",
       "</div>"
      ],
      "text/plain": [
       "       trestbps   age\n",
       "cp                   \n",
       "1.0  137.941176  55.5\n",
       "2.0  129.967742  49.0\n",
       "3.0  131.121429  51.0\n",
       "4.0  133.172285  53.0"
      ]
     },
     "execution_count": 38,
     "metadata": {},
     "output_type": "execute_result"
    }
   ],
   "source": [
    "df.groupby([\"cp\"]).agg({\"trestbps\":\"mean\",\"age\":\"median\"})"
   ]
  },
  {
   "cell_type": "code",
   "execution_count": 39,
   "id": "934fad24",
   "metadata": {
    "scrolled": true
   },
   "outputs": [
    {
     "data": {
      "text/html": [
       "<div>\n",
       "<style scoped>\n",
       "    .dataframe tbody tr th:only-of-type {\n",
       "        vertical-align: middle;\n",
       "    }\n",
       "\n",
       "    .dataframe tbody tr th {\n",
       "        vertical-align: top;\n",
       "    }\n",
       "\n",
       "    .dataframe thead th {\n",
       "        text-align: right;\n",
       "    }\n",
       "</style>\n",
       "<table border=\"1\" class=\"dataframe\">\n",
       "  <thead>\n",
       "    <tr style=\"text-align: right;\">\n",
       "      <th></th>\n",
       "      <th>age</th>\n",
       "      <th>sex</th>\n",
       "      <th>cp</th>\n",
       "      <th>trestbps</th>\n",
       "      <th>chol</th>\n",
       "      <th>fbs</th>\n",
       "      <th>restecg</th>\n",
       "      <th>thalach</th>\n",
       "      <th>exang</th>\n",
       "      <th>oldpeak</th>\n",
       "      <th>slope</th>\n",
       "      <th>ca</th>\n",
       "      <th>thal</th>\n",
       "      <th>num</th>\n",
       "      <th>diagnosed</th>\n",
       "    </tr>\n",
       "  </thead>\n",
       "  <tbody>\n",
       "    <tr>\n",
       "      <th>0</th>\n",
       "      <td>28.0</td>\n",
       "      <td>1.0</td>\n",
       "      <td>2.0</td>\n",
       "      <td>130.0</td>\n",
       "      <td>132</td>\n",
       "      <td>0</td>\n",
       "      <td>2</td>\n",
       "      <td>185</td>\n",
       "      <td>0</td>\n",
       "      <td>0.0</td>\n",
       "      <td>NaN</td>\n",
       "      <td>NaN</td>\n",
       "      <td>NaN</td>\n",
       "      <td>0</td>\n",
       "      <td>0</td>\n",
       "    </tr>\n",
       "    <tr>\n",
       "      <th>1</th>\n",
       "      <td>29.0</td>\n",
       "      <td>1.0</td>\n",
       "      <td>2.0</td>\n",
       "      <td>120.0</td>\n",
       "      <td>243</td>\n",
       "      <td>0</td>\n",
       "      <td>0</td>\n",
       "      <td>160</td>\n",
       "      <td>0</td>\n",
       "      <td>0.0</td>\n",
       "      <td>NaN</td>\n",
       "      <td>NaN</td>\n",
       "      <td>NaN</td>\n",
       "      <td>0</td>\n",
       "      <td>0</td>\n",
       "    </tr>\n",
       "    <tr>\n",
       "      <th>2</th>\n",
       "      <td>29.0</td>\n",
       "      <td>1.0</td>\n",
       "      <td>2.0</td>\n",
       "      <td>140.0</td>\n",
       "      <td>NaN</td>\n",
       "      <td>0</td>\n",
       "      <td>0</td>\n",
       "      <td>170</td>\n",
       "      <td>0</td>\n",
       "      <td>0.0</td>\n",
       "      <td>NaN</td>\n",
       "      <td>NaN</td>\n",
       "      <td>NaN</td>\n",
       "      <td>0</td>\n",
       "      <td>0</td>\n",
       "    </tr>\n",
       "    <tr>\n",
       "      <th>3</th>\n",
       "      <td>30.0</td>\n",
       "      <td>0.0</td>\n",
       "      <td>1.0</td>\n",
       "      <td>170.0</td>\n",
       "      <td>237</td>\n",
       "      <td>0</td>\n",
       "      <td>1</td>\n",
       "      <td>170</td>\n",
       "      <td>0</td>\n",
       "      <td>0.0</td>\n",
       "      <td>NaN</td>\n",
       "      <td>NaN</td>\n",
       "      <td>6</td>\n",
       "      <td>0</td>\n",
       "      <td>0</td>\n",
       "    </tr>\n",
       "    <tr>\n",
       "      <th>4</th>\n",
       "      <td>31.0</td>\n",
       "      <td>0.0</td>\n",
       "      <td>2.0</td>\n",
       "      <td>100.0</td>\n",
       "      <td>219</td>\n",
       "      <td>0</td>\n",
       "      <td>1</td>\n",
       "      <td>150</td>\n",
       "      <td>0</td>\n",
       "      <td>0.0</td>\n",
       "      <td>NaN</td>\n",
       "      <td>NaN</td>\n",
       "      <td>NaN</td>\n",
       "      <td>0</td>\n",
       "      <td>0</td>\n",
       "    </tr>\n",
       "  </tbody>\n",
       "</table>\n",
       "</div>"
      ],
      "text/plain": [
       "    age  sex   cp  trestbps chol fbs restecg thalach exang  oldpeak slope  \\\n",
       "0  28.0  1.0  2.0     130.0  132   0       2     185     0      0.0   NaN   \n",
       "1  29.0  1.0  2.0     120.0  243   0       0     160     0      0.0   NaN   \n",
       "2  29.0  1.0  2.0     140.0  NaN   0       0     170     0      0.0   NaN   \n",
       "3  30.0  0.0  1.0     170.0  237   0       1     170     0      0.0   NaN   \n",
       "4  31.0  0.0  2.0     100.0  219   0       1     150     0      0.0   NaN   \n",
       "\n",
       "    ca thal  num  diagnosed  \n",
       "0  NaN  NaN    0          0  \n",
       "1  NaN  NaN    0          0  \n",
       "2  NaN  NaN    0          0  \n",
       "3  NaN    6    0          0  \n",
       "4  NaN  NaN    0          0  "
      ]
     },
     "execution_count": 39,
     "metadata": {},
     "output_type": "execute_result"
    }
   ],
   "source": [
    "df.head()"
   ]
  },
  {
   "cell_type": "code",
   "execution_count": 40,
   "id": "2f2d72af",
   "metadata": {},
   "outputs": [],
   "source": [
    "# more complicated aggregations\n",
    "aggregations = {\n",
    "    'trestbps':\n",
    "    ['sum', 'mean', 'median', 'min', 'max', 'std', 'var', 'mad', 'prod'],\n",
    "    'age':\n",
    "    ['sum', 'mean', 'median', 'min', 'max', 'std', 'var', 'mad', 'prod']\n",
    "}\n"
   ]
  },
  {
   "cell_type": "code",
   "execution_count": 41,
   "id": "4dea46c3",
   "metadata": {
    "scrolled": true
   },
   "outputs": [
    {
     "data": {
      "text/html": [
       "<div>\n",
       "<style scoped>\n",
       "    .dataframe tbody tr th:only-of-type {\n",
       "        vertical-align: middle;\n",
       "    }\n",
       "\n",
       "    .dataframe tbody tr th {\n",
       "        vertical-align: top;\n",
       "    }\n",
       "\n",
       "    .dataframe thead tr th {\n",
       "        text-align: left;\n",
       "    }\n",
       "\n",
       "    .dataframe thead tr:last-of-type th {\n",
       "        text-align: right;\n",
       "    }\n",
       "</style>\n",
       "<table border=\"1\" class=\"dataframe\">\n",
       "  <thead>\n",
       "    <tr>\n",
       "      <th></th>\n",
       "      <th colspan=\"9\" halign=\"left\">trestbps</th>\n",
       "      <th colspan=\"9\" halign=\"left\">age</th>\n",
       "    </tr>\n",
       "    <tr>\n",
       "      <th></th>\n",
       "      <th>sum</th>\n",
       "      <th>mean</th>\n",
       "      <th>median</th>\n",
       "      <th>min</th>\n",
       "      <th>max</th>\n",
       "      <th>std</th>\n",
       "      <th>var</th>\n",
       "      <th>mad</th>\n",
       "      <th>prod</th>\n",
       "      <th>sum</th>\n",
       "      <th>mean</th>\n",
       "      <th>median</th>\n",
       "      <th>min</th>\n",
       "      <th>max</th>\n",
       "      <th>std</th>\n",
       "      <th>var</th>\n",
       "      <th>mad</th>\n",
       "      <th>prod</th>\n",
       "    </tr>\n",
       "    <tr>\n",
       "      <th>cp</th>\n",
       "      <th></th>\n",
       "      <th></th>\n",
       "      <th></th>\n",
       "      <th></th>\n",
       "      <th></th>\n",
       "      <th></th>\n",
       "      <th></th>\n",
       "      <th></th>\n",
       "      <th></th>\n",
       "      <th></th>\n",
       "      <th></th>\n",
       "      <th></th>\n",
       "      <th></th>\n",
       "      <th></th>\n",
       "      <th></th>\n",
       "      <th></th>\n",
       "      <th></th>\n",
       "      <th></th>\n",
       "    </tr>\n",
       "  </thead>\n",
       "  <tbody>\n",
       "    <tr>\n",
       "      <th>1.0</th>\n",
       "      <td>4690.0</td>\n",
       "      <td>137.941176</td>\n",
       "      <td>140.0</td>\n",
       "      <td>100.0</td>\n",
       "      <td>178.0</td>\n",
       "      <td>20.152361</td>\n",
       "      <td>406.117647</td>\n",
       "      <td>16.477509</td>\n",
       "      <td>3.938259e+72</td>\n",
       "      <td>1791.0</td>\n",
       "      <td>52.676471</td>\n",
       "      <td>55.5</td>\n",
       "      <td>30.0</td>\n",
       "      <td>69.0</td>\n",
       "      <td>11.011621</td>\n",
       "      <td>121.255793</td>\n",
       "      <td>9.302768</td>\n",
       "      <td>1.531814e+58</td>\n",
       "    </tr>\n",
       "    <tr>\n",
       "      <th>2.0</th>\n",
       "      <td>20145.0</td>\n",
       "      <td>129.967742</td>\n",
       "      <td>130.0</td>\n",
       "      <td>98.0</td>\n",
       "      <td>192.0</td>\n",
       "      <td>17.029546</td>\n",
       "      <td>290.005446</td>\n",
       "      <td>12.587305</td>\n",
       "      <td>inf</td>\n",
       "      <td>7502.0</td>\n",
       "      <td>48.089744</td>\n",
       "      <td>49.0</td>\n",
       "      <td>28.0</td>\n",
       "      <td>74.0</td>\n",
       "      <td>8.906954</td>\n",
       "      <td>79.333830</td>\n",
       "      <td>7.331032</td>\n",
       "      <td>1.517320e+261</td>\n",
       "    </tr>\n",
       "    <tr>\n",
       "      <th>3.0</th>\n",
       "      <td>18357.0</td>\n",
       "      <td>131.121429</td>\n",
       "      <td>130.0</td>\n",
       "      <td>94.0</td>\n",
       "      <td>180.0</td>\n",
       "      <td>16.055868</td>\n",
       "      <td>257.790904</td>\n",
       "      <td>12.445714</td>\n",
       "      <td>1.063468e+296</td>\n",
       "      <td>7210.0</td>\n",
       "      <td>51.500000</td>\n",
       "      <td>51.0</td>\n",
       "      <td>33.0</td>\n",
       "      <td>76.0</td>\n",
       "      <td>9.025543</td>\n",
       "      <td>81.460432</td>\n",
       "      <td>7.242857</td>\n",
       "      <td>5.183151e+238</td>\n",
       "    </tr>\n",
       "    <tr>\n",
       "      <th>4.0</th>\n",
       "      <td>35557.0</td>\n",
       "      <td>133.172285</td>\n",
       "      <td>130.0</td>\n",
       "      <td>92.0</td>\n",
       "      <td>200.0</td>\n",
       "      <td>18.207872</td>\n",
       "      <td>331.526597</td>\n",
       "      <td>14.208560</td>\n",
       "      <td>inf</td>\n",
       "      <td>14053.0</td>\n",
       "      <td>52.632959</td>\n",
       "      <td>53.0</td>\n",
       "      <td>31.0</td>\n",
       "      <td>77.0</td>\n",
       "      <td>8.520658</td>\n",
       "      <td>72.601616</td>\n",
       "      <td>6.981414</td>\n",
       "      <td>inf</td>\n",
       "    </tr>\n",
       "  </tbody>\n",
       "</table>\n",
       "</div>"
      ],
      "text/plain": [
       "    trestbps                                                          \\\n",
       "         sum        mean median    min    max        std         var   \n",
       "cp                                                                     \n",
       "1.0   4690.0  137.941176  140.0  100.0  178.0  20.152361  406.117647   \n",
       "2.0  20145.0  129.967742  130.0   98.0  192.0  17.029546  290.005446   \n",
       "3.0  18357.0  131.121429  130.0   94.0  180.0  16.055868  257.790904   \n",
       "4.0  35557.0  133.172285  130.0   92.0  200.0  18.207872  331.526597   \n",
       "\n",
       "                                   age                                \\\n",
       "           mad           prod      sum       mean median   min   max   \n",
       "cp                                                                     \n",
       "1.0  16.477509   3.938259e+72   1791.0  52.676471   55.5  30.0  69.0   \n",
       "2.0  12.587305            inf   7502.0  48.089744   49.0  28.0  74.0   \n",
       "3.0  12.445714  1.063468e+296   7210.0  51.500000   51.0  33.0  76.0   \n",
       "4.0  14.208560            inf  14053.0  52.632959   53.0  31.0  77.0   \n",
       "\n",
       "                                                     \n",
       "           std         var       mad           prod  \n",
       "cp                                                   \n",
       "1.0  11.011621  121.255793  9.302768   1.531814e+58  \n",
       "2.0   8.906954   79.333830  7.331032  1.517320e+261  \n",
       "3.0   9.025543   81.460432  7.242857  5.183151e+238  \n",
       "4.0   8.520658   72.601616  6.981414            inf  "
      ]
     },
     "execution_count": 41,
     "metadata": {},
     "output_type": "execute_result"
    }
   ],
   "source": [
    "df.groupby([\"cp\"]).agg(aggregations)"
   ]
  },
  {
   "cell_type": "code",
   "execution_count": 42,
   "id": "22579627",
   "metadata": {},
   "outputs": [
    {
     "data": {
      "text/plain": [
       "cp   restecg\n",
       "1.0  0.0        140.0\n",
       "     2.0        146.5\n",
       "     0          130.0\n",
       "     1          120.0\n",
       "2.0  0.0        120.0\n",
       "     2.0        130.0\n",
       "     0          130.0\n",
       "     1          125.0\n",
       "     2          130.0\n",
       "3.0  0.0        130.0\n",
       "     1.0        140.0\n",
       "     2.0        130.0\n",
       "     0          130.0\n",
       "     1          130.0\n",
       "     2          120.0\n",
       "4.0  0.0        130.0\n",
       "     1.0        128.0\n",
       "     2.0        130.0\n",
       "     0          130.0\n",
       "     1          130.0\n",
       "     2          140.0\n",
       "Name: trestbps, dtype: float64"
      ]
     },
     "execution_count": 42,
     "metadata": {},
     "output_type": "execute_result"
    }
   ],
   "source": [
    "df.groupby(['cp','restecg']).trestbps.median()"
   ]
  },
  {
   "cell_type": "markdown",
   "id": "1a77f5ab",
   "metadata": {},
   "source": [
    "## 5. Crosstabs, Pivots"
   ]
  },
  {
   "cell_type": "code",
   "execution_count": 43,
   "id": "29daaac0",
   "metadata": {},
   "outputs": [
    {
     "data": {
      "text/html": [
       "<div>\n",
       "<style scoped>\n",
       "    .dataframe tbody tr th:only-of-type {\n",
       "        vertical-align: middle;\n",
       "    }\n",
       "\n",
       "    .dataframe tbody tr th {\n",
       "        vertical-align: top;\n",
       "    }\n",
       "\n",
       "    .dataframe thead th {\n",
       "        text-align: right;\n",
       "    }\n",
       "</style>\n",
       "<table border=\"1\" class=\"dataframe\">\n",
       "  <thead>\n",
       "    <tr style=\"text-align: right;\">\n",
       "      <th>cp</th>\n",
       "      <th>1.0</th>\n",
       "      <th>2.0</th>\n",
       "      <th>3.0</th>\n",
       "      <th>4.0</th>\n",
       "    </tr>\n",
       "    <tr>\n",
       "      <th>sex</th>\n",
       "      <th></th>\n",
       "      <th></th>\n",
       "      <th></th>\n",
       "      <th></th>\n",
       "    </tr>\n",
       "  </thead>\n",
       "  <tbody>\n",
       "    <tr>\n",
       "      <th>0.0</th>\n",
       "      <td>9</td>\n",
       "      <td>59</td>\n",
       "      <td>52</td>\n",
       "      <td>58</td>\n",
       "    </tr>\n",
       "    <tr>\n",
       "      <th>1.0</th>\n",
       "      <td>25</td>\n",
       "      <td>97</td>\n",
       "      <td>88</td>\n",
       "      <td>209</td>\n",
       "    </tr>\n",
       "  </tbody>\n",
       "</table>\n",
       "</div>"
      ],
      "text/plain": [
       "cp   1.0  2.0  3.0  4.0\n",
       "sex                    \n",
       "0.0    9   59   52   58\n",
       "1.0   25   97   88  209"
      ]
     },
     "execution_count": 43,
     "metadata": {},
     "output_type": "execute_result"
    }
   ],
   "source": [
    "# crosstab on Sex and Pclass\n",
    "pd.crosstab(df.sex, df.cp)\n"
   ]
  },
  {
   "cell_type": "code",
   "execution_count": 44,
   "id": "a1be10f8",
   "metadata": {},
   "outputs": [
    {
     "data": {
      "image/png": "[encoded data removed]",
      "text/plain": [
       "<Figure size 432x288 with 1 Axes>"
      ]
     },
     "metadata": {
      "needs_background": "light"
     },
     "output_type": "display_data"
    }
   ],
   "source": [
    "pd.crosstab(df.sex, df.cp).plot(kind='bar');"
   ]
  },
  {
   "cell_type": "code",
   "execution_count": 45,
   "id": "78b44eac",
   "metadata": {},
   "outputs": [
    {
     "data": {
      "text/html": [
       "<div>\n",
       "<style scoped>\n",
       "    .dataframe tbody tr th:only-of-type {\n",
       "        vertical-align: middle;\n",
       "    }\n",
       "\n",
       "    .dataframe tbody tr th {\n",
       "        vertical-align: top;\n",
       "    }\n",
       "\n",
       "    .dataframe thead th {\n",
       "        text-align: right;\n",
       "    }\n",
       "</style>\n",
       "<table border=\"1\" class=\"dataframe\">\n",
       "  <thead>\n",
       "    <tr style=\"text-align: right;\">\n",
       "      <th>cp</th>\n",
       "      <th>1.0</th>\n",
       "      <th>2.0</th>\n",
       "      <th>3.0</th>\n",
       "      <th>4.0</th>\n",
       "    </tr>\n",
       "    <tr>\n",
       "      <th>sex</th>\n",
       "      <th></th>\n",
       "      <th></th>\n",
       "      <th></th>\n",
       "      <th></th>\n",
       "    </tr>\n",
       "  </thead>\n",
       "  <tbody>\n",
       "    <tr>\n",
       "      <th>0.0</th>\n",
       "      <td>53.333333</td>\n",
       "      <td>49.152542</td>\n",
       "      <td>52.750000</td>\n",
       "      <td>54.172414</td>\n",
       "    </tr>\n",
       "    <tr>\n",
       "      <th>1.0</th>\n",
       "      <td>52.440000</td>\n",
       "      <td>47.443299</td>\n",
       "      <td>50.761364</td>\n",
       "      <td>52.205742</td>\n",
       "    </tr>\n",
       "  </tbody>\n",
       "</table>\n",
       "</div>"
      ],
      "text/plain": [
       "cp         1.0        2.0        3.0        4.0\n",
       "sex                                            \n",
       "0.0  53.333333  49.152542  52.750000  54.172414\n",
       "1.0  52.440000  47.443299  50.761364  52.205742"
      ]
     },
     "execution_count": 45,
     "metadata": {},
     "output_type": "execute_result"
    }
   ],
   "source": [
    "# pivot table\n",
    "df.pivot_table(index='sex', columns='cp',values='age', aggfunc='mean')"
   ]
  },
  {
   "cell_type": "code",
   "execution_count": 46,
   "id": "1df93a0b",
   "metadata": {},
   "outputs": [
    {
     "data": {
      "text/plain": [
       "sex  cp \n",
       "0.0  1.0    53.333333\n",
       "     2.0    49.152542\n",
       "     3.0    52.750000\n",
       "     4.0    54.172414\n",
       "1.0  1.0    52.440000\n",
       "     2.0    47.443299\n",
       "     3.0    50.761364\n",
       "     4.0    52.205742\n",
       "Name: age, dtype: float64"
      ]
     },
     "execution_count": 46,
     "metadata": {},
     "output_type": "execute_result"
    }
   ],
   "source": [
    "df.groupby(['sex','cp']).age.mean()"
   ]
  },
  {
   "cell_type": "code",
   "execution_count": 47,
   "id": "6e35edf7",
   "metadata": {},
   "outputs": [
    {
     "data": {
      "text/html": [
       "<div>\n",
       "<style scoped>\n",
       "    .dataframe tbody tr th:only-of-type {\n",
       "        vertical-align: middle;\n",
       "    }\n",
       "\n",
       "    .dataframe tbody tr th {\n",
       "        vertical-align: top;\n",
       "    }\n",
       "\n",
       "    .dataframe thead th {\n",
       "        text-align: right;\n",
       "    }\n",
       "</style>\n",
       "<table border=\"1\" class=\"dataframe\">\n",
       "  <thead>\n",
       "    <tr style=\"text-align: right;\">\n",
       "      <th>cp</th>\n",
       "      <th>1.0</th>\n",
       "      <th>2.0</th>\n",
       "      <th>3.0</th>\n",
       "      <th>4.0</th>\n",
       "    </tr>\n",
       "    <tr>\n",
       "      <th>sex</th>\n",
       "      <th></th>\n",
       "      <th></th>\n",
       "      <th></th>\n",
       "      <th></th>\n",
       "    </tr>\n",
       "  </thead>\n",
       "  <tbody>\n",
       "    <tr>\n",
       "      <th>0.0</th>\n",
       "      <td>53.333333</td>\n",
       "      <td>49.152542</td>\n",
       "      <td>52.750000</td>\n",
       "      <td>54.172414</td>\n",
       "    </tr>\n",
       "    <tr>\n",
       "      <th>1.0</th>\n",
       "      <td>52.440000</td>\n",
       "      <td>47.443299</td>\n",
       "      <td>50.761364</td>\n",
       "      <td>52.205742</td>\n",
       "    </tr>\n",
       "  </tbody>\n",
       "</table>\n",
       "</div>"
      ],
      "text/plain": [
       "cp         1.0        2.0        3.0        4.0\n",
       "sex                                            \n",
       "0.0  53.333333  49.152542  52.750000  54.172414\n",
       "1.0  52.440000  47.443299  50.761364  52.205742"
      ]
     },
     "execution_count": 47,
     "metadata": {},
     "output_type": "execute_result"
    }
   ],
   "source": [
    "df.groupby(['sex','cp']).age.mean().unstack()"
   ]
  },
  {
   "cell_type": "markdown",
   "id": "2c86c341",
   "metadata": {},
   "source": [
    "# Data Munging : Working with missing values"
   ]
  },
  {
   "cell_type": "code",
   "execution_count": 48,
   "id": "210e15c7",
   "metadata": {},
   "outputs": [
    {
     "name": "stdout",
     "output_type": "stream",
     "text": [
      "<class 'pandas.core.frame.DataFrame'>\n",
      "Int64Index: 597 entries, 0 to 302\n",
      "Data columns (total 15 columns):\n",
      " #   Column     Non-Null Count  Dtype  \n",
      "---  ------     --------------  -----  \n",
      " 0   age        597 non-null    float64\n",
      " 1   sex        597 non-null    float64\n",
      " 2   cp         597 non-null    float64\n",
      " 3   trestbps   596 non-null    float64\n",
      " 4   chol       574 non-null    object \n",
      " 5   fbs        589 non-null    object \n",
      " 6   restecg    596 non-null    object \n",
      " 7   thalach    596 non-null    object \n",
      " 8   exang      596 non-null    object \n",
      " 9   oldpeak    597 non-null    float64\n",
      " 10  slope      407 non-null    object \n",
      " 11  ca         302 non-null    object \n",
      " 12  thal       329 non-null    object \n",
      " 13  num        597 non-null    int64  \n",
      " 14  diagnosed  597 non-null    int64  \n",
      "dtypes: float64(5), int64(2), object(8)\n",
      "memory usage: 90.8+ KB\n"
     ]
    }
   ],
   "source": [
    "df.info()"
   ]
  },
  {
   "cell_type": "code",
   "execution_count": 49,
   "id": "c91ed279",
   "metadata": {},
   "outputs": [
    {
     "data": {
      "text/html": [
       "<div>\n",
       "<style scoped>\n",
       "    .dataframe tbody tr th:only-of-type {\n",
       "        vertical-align: middle;\n",
       "    }\n",
       "\n",
       "    .dataframe tbody tr th {\n",
       "        vertical-align: top;\n",
       "    }\n",
       "\n",
       "    .dataframe thead th {\n",
       "        text-align: right;\n",
       "    }\n",
       "</style>\n",
       "<table border=\"1\" class=\"dataframe\">\n",
       "  <thead>\n",
       "    <tr style=\"text-align: right;\">\n",
       "      <th></th>\n",
       "      <th>age</th>\n",
       "      <th>sex</th>\n",
       "      <th>cp</th>\n",
       "      <th>trestbps</th>\n",
       "      <th>chol</th>\n",
       "      <th>fbs</th>\n",
       "      <th>restecg</th>\n",
       "      <th>thalach</th>\n",
       "      <th>exang</th>\n",
       "      <th>oldpeak</th>\n",
       "      <th>slope</th>\n",
       "      <th>ca</th>\n",
       "      <th>thal</th>\n",
       "      <th>num</th>\n",
       "      <th>diagnosed</th>\n",
       "    </tr>\n",
       "  </thead>\n",
       "  <tbody>\n",
       "    <tr>\n",
       "      <th>268</th>\n",
       "      <td>55.0</td>\n",
       "      <td>1.0</td>\n",
       "      <td>1.0</td>\n",
       "      <td>140.0</td>\n",
       "      <td>295</td>\n",
       "      <td>0</td>\n",
       "      <td>NaN</td>\n",
       "      <td>136</td>\n",
       "      <td>0</td>\n",
       "      <td>0.0</td>\n",
       "      <td>NaN</td>\n",
       "      <td>NaN</td>\n",
       "      <td>NaN</td>\n",
       "      <td>1</td>\n",
       "      <td>1</td>\n",
       "    </tr>\n",
       "  </tbody>\n",
       "</table>\n",
       "</div>"
      ],
      "text/plain": [
       "      age  sex   cp  trestbps chol fbs restecg thalach exang  oldpeak slope  \\\n",
       "268  55.0  1.0  1.0     140.0  295   0     NaN     136     0      0.0   NaN   \n",
       "\n",
       "      ca thal  num  diagnosed  \n",
       "268  NaN  NaN    1          1  "
      ]
     },
     "execution_count": 49,
     "metadata": {},
     "output_type": "execute_result"
    }
   ],
   "source": [
    "# extract rows with Embarked as Null\n",
    "df[df.restecg.isnull()]"
   ]
  },
  {
   "cell_type": "code",
   "execution_count": 50,
   "id": "7f22e8fb",
   "metadata": {},
   "outputs": [
    {
     "data": {
      "text/plain": [
       "0      235\n",
       "0.0    151\n",
       "2.0    148\n",
       "1       52\n",
       "2        6\n",
       "1.0      4\n",
       "Name: restecg, dtype: int64"
      ]
     },
     "execution_count": 50,
     "metadata": {},
     "output_type": "execute_result"
    }
   ],
   "source": [
    "# how many people embarked at different points\n",
    "df.restecg.value_counts()"
   ]
  },
  {
   "cell_type": "code",
   "execution_count": 51,
   "id": "26bef54a",
   "metadata": {},
   "outputs": [
    {
     "data": {
      "text/html": [
       "<div>\n",
       "<style scoped>\n",
       "    .dataframe tbody tr th:only-of-type {\n",
       "        vertical-align: middle;\n",
       "    }\n",
       "\n",
       "    .dataframe tbody tr th {\n",
       "        vertical-align: top;\n",
       "    }\n",
       "\n",
       "    .dataframe thead th {\n",
       "        text-align: right;\n",
       "    }\n",
       "</style>\n",
       "<table border=\"1\" class=\"dataframe\">\n",
       "  <thead>\n",
       "    <tr style=\"text-align: right;\">\n",
       "      <th>restecg</th>\n",
       "      <th>0</th>\n",
       "      <th>1</th>\n",
       "      <th>2</th>\n",
       "    </tr>\n",
       "    <tr>\n",
       "      <th>diagnosed</th>\n",
       "      <th></th>\n",
       "      <th></th>\n",
       "      <th></th>\n",
       "    </tr>\n",
       "  </thead>\n",
       "  <tbody>\n",
       "    <tr>\n",
       "      <th>0</th>\n",
       "      <td>150</td>\n",
       "      <td>33</td>\n",
       "      <td>5</td>\n",
       "    </tr>\n",
       "    <tr>\n",
       "      <th>1</th>\n",
       "      <td>85</td>\n",
       "      <td>19</td>\n",
       "      <td>1</td>\n",
       "    </tr>\n",
       "  </tbody>\n",
       "</table>\n",
       "</div>"
      ],
      "text/plain": [
       "restecg      0   1  2\n",
       "diagnosed            \n",
       "0          150  33  5\n",
       "1           85  19  1"
      ]
     },
     "execution_count": 51,
     "metadata": {},
     "output_type": "execute_result"
    }
   ],
   "source": [
    "# which embarked point has higher survival count\n",
    "pd.crosstab(df[df.diagnosed   != -888].diagnosed, df[df.diagnosed   != -888].restecg)"
   ]
  },
  {
   "cell_type": "code",
   "execution_count": 52,
   "id": "369f2ec1",
   "metadata": {},
   "outputs": [],
   "source": [
    "# impute the missing vaues with 'S'\n",
    "# df.loc[df.Embarked.isnull()],'Embarked'] = 'S'\n",
    "# df.Embarked.fillna('S', inplace=True)"
   ]
  },
  {
   "cell_type": "code",
   "execution_count": 53,
   "id": "83a7edc5",
   "metadata": {},
   "outputs": [
    {
     "data": {
      "text/plain": [
       "cp   restecg\n",
       "1.0  0.0        140.0\n",
       "     2.0        146.5\n",
       "     0          130.0\n",
       "     1          120.0\n",
       "2.0  0.0        120.0\n",
       "     2.0        130.0\n",
       "     0          130.0\n",
       "     1          125.0\n",
       "     2          130.0\n",
       "3.0  0.0        130.0\n",
       "     1.0        140.0\n",
       "     2.0        130.0\n",
       "     0          130.0\n",
       "     1          130.0\n",
       "     2          120.0\n",
       "4.0  0.0        130.0\n",
       "     1.0        128.0\n",
       "     2.0        130.0\n",
       "     0          130.0\n",
       "     1          130.0\n",
       "     2          140.0\n",
       "Name: trestbps, dtype: float64"
      ]
     },
     "execution_count": 53,
     "metadata": {},
     "output_type": "execute_result"
    }
   ],
   "source": [
    "# Option 2: explore the fare of each class for each restecg point\n",
    "df.groupby(['cp', 'restecg']).trestbps.median()"
   ]
  },
  {
   "cell_type": "code",
   "execution_count": 54,
   "id": "658569be",
   "metadata": {},
   "outputs": [],
   "source": [
    "# replace the missing values with '0'\n",
    "df.restecg.fillna('0', inplace=True)"
   ]
  },
  {
   "cell_type": "code",
   "execution_count": 55,
   "id": "babf45ff",
   "metadata": {},
   "outputs": [
    {
     "data": {
      "text/html": [
       "<div>\n",
       "<style scoped>\n",
       "    .dataframe tbody tr th:only-of-type {\n",
       "        vertical-align: middle;\n",
       "    }\n",
       "\n",
       "    .dataframe tbody tr th {\n",
       "        vertical-align: top;\n",
       "    }\n",
       "\n",
       "    .dataframe thead th {\n",
       "        text-align: right;\n",
       "    }\n",
       "</style>\n",
       "<table border=\"1\" class=\"dataframe\">\n",
       "  <thead>\n",
       "    <tr style=\"text-align: right;\">\n",
       "      <th></th>\n",
       "      <th>age</th>\n",
       "      <th>sex</th>\n",
       "      <th>cp</th>\n",
       "      <th>trestbps</th>\n",
       "      <th>chol</th>\n",
       "      <th>fbs</th>\n",
       "      <th>restecg</th>\n",
       "      <th>thalach</th>\n",
       "      <th>exang</th>\n",
       "      <th>oldpeak</th>\n",
       "      <th>slope</th>\n",
       "      <th>ca</th>\n",
       "      <th>thal</th>\n",
       "      <th>num</th>\n",
       "      <th>diagnosed</th>\n",
       "    </tr>\n",
       "  </thead>\n",
       "  <tbody>\n",
       "  </tbody>\n",
       "</table>\n",
       "</div>"
      ],
      "text/plain": [
       "Empty DataFrame\n",
       "Columns: [age, sex, cp, trestbps, chol, fbs, restecg, thalach, exang, oldpeak, slope, ca, thal, num, diagnosed]\n",
       "Index: []"
      ]
     },
     "execution_count": 55,
     "metadata": {},
     "output_type": "execute_result"
    }
   ],
   "source": [
    "# check if any null value remaining\n",
    "df[df.restecg.isnull()]"
   ]
  },
  {
   "cell_type": "code",
   "execution_count": 56,
   "id": "2f32167f",
   "metadata": {},
   "outputs": [
    {
     "name": "stdout",
     "output_type": "stream",
     "text": [
      "<class 'pandas.core.frame.DataFrame'>\n",
      "Int64Index: 597 entries, 0 to 302\n",
      "Data columns (total 15 columns):\n",
      " #   Column     Non-Null Count  Dtype  \n",
      "---  ------     --------------  -----  \n",
      " 0   age        597 non-null    float64\n",
      " 1   sex        597 non-null    float64\n",
      " 2   cp         597 non-null    float64\n",
      " 3   trestbps   596 non-null    float64\n",
      " 4   chol       574 non-null    object \n",
      " 5   fbs        589 non-null    object \n",
      " 6   restecg    597 non-null    object \n",
      " 7   thalach    596 non-null    object \n",
      " 8   exang      596 non-null    object \n",
      " 9   oldpeak    597 non-null    float64\n",
      " 10  slope      407 non-null    object \n",
      " 11  ca         302 non-null    object \n",
      " 12  thal       329 non-null    object \n",
      " 13  num        597 non-null    int64  \n",
      " 14  diagnosed  597 non-null    int64  \n",
      "dtypes: float64(5), int64(2), object(8)\n",
      "memory usage: 90.8+ KB\n"
     ]
    }
   ],
   "source": [
    "# check info again\n",
    "df.info()"
   ]
  },
  {
   "cell_type": "markdown",
   "id": "866e0085",
   "metadata": {},
   "source": [
    "## Feature trestbps"
   ]
  },
  {
   "cell_type": "code",
   "execution_count": 57,
   "id": "dfeea2be",
   "metadata": {},
   "outputs": [
    {
     "data": {
      "text/html": [
       "<div>\n",
       "<style scoped>\n",
       "    .dataframe tbody tr th:only-of-type {\n",
       "        vertical-align: middle;\n",
       "    }\n",
       "\n",
       "    .dataframe tbody tr th {\n",
       "        vertical-align: top;\n",
       "    }\n",
       "\n",
       "    .dataframe thead th {\n",
       "        text-align: right;\n",
       "    }\n",
       "</style>\n",
       "<table border=\"1\" class=\"dataframe\">\n",
       "  <thead>\n",
       "    <tr style=\"text-align: right;\">\n",
       "      <th></th>\n",
       "      <th>age</th>\n",
       "      <th>sex</th>\n",
       "      <th>cp</th>\n",
       "      <th>trestbps</th>\n",
       "      <th>chol</th>\n",
       "      <th>fbs</th>\n",
       "      <th>restecg</th>\n",
       "      <th>thalach</th>\n",
       "      <th>exang</th>\n",
       "      <th>oldpeak</th>\n",
       "      <th>slope</th>\n",
       "      <th>ca</th>\n",
       "      <th>thal</th>\n",
       "      <th>num</th>\n",
       "      <th>diagnosed</th>\n",
       "    </tr>\n",
       "  </thead>\n",
       "  <tbody>\n",
       "    <tr>\n",
       "      <th>90</th>\n",
       "      <td>48.0</td>\n",
       "      <td>0.0</td>\n",
       "      <td>2.0</td>\n",
       "      <td>NaN</td>\n",
       "      <td>308</td>\n",
       "      <td>0</td>\n",
       "      <td>1</td>\n",
       "      <td>NaN</td>\n",
       "      <td>NaN</td>\n",
       "      <td>2.0</td>\n",
       "      <td>1</td>\n",
       "      <td>NaN</td>\n",
       "      <td>NaN</td>\n",
       "      <td>0</td>\n",
       "      <td>0</td>\n",
       "    </tr>\n",
       "  </tbody>\n",
       "</table>\n",
       "</div>"
      ],
      "text/plain": [
       "     age  sex   cp  trestbps chol fbs restecg thalach exang  oldpeak slope  \\\n",
       "90  48.0  0.0  2.0       NaN  308   0       1     NaN   NaN      2.0     1   \n",
       "\n",
       "     ca thal  num  diagnosed  \n",
       "90  NaN  NaN    0          0  "
      ]
     },
     "execution_count": 57,
     "metadata": {},
     "output_type": "execute_result"
    }
   ],
   "source": [
    "df[df.trestbps.isnull()]"
   ]
  },
  {
   "cell_type": "code",
   "execution_count": 58,
   "id": "12a846d7",
   "metadata": {},
   "outputs": [
    {
     "name": "stdout",
     "output_type": "stream",
     "text": [
      "130.0\n"
     ]
    }
   ],
   "source": [
    "median_trestbps = df.loc[(df.cp==4) & (df.restecg == '0'), 'trestbps'].median()\n",
    "print (median_trestbps)"
   ]
  },
  {
   "cell_type": "code",
   "execution_count": 59,
   "id": "95a14358",
   "metadata": {},
   "outputs": [],
   "source": [
    "df.trestbps.fillna(median_trestbps, inplace=True)"
   ]
  },
  {
   "cell_type": "code",
   "execution_count": 60,
   "id": "dda3976f",
   "metadata": {},
   "outputs": [
    {
     "name": "stdout",
     "output_type": "stream",
     "text": [
      "<class 'pandas.core.frame.DataFrame'>\n",
      "Int64Index: 597 entries, 0 to 302\n",
      "Data columns (total 15 columns):\n",
      " #   Column     Non-Null Count  Dtype  \n",
      "---  ------     --------------  -----  \n",
      " 0   age        597 non-null    float64\n",
      " 1   sex        597 non-null    float64\n",
      " 2   cp         597 non-null    float64\n",
      " 3   trestbps   597 non-null    float64\n",
      " 4   chol       574 non-null    object \n",
      " 5   fbs        589 non-null    object \n",
      " 6   restecg    597 non-null    object \n",
      " 7   thalach    596 non-null    object \n",
      " 8   exang      596 non-null    object \n",
      " 9   oldpeak    597 non-null    float64\n",
      " 10  slope      407 non-null    object \n",
      " 11  ca         302 non-null    object \n",
      " 12  thal       329 non-null    object \n",
      " 13  num        597 non-null    int64  \n",
      " 14  diagnosed  597 non-null    int64  \n",
      "dtypes: float64(5), int64(2), object(8)\n",
      "memory usage: 90.8+ KB\n"
     ]
    }
   ],
   "source": [
    "# check info again\n",
    "df.info()"
   ]
  },
  {
   "cell_type": "markdown",
   "id": "f7324988",
   "metadata": {},
   "source": [
    "## Feature : Age"
   ]
  },
  {
   "cell_type": "code",
   "execution_count": 61,
   "id": "4db94b5f",
   "metadata": {},
   "outputs": [],
   "source": [
    "# set maximum number of rows to be displayed\n",
    "pd.options.display.max_rows = 15"
   ]
  },
  {
   "cell_type": "code",
   "execution_count": 62,
   "id": "579590c9",
   "metadata": {},
   "outputs": [
    {
     "data": {
      "text/html": [
       "<div>\n",
       "<style scoped>\n",
       "    .dataframe tbody tr th:only-of-type {\n",
       "        vertical-align: middle;\n",
       "    }\n",
       "\n",
       "    .dataframe tbody tr th {\n",
       "        vertical-align: top;\n",
       "    }\n",
       "\n",
       "    .dataframe thead th {\n",
       "        text-align: right;\n",
       "    }\n",
       "</style>\n",
       "<table border=\"1\" class=\"dataframe\">\n",
       "  <thead>\n",
       "    <tr style=\"text-align: right;\">\n",
       "      <th></th>\n",
       "      <th>age</th>\n",
       "      <th>sex</th>\n",
       "      <th>cp</th>\n",
       "      <th>trestbps</th>\n",
       "      <th>chol</th>\n",
       "      <th>fbs</th>\n",
       "      <th>restecg</th>\n",
       "      <th>thalach</th>\n",
       "      <th>exang</th>\n",
       "      <th>oldpeak</th>\n",
       "      <th>slope</th>\n",
       "      <th>ca</th>\n",
       "      <th>thal</th>\n",
       "      <th>num</th>\n",
       "      <th>diagnosed</th>\n",
       "    </tr>\n",
       "  </thead>\n",
       "  <tbody>\n",
       "  </tbody>\n",
       "</table>\n",
       "</div>"
      ],
      "text/plain": [
       "Empty DataFrame\n",
       "Columns: [age, sex, cp, trestbps, chol, fbs, restecg, thalach, exang, oldpeak, slope, ca, thal, num, diagnosed]\n",
       "Index: []"
      ]
     },
     "execution_count": 62,
     "metadata": {},
     "output_type": "execute_result"
    }
   ],
   "source": [
    "# return null rows\n",
    "df[df.age.isnull()]"
   ]
  },
  {
   "cell_type": "markdown",
   "id": "36018c3e",
   "metadata": {},
   "source": [
    "### option 1: replace all missing age with mean value"
   ]
  },
  {
   "cell_type": "code",
   "execution_count": 63,
   "id": "7803844b",
   "metadata": {},
   "outputs": [
    {
     "data": {
      "image/png": "[encoded data removed]",
      "text/plain": [
       "<Figure size 432x288 with 1 Axes>"
      ]
     },
     "metadata": {
      "needs_background": "light"
     },
     "output_type": "display_data"
    }
   ],
   "source": [
    "df.age.plot(kind='hist',bins=20, color='c');"
   ]
  },
  {
   "cell_type": "code",
   "execution_count": 64,
   "id": "70cc7612",
   "metadata": {},
   "outputs": [
    {
     "data": {
      "text/plain": [
       "51.18257956448911"
      ]
     },
     "execution_count": 64,
     "metadata": {},
     "output_type": "execute_result"
    }
   ],
   "source": [
    "# get mean\n",
    "df.age.mean()"
   ]
  },
  {
   "cell_type": "code",
   "execution_count": 65,
   "id": "149d08ed",
   "metadata": {},
   "outputs": [],
   "source": [
    "### issue: due to few high values of 70's and 80's pushing the overall mean\n",
    "# replace the missing values\n",
    "# df.Age.fillna(df.Age.mean(), inplace=True)"
   ]
  },
  {
   "cell_type": "markdown",
   "id": "8a77072a",
   "metadata": {},
   "source": [
    "## option 2: replace with median age of gender"
   ]
  },
  {
   "cell_type": "code",
   "execution_count": 66,
   "id": "02f90d8d",
   "metadata": {},
   "outputs": [
    {
     "data": {
      "text/plain": [
       "sex\n",
       "0.0    52.0\n",
       "1.0    52.0\n",
       "Name: age, dtype: float64"
      ]
     },
     "execution_count": 66,
     "metadata": {},
     "output_type": "execute_result"
    }
   ],
   "source": [
    "# median values\n",
    "df.groupby('sex').age.median()"
   ]
  },
  {
   "cell_type": "code",
   "execution_count": 67,
   "id": "f7522b28",
   "metadata": {},
   "outputs": [
    {
     "data": {
      "image/png": "[encoded data removed]",
      "text/plain": [
       "<Figure size 432x288 with 1 Axes>"
      ]
     },
     "metadata": {
      "needs_background": "light"
     },
     "output_type": "display_data"
    }
   ],
   "source": [
    "# visualize using boxplot\n",
    "df[df.age.notnull()].boxplot('age','sex');"
   ]
  },
  {
   "cell_type": "code",
   "execution_count": 68,
   "id": "d72212e5",
   "metadata": {},
   "outputs": [],
   "source": [
    "# replace :\n",
    "# age_sex_median = df.groupby('Sex').Age.transform('median')\n",
    "# df.Age.fillna(age_sex_median, inplace=True)"
   ]
  },
  {
   "cell_type": "markdown",
   "id": "b8ef6893",
   "metadata": {},
   "source": [
    "## option 3: replace with median age of cp"
   ]
  },
  {
   "cell_type": "code",
   "execution_count": 69,
   "id": "1e61f563",
   "metadata": {},
   "outputs": [
    {
     "data": {
      "image/png": "[encoded data removed]",
      "text/plain": [
       "<Figure size 432x288 with 1 Axes>"
      ]
     },
     "metadata": {
      "needs_background": "light"
     },
     "output_type": "display_data"
    }
   ],
   "source": [
    "df[df.age.notnull()].boxplot('age','cp');"
   ]
  },
  {
   "cell_type": "code",
   "execution_count": 70,
   "id": "64bbe3b6",
   "metadata": {},
   "outputs": [],
   "source": [
    "# replace\n",
    "# cp_age_median = df.groupby('cp').age.transform('median')\n",
    "# df.age.fillna(cp_age_median, inplace=True)"
   ]
  },
  {
   "cell_type": "markdown",
   "id": "420f5d6e",
   "metadata": {},
   "source": [
    "## Working with Outliers"
   ]
  },
  {
   "cell_type": "markdown",
   "id": "7668598f",
   "metadata": {},
   "source": [
    "### age"
   ]
  },
  {
   "cell_type": "code",
   "execution_count": 71,
   "id": "2348d98d",
   "metadata": {},
   "outputs": [
    {
     "data": {
      "image/png": "[encoded data removed]",
      "text/plain": [
       "<Figure size 432x288 with 1 Axes>"
      ]
     },
     "metadata": {
      "needs_background": "light"
     },
     "output_type": "display_data"
    }
   ],
   "source": [
    "# use histogram to get understand the distribution\n",
    "df.age.plot(kind='hist',bins=20, color='c');"
   ]
  },
  {
   "cell_type": "code",
   "execution_count": 72,
   "id": "4c4d2a5c",
   "metadata": {},
   "outputs": [
    {
     "data": {
      "text/html": [
       "<div>\n",
       "<style scoped>\n",
       "    .dataframe tbody tr th:only-of-type {\n",
       "        vertical-align: middle;\n",
       "    }\n",
       "\n",
       "    .dataframe tbody tr th {\n",
       "        vertical-align: top;\n",
       "    }\n",
       "\n",
       "    .dataframe thead th {\n",
       "        text-align: right;\n",
       "    }\n",
       "</style>\n",
       "<table border=\"1\" class=\"dataframe\">\n",
       "  <thead>\n",
       "    <tr style=\"text-align: right;\">\n",
       "      <th></th>\n",
       "      <th>age</th>\n",
       "      <th>sex</th>\n",
       "      <th>cp</th>\n",
       "      <th>trestbps</th>\n",
       "      <th>chol</th>\n",
       "      <th>fbs</th>\n",
       "      <th>restecg</th>\n",
       "      <th>thalach</th>\n",
       "      <th>exang</th>\n",
       "      <th>oldpeak</th>\n",
       "      <th>slope</th>\n",
       "      <th>ca</th>\n",
       "      <th>thal</th>\n",
       "      <th>num</th>\n",
       "      <th>diagnosed</th>\n",
       "    </tr>\n",
       "  </thead>\n",
       "  <tbody>\n",
       "    <tr>\n",
       "      <th>42</th>\n",
       "      <td>71.0</td>\n",
       "      <td>0.0</td>\n",
       "      <td>2.0</td>\n",
       "      <td>160.0</td>\n",
       "      <td>302.0</td>\n",
       "      <td>0.0</td>\n",
       "      <td>0.0</td>\n",
       "      <td>162.0</td>\n",
       "      <td>0.0</td>\n",
       "      <td>0.4</td>\n",
       "      <td>1.0</td>\n",
       "      <td>2.0</td>\n",
       "      <td>3.0</td>\n",
       "      <td>0</td>\n",
       "      <td>-888</td>\n",
       "    </tr>\n",
       "    <tr>\n",
       "      <th>103</th>\n",
       "      <td>71.0</td>\n",
       "      <td>0.0</td>\n",
       "      <td>3.0</td>\n",
       "      <td>110.0</td>\n",
       "      <td>265.0</td>\n",
       "      <td>1.0</td>\n",
       "      <td>2.0</td>\n",
       "      <td>130.0</td>\n",
       "      <td>0.0</td>\n",
       "      <td>0.0</td>\n",
       "      <td>1.0</td>\n",
       "      <td>1.0</td>\n",
       "      <td>3.0</td>\n",
       "      <td>0</td>\n",
       "      <td>-888</td>\n",
       "    </tr>\n",
       "    <tr>\n",
       "      <th>161</th>\n",
       "      <td>77.0</td>\n",
       "      <td>1.0</td>\n",
       "      <td>4.0</td>\n",
       "      <td>125.0</td>\n",
       "      <td>304.0</td>\n",
       "      <td>0.0</td>\n",
       "      <td>2.0</td>\n",
       "      <td>162.0</td>\n",
       "      <td>1.0</td>\n",
       "      <td>0.0</td>\n",
       "      <td>1.0</td>\n",
       "      <td>3.0</td>\n",
       "      <td>3.0</td>\n",
       "      <td>4</td>\n",
       "      <td>-888</td>\n",
       "    </tr>\n",
       "    <tr>\n",
       "      <th>233</th>\n",
       "      <td>74.0</td>\n",
       "      <td>0.0</td>\n",
       "      <td>2.0</td>\n",
       "      <td>120.0</td>\n",
       "      <td>269.0</td>\n",
       "      <td>0.0</td>\n",
       "      <td>2.0</td>\n",
       "      <td>121.0</td>\n",
       "      <td>1.0</td>\n",
       "      <td>0.2</td>\n",
       "      <td>1.0</td>\n",
       "      <td>1.0</td>\n",
       "      <td>3.0</td>\n",
       "      <td>0</td>\n",
       "      <td>-888</td>\n",
       "    </tr>\n",
       "    <tr>\n",
       "      <th>257</th>\n",
       "      <td>76.0</td>\n",
       "      <td>0.0</td>\n",
       "      <td>3.0</td>\n",
       "      <td>140.0</td>\n",
       "      <td>197.0</td>\n",
       "      <td>0.0</td>\n",
       "      <td>1.0</td>\n",
       "      <td>116.0</td>\n",
       "      <td>0.0</td>\n",
       "      <td>1.1</td>\n",
       "      <td>2.0</td>\n",
       "      <td>0.0</td>\n",
       "      <td>3.0</td>\n",
       "      <td>0</td>\n",
       "      <td>-888</td>\n",
       "    </tr>\n",
       "    <tr>\n",
       "      <th>273</th>\n",
       "      <td>71.0</td>\n",
       "      <td>0.0</td>\n",
       "      <td>4.0</td>\n",
       "      <td>112.0</td>\n",
       "      <td>149.0</td>\n",
       "      <td>0.0</td>\n",
       "      <td>0.0</td>\n",
       "      <td>125.0</td>\n",
       "      <td>0.0</td>\n",
       "      <td>1.6</td>\n",
       "      <td>2.0</td>\n",
       "      <td>0.0</td>\n",
       "      <td>3.0</td>\n",
       "      <td>0</td>\n",
       "      <td>-888</td>\n",
       "    </tr>\n",
       "  </tbody>\n",
       "</table>\n",
       "</div>"
      ],
      "text/plain": [
       "      age  sex   cp  trestbps   chol  fbs restecg thalach exang  oldpeak  \\\n",
       "42   71.0  0.0  2.0     160.0  302.0  0.0     0.0   162.0   0.0      0.4   \n",
       "103  71.0  0.0  3.0     110.0  265.0  1.0     2.0   130.0   0.0      0.0   \n",
       "161  77.0  1.0  4.0     125.0  304.0  0.0     2.0   162.0   1.0      0.0   \n",
       "233  74.0  0.0  2.0     120.0  269.0  0.0     2.0   121.0   1.0      0.2   \n",
       "257  76.0  0.0  3.0     140.0  197.0  0.0     1.0   116.0   0.0      1.1   \n",
       "273  71.0  0.0  4.0     112.0  149.0  0.0     0.0   125.0   0.0      1.6   \n",
       "\n",
       "    slope   ca thal  num  diagnosed  \n",
       "42    1.0  2.0  3.0    0       -888  \n",
       "103   1.0  1.0  3.0    0       -888  \n",
       "161   1.0  3.0  3.0    4       -888  \n",
       "233   1.0  1.0  3.0    0       -888  \n",
       "257   2.0  0.0  3.0    0       -888  \n",
       "273   2.0  0.0  3.0    0       -888  "
      ]
     },
     "execution_count": 72,
     "metadata": {},
     "output_type": "execute_result"
    }
   ],
   "source": [
    "df.loc[df.age > 70]"
   ]
  },
  {
   "cell_type": "markdown",
   "id": "264cb0bf",
   "metadata": {},
   "source": [
    "## trestbps"
   ]
  },
  {
   "cell_type": "code",
   "execution_count": 73,
   "id": "f666ed24",
   "metadata": {},
   "outputs": [
    {
     "data": {
      "text/plain": [
       "<AxesSubplot:title={'center':'histogram for trestbps'}, ylabel='Frequency'>"
      ]
     },
     "execution_count": 73,
     "metadata": {},
     "output_type": "execute_result"
    },
    {
     "data": {
      "image/png": "[encoded data removed]",
      "text/plain": [
       "<Figure size 432x288 with 1 Axes>"
      ]
     },
     "metadata": {
      "needs_background": "light"
     },
     "output_type": "display_data"
    }
   ],
   "source": [
    "# histogram for fare\n",
    "df.trestbps.plot(kind='hist', title='histogram for trestbps', bins=20, color='c')"
   ]
  },
  {
   "cell_type": "code",
   "execution_count": 74,
   "id": "ecc3d385",
   "metadata": {},
   "outputs": [
    {
     "data": {
      "image/png": "[encoded data removed]",
      "text/plain": [
       "<Figure size 432x288 with 1 Axes>"
      ]
     },
     "metadata": {
      "needs_background": "light"
     },
     "output_type": "display_data"
    }
   ],
   "source": [
    "# box plot to identify outliers\n",
    "df.trestbps.plot(kind='box');"
   ]
  },
  {
   "cell_type": "code",
   "execution_count": 75,
   "id": "04d119da",
   "metadata": {},
   "outputs": [
    {
     "data": {
      "text/html": [
       "<div>\n",
       "<style scoped>\n",
       "    .dataframe tbody tr th:only-of-type {\n",
       "        vertical-align: middle;\n",
       "    }\n",
       "\n",
       "    .dataframe tbody tr th {\n",
       "        vertical-align: top;\n",
       "    }\n",
       "\n",
       "    .dataframe thead th {\n",
       "        text-align: right;\n",
       "    }\n",
       "</style>\n",
       "<table border=\"1\" class=\"dataframe\">\n",
       "  <thead>\n",
       "    <tr style=\"text-align: right;\">\n",
       "      <th></th>\n",
       "      <th>age</th>\n",
       "      <th>sex</th>\n",
       "      <th>cp</th>\n",
       "      <th>trestbps</th>\n",
       "      <th>chol</th>\n",
       "      <th>fbs</th>\n",
       "      <th>restecg</th>\n",
       "      <th>thalach</th>\n",
       "      <th>exang</th>\n",
       "      <th>oldpeak</th>\n",
       "      <th>slope</th>\n",
       "      <th>ca</th>\n",
       "      <th>thal</th>\n",
       "      <th>num</th>\n",
       "      <th>diagnosed</th>\n",
       "    </tr>\n",
       "  </thead>\n",
       "  <tbody>\n",
       "    <tr>\n",
       "      <th>245</th>\n",
       "      <td>54.0</td>\n",
       "      <td>1.0</td>\n",
       "      <td>4.0</td>\n",
       "      <td>200.0</td>\n",
       "      <td>198</td>\n",
       "      <td>0</td>\n",
       "      <td>0</td>\n",
       "      <td>142</td>\n",
       "      <td>1</td>\n",
       "      <td>2.0</td>\n",
       "      <td>2</td>\n",
       "      <td>NaN</td>\n",
       "      <td>NaN</td>\n",
       "      <td>1</td>\n",
       "      <td>1</td>\n",
       "    </tr>\n",
       "    <tr>\n",
       "      <th>126</th>\n",
       "      <td>56.0</td>\n",
       "      <td>0.0</td>\n",
       "      <td>4.0</td>\n",
       "      <td>200.0</td>\n",
       "      <td>288.0</td>\n",
       "      <td>1.0</td>\n",
       "      <td>2.0</td>\n",
       "      <td>133.0</td>\n",
       "      <td>1.0</td>\n",
       "      <td>4.0</td>\n",
       "      <td>3.0</td>\n",
       "      <td>2.0</td>\n",
       "      <td>7.0</td>\n",
       "      <td>3</td>\n",
       "      <td>-888</td>\n",
       "    </tr>\n",
       "  </tbody>\n",
       "</table>\n",
       "</div>"
      ],
      "text/plain": [
       "      age  sex   cp  trestbps   chol  fbs restecg thalach exang  oldpeak  \\\n",
       "245  54.0  1.0  4.0     200.0    198    0       0     142     1      2.0   \n",
       "126  56.0  0.0  4.0     200.0  288.0  1.0     2.0   133.0   1.0      4.0   \n",
       "\n",
       "    slope   ca thal  num  diagnosed  \n",
       "245     2  NaN  NaN    1          1  \n",
       "126   3.0  2.0  7.0    3       -888  "
      ]
     },
     "execution_count": 75,
     "metadata": {},
     "output_type": "execute_result"
    }
   ],
   "source": [
    "# look into the outliers\n",
    "df.loc[df.trestbps == df.trestbps.max()]"
   ]
  },
  {
   "cell_type": "code",
   "execution_count": 76,
   "id": "c2102091",
   "metadata": {},
   "outputs": [],
   "source": [
    "# Try some transformation to reduce the skewness\n",
    "Logtrestbps = np.log(df.trestbps + 1.0) # Adding 1 to accomodate zero fares : log(0) is not defined"
   ]
  },
  {
   "cell_type": "code",
   "execution_count": 77,
   "id": "f9b16ea8",
   "metadata": {},
   "outputs": [
    {
     "data": {
      "image/png": "[encoded data removed]",
      "text/plain": [
       "<Figure size 432x288 with 1 Axes>"
      ]
     },
     "metadata": {
      "needs_background": "light"
     },
     "output_type": "display_data"
    }
   ],
   "source": [
    "# Histogram of LogFare\n",
    "Logtrestbps.plot(kind='hist',color='c',bins=20);"
   ]
  },
  {
   "cell_type": "code",
   "execution_count": 78,
   "id": "7c59e561",
   "metadata": {},
   "outputs": [
    {
     "data": {
      "text/plain": [
       "0       (120.0, 130.0]\n",
       "1      (91.999, 120.0]\n",
       "2       (130.0, 140.0]\n",
       "3       (140.0, 200.0]\n",
       "4      (91.999, 120.0]\n",
       "            ...       \n",
       "298    (91.999, 120.0]\n",
       "299     (140.0, 200.0]\n",
       "300     (120.0, 130.0]\n",
       "301     (120.0, 130.0]\n",
       "302     (130.0, 140.0]\n",
       "Name: trestbps, Length: 597, dtype: category\n",
       "Categories (4, interval[float64]): [(91.999, 120.0] < (120.0, 130.0] < (130.0, 140.0] < (140.0, 200.0]]"
      ]
     },
     "execution_count": 78,
     "metadata": {},
     "output_type": "execute_result"
    }
   ],
   "source": [
    "# binning\n",
    "pd.qcut(df.trestbps, 4)"
   ]
  },
  {
   "cell_type": "code",
   "execution_count": 79,
   "id": "e06a3bd6",
   "metadata": {},
   "outputs": [
    {
     "data": {
      "text/plain": [
       "0            low\n",
       "1       very_low\n",
       "2           high\n",
       "3      very_high\n",
       "4       very_low\n",
       "         ...    \n",
       "298     very_low\n",
       "299    very_high\n",
       "300          low\n",
       "301          low\n",
       "302         high\n",
       "Name: trestbps, Length: 597, dtype: category\n",
       "Categories (4, object): ['very_low' < 'low' < 'high' < 'very_high']"
      ]
     },
     "execution_count": 79,
     "metadata": {},
     "output_type": "execute_result"
    }
   ],
   "source": [
    "pd.qcut(df.trestbps,4,labels=['very_low','low','high','very_high'])"
   ]
  },
  {
   "cell_type": "code",
   "execution_count": 80,
   "id": "36373a39",
   "metadata": {},
   "outputs": [
    {
     "data": {
      "image/png": "[encoded data removed]",
      "text/plain": [
       "<Figure size 432x288 with 1 Axes>"
      ]
     },
     "metadata": {
      "needs_background": "light"
     },
     "output_type": "display_data"
    }
   ],
   "source": [
    "pd.qcut(df.trestbps,4,labels=['very_low','low','high','very_high']).value_counts().plot(kind='bar',color='c',rot=0);"
   ]
  },
  {
   "cell_type": "code",
   "execution_count": 81,
   "id": "0aeaf35f",
   "metadata": {},
   "outputs": [],
   "source": [
    "# create fare bin feature\n",
    "df['trestbps_Bin'] = pd.qcut(df.trestbps,4,labels=['very_low','low','high','very_high'])"
   ]
  },
  {
   "cell_type": "markdown",
   "id": "cb72189e",
   "metadata": {},
   "source": [
    "## Feature Engineering"
   ]
  },
  {
   "cell_type": "markdown",
   "id": "85b7dade",
   "metadata": {},
   "source": [
    "### Feature : Age State (Adult or Child)"
   ]
  },
  {
   "cell_type": "code",
   "execution_count": 82,
   "id": "71669738",
   "metadata": {},
   "outputs": [],
   "source": [
    "# AgeState based on Age\n",
    "df['AgeState'] = np.where(df['age'] >= 60, 'OldAdult','MiddleAdult')"
   ]
  },
  {
   "cell_type": "code",
   "execution_count": 83,
   "id": "7f926022",
   "metadata": {},
   "outputs": [
    {
     "data": {
      "text/plain": [
       "MiddleAdult    495\n",
       "OldAdult       102\n",
       "Name: AgeState, dtype: int64"
      ]
     },
     "execution_count": 83,
     "metadata": {},
     "output_type": "execute_result"
    }
   ],
   "source": [
    "# AgeState Counts\n",
    "df['AgeState'].value_counts()"
   ]
  },
  {
   "cell_type": "code",
   "execution_count": 84,
   "id": "ce6d584d",
   "metadata": {},
   "outputs": [
    {
     "data": {
      "text/html": [
       "<div>\n",
       "<style scoped>\n",
       "    .dataframe tbody tr th:only-of-type {\n",
       "        vertical-align: middle;\n",
       "    }\n",
       "\n",
       "    .dataframe tbody tr th {\n",
       "        vertical-align: top;\n",
       "    }\n",
       "\n",
       "    .dataframe thead th {\n",
       "        text-align: right;\n",
       "    }\n",
       "</style>\n",
       "<table border=\"1\" class=\"dataframe\">\n",
       "  <thead>\n",
       "    <tr style=\"text-align: right;\">\n",
       "      <th>AgeState</th>\n",
       "      <th>MiddleAdult</th>\n",
       "      <th>OldAdult</th>\n",
       "    </tr>\n",
       "    <tr>\n",
       "      <th>diagnosed</th>\n",
       "      <th></th>\n",
       "      <th></th>\n",
       "    </tr>\n",
       "  </thead>\n",
       "  <tbody>\n",
       "    <tr>\n",
       "      <th>0</th>\n",
       "      <td>183</td>\n",
       "      <td>5</td>\n",
       "    </tr>\n",
       "    <tr>\n",
       "      <th>1</th>\n",
       "      <td>100</td>\n",
       "      <td>6</td>\n",
       "    </tr>\n",
       "  </tbody>\n",
       "</table>\n",
       "</div>"
      ],
      "text/plain": [
       "AgeState   MiddleAdult  OldAdult\n",
       "diagnosed                       \n",
       "0                  183         5\n",
       "1                  100         6"
      ]
     },
     "execution_count": 84,
     "metadata": {},
     "output_type": "execute_result"
    }
   ],
   "source": [
    "# crosstab\n",
    "pd.crosstab(df[df.diagnosed != -888].diagnosed, df[df.diagnosed != -888].AgeState)"
   ]
  },
  {
   "cell_type": "markdown",
   "id": "f9db0f8e",
   "metadata": {},
   "source": [
    "### chalach"
   ]
  },
  {
   "cell_type": "code",
   "execution_count": 85,
   "id": "7472240d",
   "metadata": {},
   "outputs": [
    {
     "name": "stdout",
     "output_type": "stream",
     "text": [
      "<class 'pandas.core.frame.DataFrame'>\n",
      "Int64Index: 597 entries, 0 to 302\n",
      "Data columns (total 17 columns):\n",
      " #   Column        Non-Null Count  Dtype   \n",
      "---  ------        --------------  -----   \n",
      " 0   age           597 non-null    float64 \n",
      " 1   sex           597 non-null    float64 \n",
      " 2   cp            597 non-null    float64 \n",
      " 3   trestbps      597 non-null    float64 \n",
      " 4   chol          574 non-null    object  \n",
      " 5   fbs           589 non-null    object  \n",
      " 6   restecg       597 non-null    object  \n",
      " 7   thalach       596 non-null    object  \n",
      " 8   exang         596 non-null    object  \n",
      " 9   oldpeak       597 non-null    float64 \n",
      " 10  slope         407 non-null    object  \n",
      " 11  ca            302 non-null    object  \n",
      " 12  thal          329 non-null    object  \n",
      " 13  num           597 non-null    int64   \n",
      " 14  diagnosed     597 non-null    int64   \n",
      " 15  trestbps_Bin  597 non-null    category\n",
      " 16  AgeState      597 non-null    object  \n",
      "dtypes: category(1), float64(5), int64(2), object(9)\n",
      "memory usage: 96.2+ KB\n"
     ]
    }
   ],
   "source": [
    "df.info()"
   ]
  },
  {
   "cell_type": "code",
   "execution_count": 86,
   "id": "4f45b5a7",
   "metadata": {},
   "outputs": [
    {
     "data": {
      "text/plain": [
       "0        185\n",
       "1        160\n",
       "2        170\n",
       "3        170\n",
       "4        150\n",
       "       ...  \n",
       "298    132.0\n",
       "299    141.0\n",
       "300    115.0\n",
       "301    174.0\n",
       "302    173.0\n",
       "Name: thalach, Length: 597, dtype: object"
      ]
     },
     "execution_count": 86,
     "metadata": {},
     "output_type": "execute_result"
    }
   ],
   "source": [
    "# explore chalach values\n",
    "df.thalach"
   ]
  },
  {
   "cell_type": "code",
   "execution_count": 87,
   "id": "6d9fb282",
   "metadata": {},
   "outputs": [
    {
     "data": {
      "text/plain": [
       "array(['185', '160', '170', '150', '165', '184', '155', '190', '168',\n",
       "       '180', '178', '172', '130', '142', '98', '158', '129', '146',\n",
       "       '145', '120', '106', '132', '140', '138', '167', '188', '144',\n",
       "       '137', '136', '152', '175', '176', '118', '154', '115', '135',\n",
       "       '122', '110', '90', '116', '174', '125', nan, '148', '100', '164',\n",
       "       '139', '127', '162', '112', '134', '114', '128', '126', '124',\n",
       "       '153', '166', '103', '156', '87', '102', '92', '99', '121', '91',\n",
       "       '108', '96', '82', '105', '143', '119', '94', 150.0, 108.0, 129.0,\n",
       "       187.0, 172.0, 178.0, 160.0, 163.0, 147.0, 155.0, 148.0, 153.0,\n",
       "       142.0, 173.0, 162.0, 174.0, 168.0, 139.0, 171.0, 144.0, 132.0,\n",
       "       158.0, 114.0, 151.0, 161.0, 179.0, 120.0, 112.0, 137.0, 157.0,\n",
       "       169.0, 165.0, 123.0, 128.0, 152.0, 140.0, 188.0, 109.0, 125.0,\n",
       "       131.0, 170.0, 113.0, 99.0, 177.0, 141.0, 180.0, 111.0, 143.0,\n",
       "       182.0, 156.0, 115.0, 149.0, 145.0, 146.0, 175.0, 186.0, 185.0,\n",
       "       159.0, 130.0, 190.0, 136.0, 97.0, 127.0, 154.0, 133.0, 126.0,\n",
       "       202.0, 103.0, 166.0, 164.0, 184.0, 124.0, 122.0, 96.0, 138.0, 88.0,\n",
       "       105.0, 194.0, 195.0, 106.0, 167.0, 95.0, 192.0, 117.0, 121.0,\n",
       "       116.0, 71.0, 118.0, 181.0, 134.0, 90.0], dtype=object)"
      ]
     },
     "execution_count": 87,
     "metadata": {},
     "output_type": "execute_result"
    }
   ],
   "source": [
    "# get unique values for Cabin feature\n",
    "df.thalach.unique()"
   ]
  },
  {
   "cell_type": "code",
   "execution_count": 88,
   "id": "28a52230",
   "metadata": {},
   "outputs": [],
   "source": [
    "df['thalach'] = pd.to_numeric(df['thalach'])"
   ]
  },
  {
   "cell_type": "code",
   "execution_count": 89,
   "id": "0953f52c",
   "metadata": {},
   "outputs": [
    {
     "data": {
      "text/html": [
       "<div>\n",
       "<style scoped>\n",
       "    .dataframe tbody tr th:only-of-type {\n",
       "        vertical-align: middle;\n",
       "    }\n",
       "\n",
       "    .dataframe tbody tr th {\n",
       "        vertical-align: top;\n",
       "    }\n",
       "\n",
       "    .dataframe thead th {\n",
       "        text-align: right;\n",
       "    }\n",
       "</style>\n",
       "<table border=\"1\" class=\"dataframe\">\n",
       "  <thead>\n",
       "    <tr style=\"text-align: right;\">\n",
       "      <th></th>\n",
       "      <th>age</th>\n",
       "      <th>sex</th>\n",
       "      <th>cp</th>\n",
       "      <th>trestbps</th>\n",
       "      <th>chol</th>\n",
       "      <th>fbs</th>\n",
       "      <th>restecg</th>\n",
       "      <th>thalach</th>\n",
       "      <th>exang</th>\n",
       "      <th>oldpeak</th>\n",
       "      <th>slope</th>\n",
       "      <th>ca</th>\n",
       "      <th>thal</th>\n",
       "      <th>num</th>\n",
       "      <th>diagnosed</th>\n",
       "      <th>trestbps_Bin</th>\n",
       "      <th>AgeState</th>\n",
       "    </tr>\n",
       "  </thead>\n",
       "  <tbody>\n",
       "    <tr>\n",
       "      <th>90</th>\n",
       "      <td>48.0</td>\n",
       "      <td>0.0</td>\n",
       "      <td>2.0</td>\n",
       "      <td>130.0</td>\n",
       "      <td>308</td>\n",
       "      <td>0</td>\n",
       "      <td>1</td>\n",
       "      <td>NaN</td>\n",
       "      <td>NaN</td>\n",
       "      <td>2.0</td>\n",
       "      <td>1</td>\n",
       "      <td>NaN</td>\n",
       "      <td>NaN</td>\n",
       "      <td>0</td>\n",
       "      <td>0</td>\n",
       "      <td>low</td>\n",
       "      <td>MiddleAdult</td>\n",
       "    </tr>\n",
       "  </tbody>\n",
       "</table>\n",
       "</div>"
      ],
      "text/plain": [
       "     age  sex   cp  trestbps chol fbs restecg  thalach exang  oldpeak slope  \\\n",
       "90  48.0  0.0  2.0     130.0  308   0       1      NaN   NaN      2.0     1   \n",
       "\n",
       "     ca thal  num  diagnosed trestbps_Bin     AgeState  \n",
       "90  NaN  NaN    0          0          low  MiddleAdult  "
      ]
     },
     "execution_count": 89,
     "metadata": {},
     "output_type": "execute_result"
    }
   ],
   "source": [
    "df[df.thalach.isnull()]"
   ]
  },
  {
   "cell_type": "code",
   "execution_count": 90,
   "id": "411c0f8f",
   "metadata": {},
   "outputs": [
    {
     "data": {
      "text/plain": [
       "146.0"
      ]
     },
     "execution_count": 90,
     "metadata": {},
     "output_type": "execute_result"
    }
   ],
   "source": [
    "median_thalach = df.thalach.median()\n",
    "median_thalach"
   ]
  },
  {
   "cell_type": "code",
   "execution_count": 91,
   "id": "e90ca77e",
   "metadata": {},
   "outputs": [],
   "source": [
    "df.trestbps.fillna(median_thalach, inplace=True)"
   ]
  },
  {
   "cell_type": "code",
   "execution_count": 92,
   "id": "5db3fe5c",
   "metadata": {},
   "outputs": [
    {
     "data": {
      "text/html": [
       "<div>\n",
       "<style scoped>\n",
       "    .dataframe tbody tr th:only-of-type {\n",
       "        vertical-align: middle;\n",
       "    }\n",
       "\n",
       "    .dataframe tbody tr th {\n",
       "        vertical-align: top;\n",
       "    }\n",
       "\n",
       "    .dataframe thead th {\n",
       "        text-align: right;\n",
       "    }\n",
       "</style>\n",
       "<table border=\"1\" class=\"dataframe\">\n",
       "  <thead>\n",
       "    <tr style=\"text-align: right;\">\n",
       "      <th></th>\n",
       "      <th>age</th>\n",
       "      <th>sex</th>\n",
       "      <th>cp</th>\n",
       "      <th>trestbps</th>\n",
       "      <th>chol</th>\n",
       "      <th>fbs</th>\n",
       "      <th>restecg</th>\n",
       "      <th>thalach</th>\n",
       "      <th>exang</th>\n",
       "      <th>oldpeak</th>\n",
       "      <th>slope</th>\n",
       "      <th>ca</th>\n",
       "      <th>thal</th>\n",
       "      <th>num</th>\n",
       "      <th>diagnosed</th>\n",
       "      <th>trestbps_Bin</th>\n",
       "      <th>AgeState</th>\n",
       "    </tr>\n",
       "  </thead>\n",
       "  <tbody>\n",
       "    <tr>\n",
       "      <th>90</th>\n",
       "      <td>48.0</td>\n",
       "      <td>0.0</td>\n",
       "      <td>2.0</td>\n",
       "      <td>130.0</td>\n",
       "      <td>308</td>\n",
       "      <td>0</td>\n",
       "      <td>1</td>\n",
       "      <td>NaN</td>\n",
       "      <td>NaN</td>\n",
       "      <td>2.0</td>\n",
       "      <td>1</td>\n",
       "      <td>NaN</td>\n",
       "      <td>NaN</td>\n",
       "      <td>0</td>\n",
       "      <td>0</td>\n",
       "      <td>low</td>\n",
       "      <td>MiddleAdult</td>\n",
       "    </tr>\n",
       "  </tbody>\n",
       "</table>\n",
       "</div>"
      ],
      "text/plain": [
       "     age  sex   cp  trestbps chol fbs restecg  thalach exang  oldpeak slope  \\\n",
       "90  48.0  0.0  2.0     130.0  308   0       1      NaN   NaN      2.0     1   \n",
       "\n",
       "     ca thal  num  diagnosed trestbps_Bin     AgeState  \n",
       "90  NaN  NaN    0          0          low  MiddleAdult  "
      ]
     },
     "execution_count": 92,
     "metadata": {},
     "output_type": "execute_result"
    }
   ],
   "source": [
    "df[df.thalach.isnull()]"
   ]
  },
  {
   "cell_type": "code",
   "execution_count": 93,
   "id": "d2fdfd5a",
   "metadata": {},
   "outputs": [
    {
     "data": {
      "text/plain": [
       "array([185., 160., 170., 150., 165., 184., 155., 190., 168., 180., 178.,\n",
       "       172., 130., 142.,  98., 158., 129., 146., 145., 120., 106., 132.,\n",
       "       140., 138., 167., 188., 144., 137., 136., 152., 175., 176., 118.,\n",
       "       154., 115., 135., 122., 110.,  90., 116., 174., 125.,  nan, 148.,\n",
       "       100., 164., 139., 127., 162., 112., 134., 114., 128., 126., 124.,\n",
       "       153., 166., 103., 156.,  87., 102.,  92.,  99., 121.,  91., 108.,\n",
       "        96.,  82., 105., 143., 119.,  94., 187., 163., 147., 173., 171.,\n",
       "       151., 161., 179., 157., 169., 123., 109., 131., 113., 177., 141.,\n",
       "       111., 182., 149., 186., 159.,  97., 133., 202.,  88., 194., 195.,\n",
       "        95., 192., 117.,  71., 181.])"
      ]
     },
     "execution_count": 93,
     "metadata": {},
     "output_type": "execute_result"
    }
   ],
   "source": [
    "# get unique values for Cabin feature\n",
    "df.thalach.unique()"
   ]
  },
  {
   "cell_type": "code",
   "execution_count": 94,
   "id": "1b136041",
   "metadata": {},
   "outputs": [],
   "source": [
    "# extract first character of Cabin string to the deck\n",
    "def get_deck(thalach):\n",
    "    if thalach < 100 : cat = 'A'\n",
    "    elif thalach < 120 : cat = 'B'\n",
    "    elif thalach < 140 : cat = 'C'\n",
    "    elif thalach < 160 : cat = 'D'\n",
    "    elif thalach < 180 : cat = 'E'\n",
    "    elif thalach < 200 : cat = 'F'\n",
    "    else               : cat = 'G'\n",
    "    \n",
    "    return np.where(pd.notnull(thalach), cat,'Z')"
   ]
  },
  {
   "cell_type": "code",
   "execution_count": 95,
   "id": "acf3ce93",
   "metadata": {},
   "outputs": [],
   "source": [
    "df['cat'] = df['thalach'].map(lambda x : get_deck(x))"
   ]
  },
  {
   "cell_type": "code",
   "execution_count": 96,
   "id": "524187c0",
   "metadata": {},
   "outputs": [
    {
     "data": {
      "text/html": [
       "<div>\n",
       "<style scoped>\n",
       "    .dataframe tbody tr th:only-of-type {\n",
       "        vertical-align: middle;\n",
       "    }\n",
       "\n",
       "    .dataframe tbody tr th {\n",
       "        vertical-align: top;\n",
       "    }\n",
       "\n",
       "    .dataframe thead th {\n",
       "        text-align: right;\n",
       "    }\n",
       "</style>\n",
       "<table border=\"1\" class=\"dataframe\">\n",
       "  <thead>\n",
       "    <tr style=\"text-align: right;\">\n",
       "      <th></th>\n",
       "      <th>age</th>\n",
       "      <th>sex</th>\n",
       "      <th>cp</th>\n",
       "      <th>trestbps</th>\n",
       "      <th>chol</th>\n",
       "      <th>fbs</th>\n",
       "      <th>restecg</th>\n",
       "      <th>thalach</th>\n",
       "      <th>exang</th>\n",
       "      <th>oldpeak</th>\n",
       "      <th>slope</th>\n",
       "      <th>ca</th>\n",
       "      <th>thal</th>\n",
       "      <th>num</th>\n",
       "      <th>diagnosed</th>\n",
       "      <th>trestbps_Bin</th>\n",
       "      <th>AgeState</th>\n",
       "      <th>cat</th>\n",
       "    </tr>\n",
       "  </thead>\n",
       "  <tbody>\n",
       "    <tr>\n",
       "      <th>0</th>\n",
       "      <td>28.0</td>\n",
       "      <td>1.0</td>\n",
       "      <td>2.0</td>\n",
       "      <td>130.0</td>\n",
       "      <td>132</td>\n",
       "      <td>0</td>\n",
       "      <td>2</td>\n",
       "      <td>185.0</td>\n",
       "      <td>0</td>\n",
       "      <td>0.0</td>\n",
       "      <td>NaN</td>\n",
       "      <td>NaN</td>\n",
       "      <td>NaN</td>\n",
       "      <td>0</td>\n",
       "      <td>0</td>\n",
       "      <td>low</td>\n",
       "      <td>MiddleAdult</td>\n",
       "      <td>F</td>\n",
       "    </tr>\n",
       "    <tr>\n",
       "      <th>1</th>\n",
       "      <td>29.0</td>\n",
       "      <td>1.0</td>\n",
       "      <td>2.0</td>\n",
       "      <td>120.0</td>\n",
       "      <td>243</td>\n",
       "      <td>0</td>\n",
       "      <td>0</td>\n",
       "      <td>160.0</td>\n",
       "      <td>0</td>\n",
       "      <td>0.0</td>\n",
       "      <td>NaN</td>\n",
       "      <td>NaN</td>\n",
       "      <td>NaN</td>\n",
       "      <td>0</td>\n",
       "      <td>0</td>\n",
       "      <td>very_low</td>\n",
       "      <td>MiddleAdult</td>\n",
       "      <td>E</td>\n",
       "    </tr>\n",
       "    <tr>\n",
       "      <th>2</th>\n",
       "      <td>29.0</td>\n",
       "      <td>1.0</td>\n",
       "      <td>2.0</td>\n",
       "      <td>140.0</td>\n",
       "      <td>NaN</td>\n",
       "      <td>0</td>\n",
       "      <td>0</td>\n",
       "      <td>170.0</td>\n",
       "      <td>0</td>\n",
       "      <td>0.0</td>\n",
       "      <td>NaN</td>\n",
       "      <td>NaN</td>\n",
       "      <td>NaN</td>\n",
       "      <td>0</td>\n",
       "      <td>0</td>\n",
       "      <td>high</td>\n",
       "      <td>MiddleAdult</td>\n",
       "      <td>E</td>\n",
       "    </tr>\n",
       "    <tr>\n",
       "      <th>3</th>\n",
       "      <td>30.0</td>\n",
       "      <td>0.0</td>\n",
       "      <td>1.0</td>\n",
       "      <td>170.0</td>\n",
       "      <td>237</td>\n",
       "      <td>0</td>\n",
       "      <td>1</td>\n",
       "      <td>170.0</td>\n",
       "      <td>0</td>\n",
       "      <td>0.0</td>\n",
       "      <td>NaN</td>\n",
       "      <td>NaN</td>\n",
       "      <td>6</td>\n",
       "      <td>0</td>\n",
       "      <td>0</td>\n",
       "      <td>very_high</td>\n",
       "      <td>MiddleAdult</td>\n",
       "      <td>E</td>\n",
       "    </tr>\n",
       "    <tr>\n",
       "      <th>4</th>\n",
       "      <td>31.0</td>\n",
       "      <td>0.0</td>\n",
       "      <td>2.0</td>\n",
       "      <td>100.0</td>\n",
       "      <td>219</td>\n",
       "      <td>0</td>\n",
       "      <td>1</td>\n",
       "      <td>150.0</td>\n",
       "      <td>0</td>\n",
       "      <td>0.0</td>\n",
       "      <td>NaN</td>\n",
       "      <td>NaN</td>\n",
       "      <td>NaN</td>\n",
       "      <td>0</td>\n",
       "      <td>0</td>\n",
       "      <td>very_low</td>\n",
       "      <td>MiddleAdult</td>\n",
       "      <td>D</td>\n",
       "    </tr>\n",
       "  </tbody>\n",
       "</table>\n",
       "</div>"
      ],
      "text/plain": [
       "    age  sex   cp  trestbps chol fbs restecg  thalach exang  oldpeak slope  \\\n",
       "0  28.0  1.0  2.0     130.0  132   0       2    185.0     0      0.0   NaN   \n",
       "1  29.0  1.0  2.0     120.0  243   0       0    160.0     0      0.0   NaN   \n",
       "2  29.0  1.0  2.0     140.0  NaN   0       0    170.0     0      0.0   NaN   \n",
       "3  30.0  0.0  1.0     170.0  237   0       1    170.0     0      0.0   NaN   \n",
       "4  31.0  0.0  2.0     100.0  219   0       1    150.0     0      0.0   NaN   \n",
       "\n",
       "    ca thal  num  diagnosed trestbps_Bin     AgeState cat  \n",
       "0  NaN  NaN    0          0          low  MiddleAdult   F  \n",
       "1  NaN  NaN    0          0     very_low  MiddleAdult   E  \n",
       "2  NaN  NaN    0          0         high  MiddleAdult   E  \n",
       "3  NaN    6    0          0    very_high  MiddleAdult   E  \n",
       "4  NaN  NaN    0          0     very_low  MiddleAdult   D  "
      ]
     },
     "execution_count": 96,
     "metadata": {},
     "output_type": "execute_result"
    }
   ],
   "source": [
    "df.head()"
   ]
  },
  {
   "cell_type": "code",
   "execution_count": 97,
   "id": "899806f8",
   "metadata": {},
   "outputs": [
    {
     "data": {
      "text/plain": [
       "D    188\n",
       "E    151\n",
       "C    130\n",
       "B     67\n",
       "F     33\n",
       "A     26\n",
       "Z      1\n",
       "G      1\n",
       "Name: cat, dtype: int64"
      ]
     },
     "execution_count": 97,
     "metadata": {},
     "output_type": "execute_result"
    }
   ],
   "source": [
    "df.cat.value_counts()"
   ]
  },
  {
   "cell_type": "code",
   "execution_count": 98,
   "id": "fd1ecdf8",
   "metadata": {},
   "outputs": [
    {
     "data": {
      "text/html": [
       "<div>\n",
       "<style scoped>\n",
       "    .dataframe tbody tr th:only-of-type {\n",
       "        vertical-align: middle;\n",
       "    }\n",
       "\n",
       "    .dataframe tbody tr th {\n",
       "        vertical-align: top;\n",
       "    }\n",
       "\n",
       "    .dataframe thead th {\n",
       "        text-align: right;\n",
       "    }\n",
       "</style>\n",
       "<table border=\"1\" class=\"dataframe\">\n",
       "  <thead>\n",
       "    <tr style=\"text-align: right;\">\n",
       "      <th>cat</th>\n",
       "      <th>A</th>\n",
       "      <th>B</th>\n",
       "      <th>C</th>\n",
       "      <th>D</th>\n",
       "      <th>E</th>\n",
       "      <th>F</th>\n",
       "      <th>Z</th>\n",
       "    </tr>\n",
       "    <tr>\n",
       "      <th>diagnosed</th>\n",
       "      <th></th>\n",
       "      <th></th>\n",
       "      <th></th>\n",
       "      <th></th>\n",
       "      <th></th>\n",
       "      <th></th>\n",
       "      <th></th>\n",
       "    </tr>\n",
       "  </thead>\n",
       "  <tbody>\n",
       "    <tr>\n",
       "      <th>0</th>\n",
       "      <td>3</td>\n",
       "      <td>22</td>\n",
       "      <td>45</td>\n",
       "      <td>60</td>\n",
       "      <td>44</td>\n",
       "      <td>13</td>\n",
       "      <td>1</td>\n",
       "    </tr>\n",
       "    <tr>\n",
       "      <th>1</th>\n",
       "      <td>15</td>\n",
       "      <td>19</td>\n",
       "      <td>34</td>\n",
       "      <td>29</td>\n",
       "      <td>8</td>\n",
       "      <td>1</td>\n",
       "      <td>0</td>\n",
       "    </tr>\n",
       "  </tbody>\n",
       "</table>\n",
       "</div>"
      ],
      "text/plain": [
       "cat         A   B   C   D   E   F  Z\n",
       "diagnosed                           \n",
       "0           3  22  45  60  44  13  1\n",
       "1          15  19  34  29   8   1  0"
      ]
     },
     "execution_count": 98,
     "metadata": {},
     "output_type": "execute_result"
    }
   ],
   "source": [
    "# use crosstab to look into survived feature cabin wise\n",
    "pd.crosstab(df[df.diagnosed != -888].diagnosed, df[df.diagnosed != -888].cat)"
   ]
  },
  {
   "cell_type": "code",
   "execution_count": 99,
   "id": "e375ae98",
   "metadata": {},
   "outputs": [
    {
     "name": "stdout",
     "output_type": "stream",
     "text": [
      "<class 'pandas.core.frame.DataFrame'>\n",
      "Int64Index: 597 entries, 0 to 302\n",
      "Data columns (total 18 columns):\n",
      " #   Column        Non-Null Count  Dtype   \n",
      "---  ------        --------------  -----   \n",
      " 0   age           597 non-null    float64 \n",
      " 1   sex           597 non-null    float64 \n",
      " 2   cp            597 non-null    float64 \n",
      " 3   trestbps      597 non-null    float64 \n",
      " 4   chol          574 non-null    object  \n",
      " 5   fbs           589 non-null    object  \n",
      " 6   restecg       597 non-null    object  \n",
      " 7   thalach       596 non-null    float64 \n",
      " 8   exang         596 non-null    object  \n",
      " 9   oldpeak       597 non-null    float64 \n",
      " 10  slope         407 non-null    object  \n",
      " 11  ca            302 non-null    object  \n",
      " 12  thal          329 non-null    object  \n",
      " 13  num           597 non-null    int64   \n",
      " 14  diagnosed     597 non-null    int64   \n",
      " 15  trestbps_Bin  597 non-null    category\n",
      " 16  AgeState      597 non-null    object  \n",
      " 17  cat           597 non-null    object  \n",
      "dtypes: category(1), float64(6), int64(2), object(9)\n",
      "memory usage: 100.9+ KB\n"
     ]
    }
   ],
   "source": [
    "df.info()"
   ]
  },
  {
   "cell_type": "code",
   "execution_count": 100,
   "id": "dba78c14",
   "metadata": {},
   "outputs": [
    {
     "data": {
      "text/html": [
       "<div>\n",
       "<style scoped>\n",
       "    .dataframe tbody tr th:only-of-type {\n",
       "        vertical-align: middle;\n",
       "    }\n",
       "\n",
       "    .dataframe tbody tr th {\n",
       "        vertical-align: top;\n",
       "    }\n",
       "\n",
       "    .dataframe thead th {\n",
       "        text-align: right;\n",
       "    }\n",
       "</style>\n",
       "<table border=\"1\" class=\"dataframe\">\n",
       "  <thead>\n",
       "    <tr style=\"text-align: right;\">\n",
       "      <th></th>\n",
       "      <th>age</th>\n",
       "      <th>sex</th>\n",
       "      <th>cp</th>\n",
       "      <th>trestbps</th>\n",
       "      <th>chol</th>\n",
       "      <th>fbs</th>\n",
       "      <th>restecg</th>\n",
       "      <th>thalach</th>\n",
       "      <th>exang</th>\n",
       "      <th>oldpeak</th>\n",
       "      <th>slope</th>\n",
       "      <th>ca</th>\n",
       "      <th>thal</th>\n",
       "      <th>num</th>\n",
       "      <th>diagnosed</th>\n",
       "      <th>trestbps_Bin</th>\n",
       "      <th>AgeState</th>\n",
       "      <th>cat</th>\n",
       "    </tr>\n",
       "  </thead>\n",
       "  <tbody>\n",
       "    <tr>\n",
       "      <th>0</th>\n",
       "      <td>28.0</td>\n",
       "      <td>1.0</td>\n",
       "      <td>2.0</td>\n",
       "      <td>130.0</td>\n",
       "      <td>132</td>\n",
       "      <td>0</td>\n",
       "      <td>2</td>\n",
       "      <td>185.0</td>\n",
       "      <td>0</td>\n",
       "      <td>0.0</td>\n",
       "      <td>NaN</td>\n",
       "      <td>NaN</td>\n",
       "      <td>NaN</td>\n",
       "      <td>0</td>\n",
       "      <td>0</td>\n",
       "      <td>low</td>\n",
       "      <td>MiddleAdult</td>\n",
       "      <td>F</td>\n",
       "    </tr>\n",
       "    <tr>\n",
       "      <th>1</th>\n",
       "      <td>29.0</td>\n",
       "      <td>1.0</td>\n",
       "      <td>2.0</td>\n",
       "      <td>120.0</td>\n",
       "      <td>243</td>\n",
       "      <td>0</td>\n",
       "      <td>0</td>\n",
       "      <td>160.0</td>\n",
       "      <td>0</td>\n",
       "      <td>0.0</td>\n",
       "      <td>NaN</td>\n",
       "      <td>NaN</td>\n",
       "      <td>NaN</td>\n",
       "      <td>0</td>\n",
       "      <td>0</td>\n",
       "      <td>very_low</td>\n",
       "      <td>MiddleAdult</td>\n",
       "      <td>E</td>\n",
       "    </tr>\n",
       "    <tr>\n",
       "      <th>2</th>\n",
       "      <td>29.0</td>\n",
       "      <td>1.0</td>\n",
       "      <td>2.0</td>\n",
       "      <td>140.0</td>\n",
       "      <td>NaN</td>\n",
       "      <td>0</td>\n",
       "      <td>0</td>\n",
       "      <td>170.0</td>\n",
       "      <td>0</td>\n",
       "      <td>0.0</td>\n",
       "      <td>NaN</td>\n",
       "      <td>NaN</td>\n",
       "      <td>NaN</td>\n",
       "      <td>0</td>\n",
       "      <td>0</td>\n",
       "      <td>high</td>\n",
       "      <td>MiddleAdult</td>\n",
       "      <td>E</td>\n",
       "    </tr>\n",
       "    <tr>\n",
       "      <th>3</th>\n",
       "      <td>30.0</td>\n",
       "      <td>0.0</td>\n",
       "      <td>1.0</td>\n",
       "      <td>170.0</td>\n",
       "      <td>237</td>\n",
       "      <td>0</td>\n",
       "      <td>1</td>\n",
       "      <td>170.0</td>\n",
       "      <td>0</td>\n",
       "      <td>0.0</td>\n",
       "      <td>NaN</td>\n",
       "      <td>NaN</td>\n",
       "      <td>6</td>\n",
       "      <td>0</td>\n",
       "      <td>0</td>\n",
       "      <td>very_high</td>\n",
       "      <td>MiddleAdult</td>\n",
       "      <td>E</td>\n",
       "    </tr>\n",
       "    <tr>\n",
       "      <th>4</th>\n",
       "      <td>31.0</td>\n",
       "      <td>0.0</td>\n",
       "      <td>2.0</td>\n",
       "      <td>100.0</td>\n",
       "      <td>219</td>\n",
       "      <td>0</td>\n",
       "      <td>1</td>\n",
       "      <td>150.0</td>\n",
       "      <td>0</td>\n",
       "      <td>0.0</td>\n",
       "      <td>NaN</td>\n",
       "      <td>NaN</td>\n",
       "      <td>NaN</td>\n",
       "      <td>0</td>\n",
       "      <td>0</td>\n",
       "      <td>very_low</td>\n",
       "      <td>MiddleAdult</td>\n",
       "      <td>D</td>\n",
       "    </tr>\n",
       "  </tbody>\n",
       "</table>\n",
       "</div>"
      ],
      "text/plain": [
       "    age  sex   cp  trestbps chol fbs restecg  thalach exang  oldpeak slope  \\\n",
       "0  28.0  1.0  2.0     130.0  132   0       2    185.0     0      0.0   NaN   \n",
       "1  29.0  1.0  2.0     120.0  243   0       0    160.0     0      0.0   NaN   \n",
       "2  29.0  1.0  2.0     140.0  NaN   0       0    170.0     0      0.0   NaN   \n",
       "3  30.0  0.0  1.0     170.0  237   0       1    170.0     0      0.0   NaN   \n",
       "4  31.0  0.0  2.0     100.0  219   0       1    150.0     0      0.0   NaN   \n",
       "\n",
       "    ca thal  num  diagnosed trestbps_Bin     AgeState cat  \n",
       "0  NaN  NaN    0          0          low  MiddleAdult   F  \n",
       "1  NaN  NaN    0          0     very_low  MiddleAdult   E  \n",
       "2  NaN  NaN    0          0         high  MiddleAdult   E  \n",
       "3  NaN    6    0          0    very_high  MiddleAdult   E  \n",
       "4  NaN  NaN    0          0     very_low  MiddleAdult   D  "
      ]
     },
     "execution_count": 100,
     "metadata": {},
     "output_type": "execute_result"
    }
   ],
   "source": [
    "df.head()"
   ]
  },
  {
   "cell_type": "code",
   "execution_count": 101,
   "id": "c8463396",
   "metadata": {},
   "outputs": [
    {
     "data": {
      "text/plain": [
       "True"
      ]
     },
     "execution_count": 101,
     "metadata": {},
     "output_type": "execute_result"
    }
   ],
   "source": [
    "## NaN Value Elimination\n",
    "df.isna().any(axis=None)"
   ]
  },
  {
   "cell_type": "code",
   "execution_count": 102,
   "id": "980e5970",
   "metadata": {},
   "outputs": [],
   "source": [
    "median_chol = df['chol'].median()\n",
    "df.chol.fillna(median_chol, inplace=True)"
   ]
  },
  {
   "cell_type": "code",
   "execution_count": 103,
   "id": "7bb5d248",
   "metadata": {},
   "outputs": [
    {
     "data": {
      "text/plain": [
       "0      266\n",
       "0.0    258\n",
       "1.0     45\n",
       "1       20\n",
       "Name: fbs, dtype: int64"
      ]
     },
     "execution_count": 103,
     "metadata": {},
     "output_type": "execute_result"
    }
   ],
   "source": [
    "df.fbs.value_counts()"
   ]
  },
  {
   "cell_type": "code",
   "execution_count": 104,
   "id": "fd5da606",
   "metadata": {},
   "outputs": [],
   "source": [
    "df.fbs.fillna(0.0, inplace = True)"
   ]
  },
  {
   "cell_type": "code",
   "execution_count": 105,
   "id": "657b7981",
   "metadata": {},
   "outputs": [],
   "source": [
    "df.thalach.value_counts()\n",
    "median_thalach = df['thalach'].median()\n",
    "df.thalach.fillna(median_thalach, inplace=True)"
   ]
  },
  {
   "cell_type": "code",
   "execution_count": 106,
   "id": "1fb0ce77",
   "metadata": {},
   "outputs": [
    {
     "data": {
      "text/plain": [
       "0.0    204\n",
       "0      204\n",
       "1.0     99\n",
       "1       89\n",
       "Name: exang, dtype: int64"
      ]
     },
     "execution_count": 106,
     "metadata": {},
     "output_type": "execute_result"
    }
   ],
   "source": [
    "df.exang.value_counts()\n"
   ]
  },
  {
   "cell_type": "code",
   "execution_count": 107,
   "id": "24ec6182",
   "metadata": {},
   "outputs": [],
   "source": [
    "df.exang.fillna(0.0, inplace = True)"
   ]
  },
  {
   "cell_type": "code",
   "execution_count": 108,
   "id": "e485ff65",
   "metadata": {},
   "outputs": [
    {
     "data": {
      "text/plain": [
       "0.0    176\n",
       "1.0     65\n",
       "2.0     38\n",
       "3.0     20\n",
       "0        3\n",
       "Name: ca, dtype: int64"
      ]
     },
     "execution_count": 108,
     "metadata": {},
     "output_type": "execute_result"
    }
   ],
   "source": [
    "df.ca.value_counts()"
   ]
  },
  {
   "cell_type": "code",
   "execution_count": 109,
   "id": "f24957ad",
   "metadata": {},
   "outputs": [],
   "source": [
    "df.ca.fillna(0.0, inplace = True)"
   ]
  },
  {
   "cell_type": "code",
   "execution_count": 110,
   "id": "2c8aacd3",
   "metadata": {},
   "outputs": [
    {
     "data": {
      "text/plain": [
       "3.0    166\n",
       "7.0    117\n",
       "6.0     18\n",
       "7       11\n",
       "6       10\n",
       "3        7\n",
       "Name: thal, dtype: int64"
      ]
     },
     "execution_count": 110,
     "metadata": {},
     "output_type": "execute_result"
    }
   ],
   "source": [
    "df.thal.value_counts()"
   ]
  },
  {
   "cell_type": "code",
   "execution_count": 111,
   "id": "c47fa73c",
   "metadata": {},
   "outputs": [],
   "source": [
    "df.thal.fillna(3.0, inplace = True)"
   ]
  },
  {
   "cell_type": "code",
   "execution_count": 112,
   "id": "d28399f6",
   "metadata": {},
   "outputs": [
    {
     "data": {
      "text/plain": [
       "True"
      ]
     },
     "execution_count": 112,
     "metadata": {},
     "output_type": "execute_result"
    }
   ],
   "source": [
    "## NaN Value Elimination\n",
    "df.isna().any(axis=None)"
   ]
  },
  {
   "cell_type": "code",
   "execution_count": 113,
   "id": "d7dd185c",
   "metadata": {},
   "outputs": [
    {
     "data": {
      "text/plain": [
       "1.0    142\n",
       "2.0    140\n",
       "2       91\n",
       "3.0     21\n",
       "1       12\n",
       "3        1\n",
       "Name: slope, dtype: int64"
      ]
     },
     "execution_count": 113,
     "metadata": {},
     "output_type": "execute_result"
    }
   ],
   "source": [
    "df.slope.value_counts()"
   ]
  },
  {
   "cell_type": "code",
   "execution_count": 114,
   "id": "5f208ac9",
   "metadata": {},
   "outputs": [],
   "source": [
    "df.slope.fillna(-888, inplace = True)"
   ]
  },
  {
   "cell_type": "code",
   "execution_count": 115,
   "id": "435901eb",
   "metadata": {},
   "outputs": [
    {
     "name": "stdout",
     "output_type": "stream",
     "text": [
      "<class 'pandas.core.frame.DataFrame'>\n",
      "Int64Index: 597 entries, 0 to 302\n",
      "Data columns (total 18 columns):\n",
      " #   Column        Non-Null Count  Dtype   \n",
      "---  ------        --------------  -----   \n",
      " 0   age           597 non-null    float64 \n",
      " 1   sex           597 non-null    float64 \n",
      " 2   cp            597 non-null    float64 \n",
      " 3   trestbps      597 non-null    float64 \n",
      " 4   chol          597 non-null    object  \n",
      " 5   fbs           597 non-null    object  \n",
      " 6   restecg       597 non-null    object  \n",
      " 7   thalach       597 non-null    float64 \n",
      " 8   exang         597 non-null    object  \n",
      " 9   oldpeak       597 non-null    float64 \n",
      " 10  slope         597 non-null    object  \n",
      " 11  ca            597 non-null    object  \n",
      " 12  thal          597 non-null    object  \n",
      " 13  num           597 non-null    int64   \n",
      " 14  diagnosed     597 non-null    int64   \n",
      " 15  trestbps_Bin  597 non-null    category\n",
      " 16  AgeState      597 non-null    object  \n",
      " 17  cat           597 non-null    object  \n",
      "dtypes: category(1), float64(6), int64(2), object(9)\n",
      "memory usage: 100.9+ KB\n"
     ]
    }
   ],
   "source": [
    "df.info()"
   ]
  },
  {
   "cell_type": "code",
   "execution_count": 116,
   "id": "bdea1458",
   "metadata": {},
   "outputs": [
    {
     "data": {
      "text/plain": [
       "False"
      ]
     },
     "execution_count": 116,
     "metadata": {},
     "output_type": "execute_result"
    }
   ],
   "source": [
    "## NaN Value Elimination\n",
    "df.isna().any(axis=None)"
   ]
  },
  {
   "cell_type": "markdown",
   "id": "d15d039a",
   "metadata": {},
   "source": [
    "## Categorical Feature Encoding"
   ]
  },
  {
   "cell_type": "code",
   "execution_count": 117,
   "id": "25833fa7",
   "metadata": {},
   "outputs": [],
   "source": [
    "# columns Deck, Pclass, Title, AgeState\n",
    "df = pd.get_dummies(df,columns=['trestbps_Bin', 'AgeState', 'cp', 'cat'])"
   ]
  },
  {
   "cell_type": "code",
   "execution_count": 118,
   "id": "4359ec73",
   "metadata": {},
   "outputs": [
    {
     "name": "stdout",
     "output_type": "stream",
     "text": [
      "<class 'pandas.core.frame.DataFrame'>\n",
      "Int64Index: 597 entries, 0 to 302\n",
      "Data columns (total 32 columns):\n",
      " #   Column                  Non-Null Count  Dtype  \n",
      "---  ------                  --------------  -----  \n",
      " 0   age                     597 non-null    float64\n",
      " 1   sex                     597 non-null    float64\n",
      " 2   trestbps                597 non-null    float64\n",
      " 3   chol                    597 non-null    object \n",
      " 4   fbs                     597 non-null    object \n",
      " 5   restecg                 597 non-null    object \n",
      " 6   thalach                 597 non-null    float64\n",
      " 7   exang                   597 non-null    object \n",
      " 8   oldpeak                 597 non-null    float64\n",
      " 9   slope                   597 non-null    object \n",
      " 10  ca                      597 non-null    object \n",
      " 11  thal                    597 non-null    object \n",
      " 12  num                     597 non-null    int64  \n",
      " 13  diagnosed               597 non-null    int64  \n",
      " 14  trestbps_Bin_very_low   597 non-null    uint8  \n",
      " 15  trestbps_Bin_low        597 non-null    uint8  \n",
      " 16  trestbps_Bin_high       597 non-null    uint8  \n",
      " 17  trestbps_Bin_very_high  597 non-null    uint8  \n",
      " 18  AgeState_MiddleAdult    597 non-null    uint8  \n",
      " 19  AgeState_OldAdult       597 non-null    uint8  \n",
      " 20  cp_1.0                  597 non-null    uint8  \n",
      " 21  cp_2.0                  597 non-null    uint8  \n",
      " 22  cp_3.0                  597 non-null    uint8  \n",
      " 23  cp_4.0                  597 non-null    uint8  \n",
      " 24  cat_A                   597 non-null    uint8  \n",
      " 25  cat_B                   597 non-null    uint8  \n",
      " 26  cat_C                   597 non-null    uint8  \n",
      " 27  cat_D                   597 non-null    uint8  \n",
      " 28  cat_E                   597 non-null    uint8  \n",
      " 29  cat_F                   597 non-null    uint8  \n",
      " 30  cat_G                   597 non-null    uint8  \n",
      " 31  cat_Z                   597 non-null    uint8  \n",
      "dtypes: float64(5), int64(2), object(7), uint8(18)\n",
      "memory usage: 96.6+ KB\n",
      "None\n"
     ]
    }
   ],
   "source": [
    "print (df.info())"
   ]
  },
  {
   "cell_type": "code",
   "execution_count": 119,
   "id": "323418d4",
   "metadata": {},
   "outputs": [],
   "source": [
    "### convert object to int\n",
    "def to_int(x):\n",
    "    try:\n",
    "        return int(x)\n",
    "    except:\n",
    "        return np.nan\n",
    "\n",
    "df['chol'] = df['chol'].apply(to_int)\n",
    "df['fbs'] = df['fbs'].apply(to_int)\n",
    "df['restecg'] = df['restecg'].apply(to_int)\n",
    "df['exang'] = df['exang'].apply(to_int)\n",
    "df['slope'] = df['slope'].apply(to_int)\n",
    "df['ca'] = df['ca'].apply(to_int)\n",
    "df['thal'] = df['thal'].apply(to_int)\n"
   ]
  },
  {
   "cell_type": "code",
   "execution_count": 120,
   "id": "9fbfb810",
   "metadata": {},
   "outputs": [
    {
     "data": {
      "text/html": [
       "<div>\n",
       "<style scoped>\n",
       "    .dataframe tbody tr th:only-of-type {\n",
       "        vertical-align: middle;\n",
       "    }\n",
       "\n",
       "    .dataframe tbody tr th {\n",
       "        vertical-align: top;\n",
       "    }\n",
       "\n",
       "    .dataframe thead th {\n",
       "        text-align: right;\n",
       "    }\n",
       "</style>\n",
       "<table border=\"1\" class=\"dataframe\">\n",
       "  <thead>\n",
       "    <tr style=\"text-align: right;\">\n",
       "      <th></th>\n",
       "      <th>age</th>\n",
       "      <th>sex</th>\n",
       "      <th>trestbps</th>\n",
       "      <th>chol</th>\n",
       "      <th>fbs</th>\n",
       "      <th>restecg</th>\n",
       "      <th>thalach</th>\n",
       "      <th>exang</th>\n",
       "      <th>oldpeak</th>\n",
       "      <th>slope</th>\n",
       "      <th>...</th>\n",
       "      <th>cp_3.0</th>\n",
       "      <th>cp_4.0</th>\n",
       "      <th>cat_A</th>\n",
       "      <th>cat_B</th>\n",
       "      <th>cat_C</th>\n",
       "      <th>cat_D</th>\n",
       "      <th>cat_E</th>\n",
       "      <th>cat_F</th>\n",
       "      <th>cat_G</th>\n",
       "      <th>cat_Z</th>\n",
       "    </tr>\n",
       "  </thead>\n",
       "  <tbody>\n",
       "    <tr>\n",
       "      <th>0</th>\n",
       "      <td>False</td>\n",
       "      <td>False</td>\n",
       "      <td>False</td>\n",
       "      <td>False</td>\n",
       "      <td>False</td>\n",
       "      <td>False</td>\n",
       "      <td>False</td>\n",
       "      <td>False</td>\n",
       "      <td>False</td>\n",
       "      <td>False</td>\n",
       "      <td>...</td>\n",
       "      <td>False</td>\n",
       "      <td>False</td>\n",
       "      <td>False</td>\n",
       "      <td>False</td>\n",
       "      <td>False</td>\n",
       "      <td>False</td>\n",
       "      <td>False</td>\n",
       "      <td>False</td>\n",
       "      <td>False</td>\n",
       "      <td>False</td>\n",
       "    </tr>\n",
       "    <tr>\n",
       "      <th>1</th>\n",
       "      <td>False</td>\n",
       "      <td>False</td>\n",
       "      <td>False</td>\n",
       "      <td>False</td>\n",
       "      <td>False</td>\n",
       "      <td>False</td>\n",
       "      <td>False</td>\n",
       "      <td>False</td>\n",
       "      <td>False</td>\n",
       "      <td>False</td>\n",
       "      <td>...</td>\n",
       "      <td>False</td>\n",
       "      <td>False</td>\n",
       "      <td>False</td>\n",
       "      <td>False</td>\n",
       "      <td>False</td>\n",
       "      <td>False</td>\n",
       "      <td>False</td>\n",
       "      <td>False</td>\n",
       "      <td>False</td>\n",
       "      <td>False</td>\n",
       "    </tr>\n",
       "    <tr>\n",
       "      <th>2</th>\n",
       "      <td>False</td>\n",
       "      <td>False</td>\n",
       "      <td>False</td>\n",
       "      <td>False</td>\n",
       "      <td>False</td>\n",
       "      <td>False</td>\n",
       "      <td>False</td>\n",
       "      <td>False</td>\n",
       "      <td>False</td>\n",
       "      <td>False</td>\n",
       "      <td>...</td>\n",
       "      <td>False</td>\n",
       "      <td>False</td>\n",
       "      <td>False</td>\n",
       "      <td>False</td>\n",
       "      <td>False</td>\n",
       "      <td>False</td>\n",
       "      <td>False</td>\n",
       "      <td>False</td>\n",
       "      <td>False</td>\n",
       "      <td>False</td>\n",
       "    </tr>\n",
       "    <tr>\n",
       "      <th>3</th>\n",
       "      <td>False</td>\n",
       "      <td>False</td>\n",
       "      <td>False</td>\n",
       "      <td>False</td>\n",
       "      <td>False</td>\n",
       "      <td>False</td>\n",
       "      <td>False</td>\n",
       "      <td>False</td>\n",
       "      <td>False</td>\n",
       "      <td>False</td>\n",
       "      <td>...</td>\n",
       "      <td>False</td>\n",
       "      <td>False</td>\n",
       "      <td>False</td>\n",
       "      <td>False</td>\n",
       "      <td>False</td>\n",
       "      <td>False</td>\n",
       "      <td>False</td>\n",
       "      <td>False</td>\n",
       "      <td>False</td>\n",
       "      <td>False</td>\n",
       "    </tr>\n",
       "    <tr>\n",
       "      <th>4</th>\n",
       "      <td>False</td>\n",
       "      <td>False</td>\n",
       "      <td>False</td>\n",
       "      <td>False</td>\n",
       "      <td>False</td>\n",
       "      <td>False</td>\n",
       "      <td>False</td>\n",
       "      <td>False</td>\n",
       "      <td>False</td>\n",
       "      <td>False</td>\n",
       "      <td>...</td>\n",
       "      <td>False</td>\n",
       "      <td>False</td>\n",
       "      <td>False</td>\n",
       "      <td>False</td>\n",
       "      <td>False</td>\n",
       "      <td>False</td>\n",
       "      <td>False</td>\n",
       "      <td>False</td>\n",
       "      <td>False</td>\n",
       "      <td>False</td>\n",
       "    </tr>\n",
       "    <tr>\n",
       "      <th>...</th>\n",
       "      <td>...</td>\n",
       "      <td>...</td>\n",
       "      <td>...</td>\n",
       "      <td>...</td>\n",
       "      <td>...</td>\n",
       "      <td>...</td>\n",
       "      <td>...</td>\n",
       "      <td>...</td>\n",
       "      <td>...</td>\n",
       "      <td>...</td>\n",
       "      <td>...</td>\n",
       "      <td>...</td>\n",
       "      <td>...</td>\n",
       "      <td>...</td>\n",
       "      <td>...</td>\n",
       "      <td>...</td>\n",
       "      <td>...</td>\n",
       "      <td>...</td>\n",
       "      <td>...</td>\n",
       "      <td>...</td>\n",
       "      <td>...</td>\n",
       "    </tr>\n",
       "    <tr>\n",
       "      <th>298</th>\n",
       "      <td>False</td>\n",
       "      <td>False</td>\n",
       "      <td>False</td>\n",
       "      <td>False</td>\n",
       "      <td>False</td>\n",
       "      <td>False</td>\n",
       "      <td>False</td>\n",
       "      <td>False</td>\n",
       "      <td>False</td>\n",
       "      <td>False</td>\n",
       "      <td>...</td>\n",
       "      <td>False</td>\n",
       "      <td>False</td>\n",
       "      <td>False</td>\n",
       "      <td>False</td>\n",
       "      <td>False</td>\n",
       "      <td>False</td>\n",
       "      <td>False</td>\n",
       "      <td>False</td>\n",
       "      <td>False</td>\n",
       "      <td>False</td>\n",
       "    </tr>\n",
       "    <tr>\n",
       "      <th>299</th>\n",
       "      <td>False</td>\n",
       "      <td>False</td>\n",
       "      <td>False</td>\n",
       "      <td>False</td>\n",
       "      <td>False</td>\n",
       "      <td>False</td>\n",
       "      <td>False</td>\n",
       "      <td>False</td>\n",
       "      <td>False</td>\n",
       "      <td>False</td>\n",
       "      <td>...</td>\n",
       "      <td>False</td>\n",
       "      <td>False</td>\n",
       "      <td>False</td>\n",
       "      <td>False</td>\n",
       "      <td>False</td>\n",
       "      <td>False</td>\n",
       "      <td>False</td>\n",
       "      <td>False</td>\n",
       "      <td>False</td>\n",
       "      <td>False</td>\n",
       "    </tr>\n",
       "    <tr>\n",
       "      <th>300</th>\n",
       "      <td>False</td>\n",
       "      <td>False</td>\n",
       "      <td>False</td>\n",
       "      <td>False</td>\n",
       "      <td>False</td>\n",
       "      <td>False</td>\n",
       "      <td>False</td>\n",
       "      <td>False</td>\n",
       "      <td>False</td>\n",
       "      <td>False</td>\n",
       "      <td>...</td>\n",
       "      <td>False</td>\n",
       "      <td>False</td>\n",
       "      <td>False</td>\n",
       "      <td>False</td>\n",
       "      <td>False</td>\n",
       "      <td>False</td>\n",
       "      <td>False</td>\n",
       "      <td>False</td>\n",
       "      <td>False</td>\n",
       "      <td>False</td>\n",
       "    </tr>\n",
       "    <tr>\n",
       "      <th>301</th>\n",
       "      <td>False</td>\n",
       "      <td>False</td>\n",
       "      <td>False</td>\n",
       "      <td>False</td>\n",
       "      <td>False</td>\n",
       "      <td>False</td>\n",
       "      <td>False</td>\n",
       "      <td>False</td>\n",
       "      <td>False</td>\n",
       "      <td>False</td>\n",
       "      <td>...</td>\n",
       "      <td>False</td>\n",
       "      <td>False</td>\n",
       "      <td>False</td>\n",
       "      <td>False</td>\n",
       "      <td>False</td>\n",
       "      <td>False</td>\n",
       "      <td>False</td>\n",
       "      <td>False</td>\n",
       "      <td>False</td>\n",
       "      <td>False</td>\n",
       "    </tr>\n",
       "    <tr>\n",
       "      <th>302</th>\n",
       "      <td>False</td>\n",
       "      <td>False</td>\n",
       "      <td>False</td>\n",
       "      <td>False</td>\n",
       "      <td>False</td>\n",
       "      <td>False</td>\n",
       "      <td>False</td>\n",
       "      <td>False</td>\n",
       "      <td>False</td>\n",
       "      <td>False</td>\n",
       "      <td>...</td>\n",
       "      <td>False</td>\n",
       "      <td>False</td>\n",
       "      <td>False</td>\n",
       "      <td>False</td>\n",
       "      <td>False</td>\n",
       "      <td>False</td>\n",
       "      <td>False</td>\n",
       "      <td>False</td>\n",
       "      <td>False</td>\n",
       "      <td>False</td>\n",
       "    </tr>\n",
       "  </tbody>\n",
       "</table>\n",
       "<p>597 rows × 32 columns</p>\n",
       "</div>"
      ],
      "text/plain": [
       "       age    sex  trestbps   chol    fbs  restecg  thalach  exang  oldpeak  \\\n",
       "0    False  False     False  False  False    False    False  False    False   \n",
       "1    False  False     False  False  False    False    False  False    False   \n",
       "2    False  False     False  False  False    False    False  False    False   \n",
       "3    False  False     False  False  False    False    False  False    False   \n",
       "4    False  False     False  False  False    False    False  False    False   \n",
       "..     ...    ...       ...    ...    ...      ...      ...    ...      ...   \n",
       "298  False  False     False  False  False    False    False  False    False   \n",
       "299  False  False     False  False  False    False    False  False    False   \n",
       "300  False  False     False  False  False    False    False  False    False   \n",
       "301  False  False     False  False  False    False    False  False    False   \n",
       "302  False  False     False  False  False    False    False  False    False   \n",
       "\n",
       "     slope  ...  cp_3.0  cp_4.0  cat_A  cat_B  cat_C  cat_D  cat_E  cat_F  \\\n",
       "0    False  ...   False   False  False  False  False  False  False  False   \n",
       "1    False  ...   False   False  False  False  False  False  False  False   \n",
       "2    False  ...   False   False  False  False  False  False  False  False   \n",
       "3    False  ...   False   False  False  False  False  False  False  False   \n",
       "4    False  ...   False   False  False  False  False  False  False  False   \n",
       "..     ...  ...     ...     ...    ...    ...    ...    ...    ...    ...   \n",
       "298  False  ...   False   False  False  False  False  False  False  False   \n",
       "299  False  ...   False   False  False  False  False  False  False  False   \n",
       "300  False  ...   False   False  False  False  False  False  False  False   \n",
       "301  False  ...   False   False  False  False  False  False  False  False   \n",
       "302  False  ...   False   False  False  False  False  False  False  False   \n",
       "\n",
       "     cat_G  cat_Z  \n",
       "0    False  False  \n",
       "1    False  False  \n",
       "2    False  False  \n",
       "3    False  False  \n",
       "4    False  False  \n",
       "..     ...    ...  \n",
       "298  False  False  \n",
       "299  False  False  \n",
       "300  False  False  \n",
       "301  False  False  \n",
       "302  False  False  \n",
       "\n",
       "[597 rows x 32 columns]"
      ]
     },
     "execution_count": 120,
     "metadata": {},
     "output_type": "execute_result"
    }
   ],
   "source": [
    "pd.isna(df)"
   ]
  },
  {
   "cell_type": "markdown",
   "id": "d217d67c",
   "metadata": {},
   "source": [
    "## Drop and Reorder Columns"
   ]
  },
  {
   "cell_type": "code",
   "execution_count": 121,
   "id": "e924f1ef",
   "metadata": {},
   "outputs": [],
   "source": [
    "# reorder columns\n",
    "columns = [column for column in df.columns if column !='diagnosed']\n",
    "columns = ['diagnosed'] + columns\n",
    "df = df[columns]"
   ]
  },
  {
   "cell_type": "code",
   "execution_count": 122,
   "id": "11d0e84a",
   "metadata": {},
   "outputs": [
    {
     "name": "stdout",
     "output_type": "stream",
     "text": [
      "<class 'pandas.core.frame.DataFrame'>\n",
      "Int64Index: 597 entries, 0 to 302\n",
      "Data columns (total 32 columns):\n",
      " #   Column                  Non-Null Count  Dtype  \n",
      "---  ------                  --------------  -----  \n",
      " 0   diagnosed               597 non-null    int64  \n",
      " 1   age                     597 non-null    float64\n",
      " 2   sex                     597 non-null    float64\n",
      " 3   trestbps                597 non-null    float64\n",
      " 4   chol                    597 non-null    int64  \n",
      " 5   fbs                     597 non-null    int64  \n",
      " 6   restecg                 597 non-null    int64  \n",
      " 7   thalach                 597 non-null    float64\n",
      " 8   exang                   597 non-null    int64  \n",
      " 9   oldpeak                 597 non-null    float64\n",
      " 10  slope                   597 non-null    int64  \n",
      " 11  ca                      298 non-null    float64\n",
      " 12  thal                    296 non-null    float64\n",
      " 13  num                     597 non-null    int64  \n",
      " 14  trestbps_Bin_very_low   597 non-null    uint8  \n",
      " 15  trestbps_Bin_low        597 non-null    uint8  \n",
      " 16  trestbps_Bin_high       597 non-null    uint8  \n",
      " 17  trestbps_Bin_very_high  597 non-null    uint8  \n",
      " 18  AgeState_MiddleAdult    597 non-null    uint8  \n",
      " 19  AgeState_OldAdult       597 non-null    uint8  \n",
      " 20  cp_1.0                  597 non-null    uint8  \n",
      " 21  cp_2.0                  597 non-null    uint8  \n",
      " 22  cp_3.0                  597 non-null    uint8  \n",
      " 23  cp_4.0                  597 non-null    uint8  \n",
      " 24  cat_A                   597 non-null    uint8  \n",
      " 25  cat_B                   597 non-null    uint8  \n",
      " 26  cat_C                   597 non-null    uint8  \n",
      " 27  cat_D                   597 non-null    uint8  \n",
      " 28  cat_E                   597 non-null    uint8  \n",
      " 29  cat_F                   597 non-null    uint8  \n",
      " 30  cat_G                   597 non-null    uint8  \n",
      " 31  cat_Z                   597 non-null    uint8  \n",
      "dtypes: float64(7), int64(7), uint8(18)\n",
      "memory usage: 96.6 KB\n"
     ]
    }
   ],
   "source": [
    "# check info again\n",
    "df.info()"
   ]
  },
  {
   "cell_type": "code",
   "execution_count": 123,
   "id": "e6c7d376",
   "metadata": {},
   "outputs": [],
   "source": [
    "df.ca.fillna(0., inplace=True)\n",
    "df.thal.fillna(3., inplace=True)"
   ]
  },
  {
   "cell_type": "code",
   "execution_count": 124,
   "id": "7d4f22a9",
   "metadata": {},
   "outputs": [
    {
     "name": "stdout",
     "output_type": "stream",
     "text": [
      "<class 'pandas.core.frame.DataFrame'>\n",
      "Int64Index: 597 entries, 0 to 302\n",
      "Data columns (total 32 columns):\n",
      " #   Column                  Non-Null Count  Dtype  \n",
      "---  ------                  --------------  -----  \n",
      " 0   diagnosed               597 non-null    int64  \n",
      " 1   age                     597 non-null    float64\n",
      " 2   sex                     597 non-null    float64\n",
      " 3   trestbps                597 non-null    float64\n",
      " 4   chol                    597 non-null    int64  \n",
      " 5   fbs                     597 non-null    int64  \n",
      " 6   restecg                 597 non-null    int64  \n",
      " 7   thalach                 597 non-null    float64\n",
      " 8   exang                   597 non-null    int64  \n",
      " 9   oldpeak                 597 non-null    float64\n",
      " 10  slope                   597 non-null    int64  \n",
      " 11  ca                      597 non-null    float64\n",
      " 12  thal                    597 non-null    float64\n",
      " 13  num                     597 non-null    int64  \n",
      " 14  trestbps_Bin_very_low   597 non-null    uint8  \n",
      " 15  trestbps_Bin_low        597 non-null    uint8  \n",
      " 16  trestbps_Bin_high       597 non-null    uint8  \n",
      " 17  trestbps_Bin_very_high  597 non-null    uint8  \n",
      " 18  AgeState_MiddleAdult    597 non-null    uint8  \n",
      " 19  AgeState_OldAdult       597 non-null    uint8  \n",
      " 20  cp_1.0                  597 non-null    uint8  \n",
      " 21  cp_2.0                  597 non-null    uint8  \n",
      " 22  cp_3.0                  597 non-null    uint8  \n",
      " 23  cp_4.0                  597 non-null    uint8  \n",
      " 24  cat_A                   597 non-null    uint8  \n",
      " 25  cat_B                   597 non-null    uint8  \n",
      " 26  cat_C                   597 non-null    uint8  \n",
      " 27  cat_D                   597 non-null    uint8  \n",
      " 28  cat_E                   597 non-null    uint8  \n",
      " 29  cat_F                   597 non-null    uint8  \n",
      " 30  cat_G                   597 non-null    uint8  \n",
      " 31  cat_Z                   597 non-null    uint8  \n",
      "dtypes: float64(7), int64(7), uint8(18)\n",
      "memory usage: 96.6 KB\n"
     ]
    }
   ],
   "source": [
    "df.info()"
   ]
  },
  {
   "cell_type": "markdown",
   "id": "e38097a0",
   "metadata": {},
   "source": [
    "## Save Processed Dataset"
   ]
  },
  {
   "cell_type": "code",
   "execution_count": 125,
   "id": "861fccb8",
   "metadata": {},
   "outputs": [],
   "source": [
    "processed_data_path = os.path.join(os.path.pardir,'data','processed')\n",
    "write_train_path=os.path.join(processed_data_path,'train.csv')\n",
    "write_test_path = os.path.join(processed_data_path,'test.csv')"
   ]
  },
  {
   "cell_type": "code",
   "execution_count": 126,
   "id": "596cf99d",
   "metadata": {},
   "outputs": [],
   "source": [
    "# train data, the diagnosed is assigned actual value\n",
    "df.loc[df.diagnosed !=-888].to_csv(write_train_path)\n",
    "\n",
    "#test data, the diagnosed is assigned -888 to distinguish\n",
    "#columns = [column for column in df.columns if column !='diagnosed']\n",
    "#df.loc[df.diagnosed == -888, columns].to_csv(write_test_path)\n",
    "df.loc[df.diagnosed == -888].to_csv(write_test_path)\n"
   ]
  },
  {
   "cell_type": "markdown",
   "id": "db7a5a82",
   "metadata": {},
   "source": [
    "## Building the data processing script"
   ]
  },
  {
   "cell_type": "code",
   "execution_count": 127,
   "id": "3b9bc370",
   "metadata": {},
   "outputs": [],
   "source": [
    "get_processed_data_script_file=os.path.join(os.path.pardir,'code','get_processed_data.py')"
   ]
  },
  {
   "cell_type": "code",
   "execution_count": 128,
   "id": "cd73dc9d",
   "metadata": {},
   "outputs": [
    {
     "name": "stdout",
     "output_type": "stream",
     "text": [
      "Overwriting ..\\code\\get_processed_data.py\n"
     ]
    }
   ],
   "source": [
    "%%writefile $get_processed_data_script_file\n",
    "import numpy as np\n",
    "import pandas as pd\n",
    "import os \n",
    "\n",
    "def read_data():\n",
    "    # set the path of the raw data\n",
    "    raw_data_path = os.path.join(os.path.pardir,'data','raw')\n",
    "\n",
    "    train_file_path=os.path.join(raw_data_path,'hungarian.processed.data')\n",
    "    test_file_path=os.path.join(raw_data_path,'cleveland.processed.data')\n",
    "    # read the data with all default parameters\n",
    "    train_df=pd.read_csv(train_file_path, header=None)\n",
    "    test_df=pd.read_csv(test_file_path, header=None)\n",
    "    test_df['diagnosed'] = -888\n",
    "    df = pd.concat((train_df, test_df), axis=0)\n",
    "    return df\n",
    "\n",
    "\n",
    "\n",
    "def process_data(df):\n",
    "    # using the method chaining concept\n",
    "    return (df\n",
    "\n",
    "         # working missing values - start with this\n",
    "         .pipe(fill_missing_values)\n",
    "         # create fare bin feature\n",
    "         .assign(trestbps_Bin = lambda x: pd.qcut(x.trestbps, 4, labels=['very_low','low','high','very_high']))\n",
    "         # create age state\n",
    "         .assign(AgeState = lambda x : np.where(x.age >= 60, 'OldAdult','MiddleAdult'))\n",
    "          # create cat feature\n",
    "         .assign(cat = lambda x : x.thalach.map(get_deck))\n",
    "         # feature encoding \n",
    "          .pipe(pd.get_dummies, columns=['trestbps_Bin', 'AgeState', 'cp', 'cat'])\n",
    "         # reorder columns\n",
    "         .pipe(reorder_columns)\n",
    "         )\n",
    "\n",
    "# extract first character of Cabin string to the deck\n",
    "def get_deck(thalach):\n",
    "    if thalach < 100 : cat = 'A'\n",
    "    elif thalach < 120 : cat = 'B'\n",
    "    elif thalach < 140 : cat = 'C'\n",
    "    elif thalach < 160 : cat = 'D'\n",
    "    elif thalach < 180 : cat = 'E'\n",
    "    elif thalach < 200 : cat = 'F'\n",
    "    else               : cat = 'G'\n",
    "    return np.where(pd.notnull(thalach), cat,'Z')\n",
    "\n",
    "def fill_missing_values(df):\n",
    "    # replace the missing values with '0'\n",
    "    df.restecg.fillna('0', inplace=True)\n",
    "    # trestbps\n",
    "    median_trestbps = df.loc[(df.cp==4) & (df.restecg == '0'), 'trestbps'].median()\n",
    "    df.trestbps.fillna(median_trestbps, inplace=True)\n",
    "    return df\n",
    "\n",
    "def reorder_columns(df):\n",
    "    # reorder columns\n",
    "    columns = [column for column in df.columns if column !='diagnosed']\n",
    "    columns = ['diagnosed'] + columns\n",
    "    df = df[columns]\n",
    "    return df \n",
    "\n",
    "    \n",
    "def write_data(df):\n",
    "    processed_data_path = os.path.join(os.path.pardir,'data','processed')\n",
    "    write_train_path=os.path.join(processed_data_path,'train.csv')\n",
    "    write_test_path = os.path.join(processed_data_path,'test.csv')\n",
    "    # train data\n",
    "    df.loc[df.diagnosed !=-888].to_csv(write_train_path)\n",
    "    \n",
    "    #test data\n",
    "    df.loc[df.diagnosed == -888].to_csv(write_test_path)\n",
    "\n",
    "if __name__ == '__main__':\n",
    "    df = read_data()\n",
    "    df = process_data(df)\n",
    "    write_data(df)"
   ]
  },
  {
   "cell_type": "code",
   "execution_count": 129,
   "id": "d49ab417",
   "metadata": {},
   "outputs": [
    {
     "name": "stdout",
     "output_type": "stream",
     "text": [
      "<class 'pandas.core.frame.DataFrame'>\n",
      "Int64Index: 597 entries, 0 to 302\n",
      "Data columns (total 32 columns):\n",
      " #   Column                  Non-Null Count  Dtype  \n",
      "---  ------                  --------------  -----  \n",
      " 0   diagnosed               597 non-null    int64  \n",
      " 1   age                     597 non-null    float64\n",
      " 2   sex                     597 non-null    float64\n",
      " 3   trestbps                597 non-null    float64\n",
      " 4   chol                    597 non-null    int64  \n",
      " 5   fbs                     597 non-null    int64  \n",
      " 6   restecg                 597 non-null    int64  \n",
      " 7   thalach                 597 non-null    float64\n",
      " 8   exang                   597 non-null    int64  \n",
      " 9   oldpeak                 597 non-null    float64\n",
      " 10  slope                   597 non-null    int64  \n",
      " 11  ca                      597 non-null    float64\n",
      " 12  thal                    597 non-null    float64\n",
      " 13  num                     597 non-null    int64  \n",
      " 14  trestbps_Bin_very_low   597 non-null    uint8  \n",
      " 15  trestbps_Bin_low        597 non-null    uint8  \n",
      " 16  trestbps_Bin_high       597 non-null    uint8  \n",
      " 17  trestbps_Bin_very_high  597 non-null    uint8  \n",
      " 18  AgeState_MiddleAdult    597 non-null    uint8  \n",
      " 19  AgeState_OldAdult       597 non-null    uint8  \n",
      " 20  cp_1.0                  597 non-null    uint8  \n",
      " 21  cp_2.0                  597 non-null    uint8  \n",
      " 22  cp_3.0                  597 non-null    uint8  \n",
      " 23  cp_4.0                  597 non-null    uint8  \n",
      " 24  cat_A                   597 non-null    uint8  \n",
      " 25  cat_B                   597 non-null    uint8  \n",
      " 26  cat_C                   597 non-null    uint8  \n",
      " 27  cat_D                   597 non-null    uint8  \n",
      " 28  cat_E                   597 non-null    uint8  \n",
      " 29  cat_F                   597 non-null    uint8  \n",
      " 30  cat_G                   597 non-null    uint8  \n",
      " 31  cat_Z                   597 non-null    uint8  \n",
      "dtypes: float64(7), int64(7), uint8(18)\n",
      "memory usage: 96.6 KB\n"
     ]
    }
   ],
   "source": [
    "df.info()"
   ]
  },
  {
   "cell_type": "code",
   "execution_count": 130,
   "id": "c632f8c7",
   "metadata": {},
   "outputs": [
    {
     "name": "stderr",
     "output_type": "stream",
     "text": [
      "Traceback (most recent call last):\n",
      "  File \"C:\\Users\\DeeWu\\project\\code\\get_processed_data.py\", line 77, in <module>\n",
      "    df = process_data(df)\n",
      "  File \"C:\\Users\\DeeWu\\project\\code\\get_processed_data.py\", line 22, in process_data\n",
      "    return (df\n",
      "  File \"C:\\Users\\DeeWu\\AppData\\Local\\Programs\\Python\\Python39\\lib\\site-packages\\pandas\\core\\generic.py\", line 5406, in pipe\n",
      "    return com.pipe(self, func, *args, **kwargs)\n",
      "  File \"C:\\Users\\DeeWu\\AppData\\Local\\Programs\\Python\\Python39\\lib\\site-packages\\pandas\\core\\common.py\", line 440, in pipe\n",
      "    return func(obj, *args, **kwargs)\n",
      "  File \"C:\\Users\\DeeWu\\project\\code\\get_processed_data.py\", line 51, in fill_missing_values\n",
      "    df.restecg.fillna('0', inplace=True)\n",
      "  File \"C:\\Users\\DeeWu\\AppData\\Local\\Programs\\Python\\Python39\\lib\\site-packages\\pandas\\core\\generic.py\", line 5465, in __getattr__\n",
      "    return object.__getattribute__(self, name)\n",
      "AttributeError: 'DataFrame' object has no attribute 'restecg'\n"
     ]
    }
   ],
   "source": [
    "!python $get_processed_data_script_file"
   ]
  },
  {
   "cell_type": "code",
   "execution_count": 131,
   "id": "60020392",
   "metadata": {},
   "outputs": [],
   "source": [
    "train_df = pd.read_csv(write_train_path)"
   ]
  },
  {
   "cell_type": "code",
   "execution_count": 132,
   "id": "641ede19",
   "metadata": {},
   "outputs": [
    {
     "name": "stdout",
     "output_type": "stream",
     "text": [
      "<class 'pandas.core.frame.DataFrame'>\n",
      "RangeIndex: 294 entries, 0 to 293\n",
      "Data columns (total 33 columns):\n",
      " #   Column                  Non-Null Count  Dtype  \n",
      "---  ------                  --------------  -----  \n",
      " 0   Unnamed: 0              294 non-null    int64  \n",
      " 1   diagnosed               294 non-null    int64  \n",
      " 2   age                     294 non-null    float64\n",
      " 3   sex                     294 non-null    float64\n",
      " 4   trestbps                294 non-null    float64\n",
      " 5   chol                    294 non-null    int64  \n",
      " 6   fbs                     294 non-null    int64  \n",
      " 7   restecg                 294 non-null    int64  \n",
      " 8   thalach                 294 non-null    float64\n",
      " 9   exang                   294 non-null    int64  \n",
      " 10  oldpeak                 294 non-null    float64\n",
      " 11  slope                   294 non-null    int64  \n",
      " 12  ca                      294 non-null    float64\n",
      " 13  thal                    294 non-null    float64\n",
      " 14  num                     294 non-null    int64  \n",
      " 15  trestbps_Bin_very_low   294 non-null    int64  \n",
      " 16  trestbps_Bin_low        294 non-null    int64  \n",
      " 17  trestbps_Bin_high       294 non-null    int64  \n",
      " 18  trestbps_Bin_very_high  294 non-null    int64  \n",
      " 19  AgeState_MiddleAdult    294 non-null    int64  \n",
      " 20  AgeState_OldAdult       294 non-null    int64  \n",
      " 21  cp_1.0                  294 non-null    int64  \n",
      " 22  cp_2.0                  294 non-null    int64  \n",
      " 23  cp_3.0                  294 non-null    int64  \n",
      " 24  cp_4.0                  294 non-null    int64  \n",
      " 25  cat_A                   294 non-null    int64  \n",
      " 26  cat_B                   294 non-null    int64  \n",
      " 27  cat_C                   294 non-null    int64  \n",
      " 28  cat_D                   294 non-null    int64  \n",
      " 29  cat_E                   294 non-null    int64  \n",
      " 30  cat_F                   294 non-null    int64  \n",
      " 31  cat_G                   294 non-null    int64  \n",
      " 32  cat_Z                   294 non-null    int64  \n",
      "dtypes: float64(7), int64(26)\n",
      "memory usage: 75.9 KB\n"
     ]
    }
   ],
   "source": [
    "train_df.info()"
   ]
  },
  {
   "cell_type": "code",
   "execution_count": 133,
   "id": "f7fc7d73",
   "metadata": {},
   "outputs": [
    {
     "name": "stdout",
     "output_type": "stream",
     "text": [
      "<class 'pandas.core.frame.DataFrame'>\n",
      "RangeIndex: 303 entries, 0 to 302\n",
      "Data columns (total 33 columns):\n",
      " #   Column                  Non-Null Count  Dtype  \n",
      "---  ------                  --------------  -----  \n",
      " 0   Unnamed: 0              303 non-null    int64  \n",
      " 1   diagnosed               303 non-null    int64  \n",
      " 2   age                     303 non-null    float64\n",
      " 3   sex                     303 non-null    float64\n",
      " 4   trestbps                303 non-null    float64\n",
      " 5   chol                    303 non-null    int64  \n",
      " 6   fbs                     303 non-null    int64  \n",
      " 7   restecg                 303 non-null    int64  \n",
      " 8   thalach                 303 non-null    float64\n",
      " 9   exang                   303 non-null    int64  \n",
      " 10  oldpeak                 303 non-null    float64\n",
      " 11  slope                   303 non-null    int64  \n",
      " 12  ca                      303 non-null    float64\n",
      " 13  thal                    303 non-null    float64\n",
      " 14  num                     303 non-null    int64  \n",
      " 15  trestbps_Bin_very_low   303 non-null    int64  \n",
      " 16  trestbps_Bin_low        303 non-null    int64  \n",
      " 17  trestbps_Bin_high       303 non-null    int64  \n",
      " 18  trestbps_Bin_very_high  303 non-null    int64  \n",
      " 19  AgeState_MiddleAdult    303 non-null    int64  \n",
      " 20  AgeState_OldAdult       303 non-null    int64  \n",
      " 21  cp_1.0                  303 non-null    int64  \n",
      " 22  cp_2.0                  303 non-null    int64  \n",
      " 23  cp_3.0                  303 non-null    int64  \n",
      " 24  cp_4.0                  303 non-null    int64  \n",
      " 25  cat_A                   303 non-null    int64  \n",
      " 26  cat_B                   303 non-null    int64  \n",
      " 27  cat_C                   303 non-null    int64  \n",
      " 28  cat_D                   303 non-null    int64  \n",
      " 29  cat_E                   303 non-null    int64  \n",
      " 30  cat_F                   303 non-null    int64  \n",
      " 31  cat_G                   303 non-null    int64  \n",
      " 32  cat_Z                   303 non-null    int64  \n",
      "dtypes: float64(7), int64(26)\n",
      "memory usage: 78.2 KB\n"
     ]
    }
   ],
   "source": [
    "test_df=pd.read_csv(write_test_path)\n",
    "test_df.info()"
   ]
  },
  {
   "cell_type": "markdown",
   "id": "42ee250e",
   "metadata": {},
   "source": [
    "## Advanced visualization using MatPlotlib"
   ]
  },
  {
   "cell_type": "code",
   "execution_count": 134,
   "id": "a370d3a7",
   "metadata": {},
   "outputs": [],
   "source": [
    "import matplotlib.pyplot as plt\n",
    "%matplotlib inline"
   ]
  },
  {
   "cell_type": "code",
   "execution_count": 135,
   "id": "995a6e8e",
   "metadata": {},
   "outputs": [
    {
     "data": {
      "text/plain": [
       "(array([ 11.,  32.,  70.,  89., 116., 127.,  87.,  48.,  14.,   3.]),\n",
       " array([28. , 32.9, 37.8, 42.7, 47.6, 52.5, 57.4, 62.3, 67.2, 72.1, 77. ]),\n",
       " <BarContainer object of 10 artists>)"
      ]
     },
     "execution_count": 135,
     "metadata": {},
     "output_type": "execute_result"
    },
    {
     "data": {
      "image/png": "[encoded data removed]",
      "text/plain": [
       "<Figure size 432x288 with 1 Axes>"
      ]
     },
     "metadata": {
      "needs_background": "light"
     },
     "output_type": "display_data"
    }
   ],
   "source": [
    "plt.hist(df.age)"
   ]
  },
  {
   "cell_type": "code",
   "execution_count": 136,
   "id": "299054ed",
   "metadata": {},
   "outputs": [
    {
     "data": {
      "image/png": "[encoded data removed]",
      "text/plain": [
       "<Figure size 432x288 with 1 Axes>"
      ]
     },
     "metadata": {
      "needs_background": "light"
     },
     "output_type": "display_data"
    }
   ],
   "source": [
    "plt.hist(df.age,bins=20,color='c')\n",
    "plt.show()"
   ]
  },
  {
   "cell_type": "code",
   "execution_count": 137,
   "id": "2ffa90f7",
   "metadata": {},
   "outputs": [
    {
     "data": {
      "image/png": "[encoded data removed]",
      "text/plain": [
       "<Figure size 432x288 with 1 Axes>"
      ]
     },
     "metadata": {
      "needs_background": "light"
     },
     "output_type": "display_data"
    }
   ],
   "source": [
    "plt.hist(df.age, bins=20, color='c')\n",
    "plt.title('Histogram : Age')\n",
    "plt.xlabel('Bins')\n",
    "plt.ylabel('Counts')\n",
    "plt.show()"
   ]
  },
  {
   "cell_type": "code",
   "execution_count": 138,
   "id": "e43f7ced",
   "metadata": {},
   "outputs": [
    {
     "data": {
      "image/png": "[encoded data removed]",
      "text/plain": [
       "<Figure size 432x288 with 1 Axes>"
      ]
     },
     "metadata": {
      "needs_background": "light"
     },
     "output_type": "display_data"
    }
   ],
   "source": [
    "f , ax = plt.subplots()\n",
    "ax.hist(df.age,bins=20, color='c')\n",
    "ax.set_title('Histogram : Age')\n",
    "ax.set_xlabel('Bins')\n",
    "ax.set_ylabel('Counts')\n",
    "plt.show()"
   ]
  },
  {
   "cell_type": "code",
   "execution_count": 139,
   "id": "0692089a",
   "metadata": {
    "scrolled": true
   },
   "outputs": [
    {
     "data": {
      "image/png": "[encoded data removed]",
      "text/plain": [
       "<Figure size 1008x216 with 2 Axes>"
      ]
     },
     "metadata": {
      "needs_background": "light"
     },
     "output_type": "display_data"
    }
   ],
   "source": [
    "# Add subplots\n",
    "f , (ax1, ax2) = plt.subplots(1,2,figsize=(14,3))\n",
    "ax1.hist(df.trestbps,bins=20, color='c')\n",
    "ax1.set_title('Histogram : Fare')\n",
    "ax1.set_xlabel('Bins')\n",
    "ax1.set_ylabel('Counts')\n",
    "\n",
    "ax2.hist(df.age,bins=20, color='tomato')\n",
    "ax2.set_title('Histogram : Age')\n",
    "ax2.set_xlabel('Bins')\n",
    "ax2.set_ylabel('Counts')\n",
    "plt.show()\n"
   ]
  },
  {
   "cell_type": "code",
   "execution_count": 140,
   "id": "4376d140",
   "metadata": {
    "scrolled": true
   },
   "outputs": [
    {
     "data": {
      "image/png": "[encoded data removed]",
      "text/plain": [
       "<Figure size 1008x504 with 6 Axes>"
      ]
     },
     "metadata": {
      "needs_background": "light"
     },
     "output_type": "display_data"
    }
   ],
   "source": [
    "# Adding subplots\n",
    "f , ax_arr = plt.subplots(3,2,figsize=(14,7))\n",
    "# Plot 1\n",
    "ax_arr[0,0].hist(df.trestbps,bins=20, color='c')\n",
    "ax_arr[0,0].set_title('Histogram : Fare')\n",
    "ax_arr[0,0].set_xlabel('Bins')\n",
    "ax_arr[0,0].set_ylabel('Counts')\n",
    "\n",
    "# Plot 2\n",
    "ax_arr[0,1].hist(df.age,bins=20, color='tomato')\n",
    "ax_arr[0,1].set_title('Histogram : Age')\n",
    "ax_arr[0,1].set_xlabel('Bins')\n",
    "ax_arr[0,1].set_ylabel('Counts')\n",
    "\n",
    "# Plot 3\n",
    "ax_arr[1,0].boxplot(df.trestbps.values)\n",
    "ax_arr[1,0].set_title('Boxplot : Fare')\n",
    "ax_arr[1,0].set_xlabel('Fare')\n",
    "ax_arr[1,0].set_ylabel('Fare')\n",
    "\n",
    "# Plot 4\n",
    "ax_arr[1,1].boxplot(df.age.values)\n",
    "ax_arr[1,1].set_title('Boxplot : Age')\n",
    "ax_arr[1,1].set_xlabel('Age')\n",
    "ax_arr[1,1].set_ylabel('Age')\n",
    "\n",
    "# Plot 5\n",
    "ax_arr[2,0].scatter(df.age, df.trestbps, color='c', alpha=0.15)\n",
    "ax_arr[2,0].set_title('Scatter Plot : Age vs trestbps')\n",
    "ax_arr[2,0].set_xlabel('Age')\n",
    "ax_arr[2,0].set_ylabel('Fare')\n",
    "\n",
    "ax_arr[2,1].axis('off')\n",
    "plt.tight_layout()\n",
    "plt.show()"
   ]
  },
  {
   "cell_type": "code",
   "execution_count": null,
   "id": "00d21816",
   "metadata": {},
   "outputs": [],
   "source": []
  }
 ],
 "metadata": {
  "kernelspec": {
   "display_name": "Python 3 (ipykernel)",
   "language": "python",
   "name": "python3"
  },
  "language_info": {
   "codemirror_mode": {
    "name": "ipython",
    "version": 3
   },
   "file_extension": ".py",
   "mimetype": "text/x-python",
   "name": "python",
   "nbconvert_exporter": "python",
   "pygments_lexer": "ipython3",
   "version": "3.9.6"
  }
 },
 "nbformat": 4,
 "nbformat_minor": 5
}
