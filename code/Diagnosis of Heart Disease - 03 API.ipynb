{
 "cells": [
  {
   "cell_type": "code",
   "execution_count": 1,
   "id": "784762a6",
   "metadata": {},
   "outputs": [],
   "source": [
    "import numpy as np\n",
    "import pandas as pd\n",
    "from sklearn import tree\n",
    "from sklearn.datasets import load_wine\n",
    "from sklearn.metrics import accuracy_score\n",
    "import os\n",
    "import json\n",
    "import requests"
   ]
  },
  {
   "cell_type": "markdown",
   "id": "592b40f3",
   "metadata": {},
   "source": [
    "### Import Data"
   ]
  },
  {
   "cell_type": "code",
   "execution_count": 2,
   "id": "58a6d675",
   "metadata": {},
   "outputs": [],
   "source": [
    "# set the path of the processed data\n",
    "processed_data_path = os.path.join(os.path.pardir,'data','processed')\n",
    "train_file_path = os.path.join(processed_data_path,'train.csv')\n",
    "test_file_path = os.path.join(processed_data_path,'test.csv')\n"
   ]
  },
  {
   "cell_type": "code",
   "execution_count": 3,
   "id": "9bb03ccf",
   "metadata": {},
   "outputs": [],
   "source": [
    "train_df = pd.read_csv(train_file_path)\n",
    "test_df = pd.read_csv(test_file_path)"
   ]
  },
  {
   "cell_type": "code",
   "execution_count": 4,
   "id": "4b332ba9",
   "metadata": {},
   "outputs": [],
   "source": [
    "train_df.rename(columns={'Unnamed: 0': 'unnamed'}, inplace=True)"
   ]
  },
  {
   "cell_type": "code",
   "execution_count": 5,
   "id": "a1865c1f",
   "metadata": {},
   "outputs": [],
   "source": [
    "test_df.rename(columns={'Unnamed: 0': 'unnamed'}, inplace=True)"
   ]
  },
  {
   "cell_type": "code",
   "execution_count": 6,
   "id": "edcc9474",
   "metadata": {},
   "outputs": [
    {
     "data": {
      "text/html": [
       "<div>\n",
       "<style scoped>\n",
       "    .dataframe tbody tr th:only-of-type {\n",
       "        vertical-align: middle;\n",
       "    }\n",
       "\n",
       "    .dataframe tbody tr th {\n",
       "        vertical-align: top;\n",
       "    }\n",
       "\n",
       "    .dataframe thead th {\n",
       "        text-align: right;\n",
       "    }\n",
       "</style>\n",
       "<table border=\"1\" class=\"dataframe\">\n",
       "  <thead>\n",
       "    <tr style=\"text-align: right;\">\n",
       "      <th></th>\n",
       "      <th>unnamed</th>\n",
       "      <th>diagnosed</th>\n",
       "      <th>age</th>\n",
       "      <th>sex</th>\n",
       "      <th>trestbps</th>\n",
       "      <th>chol</th>\n",
       "      <th>fbs</th>\n",
       "      <th>restecg</th>\n",
       "      <th>thalach</th>\n",
       "      <th>exang</th>\n",
       "      <th>...</th>\n",
       "      <th>cp_3.0</th>\n",
       "      <th>cp_4.0</th>\n",
       "      <th>cat_A</th>\n",
       "      <th>cat_B</th>\n",
       "      <th>cat_C</th>\n",
       "      <th>cat_D</th>\n",
       "      <th>cat_E</th>\n",
       "      <th>cat_F</th>\n",
       "      <th>cat_G</th>\n",
       "      <th>cat_Z</th>\n",
       "    </tr>\n",
       "  </thead>\n",
       "  <tbody>\n",
       "    <tr>\n",
       "      <th>0</th>\n",
       "      <td>0</td>\n",
       "      <td>0</td>\n",
       "      <td>28.0</td>\n",
       "      <td>1.0</td>\n",
       "      <td>130.0</td>\n",
       "      <td>132</td>\n",
       "      <td>0</td>\n",
       "      <td>2</td>\n",
       "      <td>185.0</td>\n",
       "      <td>0</td>\n",
       "      <td>...</td>\n",
       "      <td>0</td>\n",
       "      <td>0</td>\n",
       "      <td>0</td>\n",
       "      <td>0</td>\n",
       "      <td>0</td>\n",
       "      <td>0</td>\n",
       "      <td>0</td>\n",
       "      <td>1</td>\n",
       "      <td>0</td>\n",
       "      <td>0</td>\n",
       "    </tr>\n",
       "    <tr>\n",
       "      <th>1</th>\n",
       "      <td>1</td>\n",
       "      <td>0</td>\n",
       "      <td>29.0</td>\n",
       "      <td>1.0</td>\n",
       "      <td>120.0</td>\n",
       "      <td>243</td>\n",
       "      <td>0</td>\n",
       "      <td>0</td>\n",
       "      <td>160.0</td>\n",
       "      <td>0</td>\n",
       "      <td>...</td>\n",
       "      <td>0</td>\n",
       "      <td>0</td>\n",
       "      <td>0</td>\n",
       "      <td>0</td>\n",
       "      <td>0</td>\n",
       "      <td>0</td>\n",
       "      <td>1</td>\n",
       "      <td>0</td>\n",
       "      <td>0</td>\n",
       "      <td>0</td>\n",
       "    </tr>\n",
       "    <tr>\n",
       "      <th>2</th>\n",
       "      <td>2</td>\n",
       "      <td>0</td>\n",
       "      <td>29.0</td>\n",
       "      <td>1.0</td>\n",
       "      <td>140.0</td>\n",
       "      <td>242</td>\n",
       "      <td>0</td>\n",
       "      <td>0</td>\n",
       "      <td>170.0</td>\n",
       "      <td>0</td>\n",
       "      <td>...</td>\n",
       "      <td>0</td>\n",
       "      <td>0</td>\n",
       "      <td>0</td>\n",
       "      <td>0</td>\n",
       "      <td>0</td>\n",
       "      <td>0</td>\n",
       "      <td>1</td>\n",
       "      <td>0</td>\n",
       "      <td>0</td>\n",
       "      <td>0</td>\n",
       "    </tr>\n",
       "    <tr>\n",
       "      <th>3</th>\n",
       "      <td>3</td>\n",
       "      <td>0</td>\n",
       "      <td>30.0</td>\n",
       "      <td>0.0</td>\n",
       "      <td>170.0</td>\n",
       "      <td>237</td>\n",
       "      <td>0</td>\n",
       "      <td>1</td>\n",
       "      <td>170.0</td>\n",
       "      <td>0</td>\n",
       "      <td>...</td>\n",
       "      <td>0</td>\n",
       "      <td>0</td>\n",
       "      <td>0</td>\n",
       "      <td>0</td>\n",
       "      <td>0</td>\n",
       "      <td>0</td>\n",
       "      <td>1</td>\n",
       "      <td>0</td>\n",
       "      <td>0</td>\n",
       "      <td>0</td>\n",
       "    </tr>\n",
       "    <tr>\n",
       "      <th>4</th>\n",
       "      <td>4</td>\n",
       "      <td>0</td>\n",
       "      <td>31.0</td>\n",
       "      <td>0.0</td>\n",
       "      <td>100.0</td>\n",
       "      <td>219</td>\n",
       "      <td>0</td>\n",
       "      <td>1</td>\n",
       "      <td>150.0</td>\n",
       "      <td>0</td>\n",
       "      <td>...</td>\n",
       "      <td>0</td>\n",
       "      <td>0</td>\n",
       "      <td>0</td>\n",
       "      <td>0</td>\n",
       "      <td>0</td>\n",
       "      <td>1</td>\n",
       "      <td>0</td>\n",
       "      <td>0</td>\n",
       "      <td>0</td>\n",
       "      <td>0</td>\n",
       "    </tr>\n",
       "  </tbody>\n",
       "</table>\n",
       "<p>5 rows × 33 columns</p>\n",
       "</div>"
      ],
      "text/plain": [
       "   unnamed  diagnosed   age  sex  trestbps  chol  fbs  restecg  thalach  \\\n",
       "0        0          0  28.0  1.0     130.0   132    0        2    185.0   \n",
       "1        1          0  29.0  1.0     120.0   243    0        0    160.0   \n",
       "2        2          0  29.0  1.0     140.0   242    0        0    170.0   \n",
       "3        3          0  30.0  0.0     170.0   237    0        1    170.0   \n",
       "4        4          0  31.0  0.0     100.0   219    0        1    150.0   \n",
       "\n",
       "   exang  ...  cp_3.0  cp_4.0  cat_A  cat_B  cat_C  cat_D  cat_E  cat_F  \\\n",
       "0      0  ...       0       0      0      0      0      0      0      1   \n",
       "1      0  ...       0       0      0      0      0      0      1      0   \n",
       "2      0  ...       0       0      0      0      0      0      1      0   \n",
       "3      0  ...       0       0      0      0      0      0      1      0   \n",
       "4      0  ...       0       0      0      0      0      1      0      0   \n",
       "\n",
       "   cat_G  cat_Z  \n",
       "0      0      0  \n",
       "1      0      0  \n",
       "2      0      0  \n",
       "3      0      0  \n",
       "4      0      0  \n",
       "\n",
       "[5 rows x 33 columns]"
      ]
     },
     "execution_count": 6,
     "metadata": {},
     "output_type": "execute_result"
    }
   ],
   "source": [
    "train_df.head()"
   ]
  },
  {
   "cell_type": "code",
   "execution_count": 7,
   "id": "8be9852e",
   "metadata": {},
   "outputs": [
    {
     "data": {
      "text/html": [
       "<div>\n",
       "<style scoped>\n",
       "    .dataframe tbody tr th:only-of-type {\n",
       "        vertical-align: middle;\n",
       "    }\n",
       "\n",
       "    .dataframe tbody tr th {\n",
       "        vertical-align: top;\n",
       "    }\n",
       "\n",
       "    .dataframe thead th {\n",
       "        text-align: right;\n",
       "    }\n",
       "</style>\n",
       "<table border=\"1\" class=\"dataframe\">\n",
       "  <thead>\n",
       "    <tr style=\"text-align: right;\">\n",
       "      <th></th>\n",
       "      <th>unnamed</th>\n",
       "      <th>diagnosed</th>\n",
       "      <th>age</th>\n",
       "      <th>sex</th>\n",
       "      <th>trestbps</th>\n",
       "      <th>chol</th>\n",
       "      <th>fbs</th>\n",
       "      <th>restecg</th>\n",
       "      <th>thalach</th>\n",
       "      <th>exang</th>\n",
       "      <th>...</th>\n",
       "      <th>cp_3.0</th>\n",
       "      <th>cp_4.0</th>\n",
       "      <th>cat_A</th>\n",
       "      <th>cat_B</th>\n",
       "      <th>cat_C</th>\n",
       "      <th>cat_D</th>\n",
       "      <th>cat_E</th>\n",
       "      <th>cat_F</th>\n",
       "      <th>cat_G</th>\n",
       "      <th>cat_Z</th>\n",
       "    </tr>\n",
       "  </thead>\n",
       "  <tbody>\n",
       "    <tr>\n",
       "      <th>0</th>\n",
       "      <td>0</td>\n",
       "      <td>-888</td>\n",
       "      <td>63.0</td>\n",
       "      <td>1.0</td>\n",
       "      <td>145.0</td>\n",
       "      <td>233</td>\n",
       "      <td>1</td>\n",
       "      <td>2</td>\n",
       "      <td>150.0</td>\n",
       "      <td>0</td>\n",
       "      <td>...</td>\n",
       "      <td>0</td>\n",
       "      <td>0</td>\n",
       "      <td>0</td>\n",
       "      <td>0</td>\n",
       "      <td>0</td>\n",
       "      <td>1</td>\n",
       "      <td>0</td>\n",
       "      <td>0</td>\n",
       "      <td>0</td>\n",
       "      <td>0</td>\n",
       "    </tr>\n",
       "    <tr>\n",
       "      <th>1</th>\n",
       "      <td>1</td>\n",
       "      <td>-888</td>\n",
       "      <td>67.0</td>\n",
       "      <td>1.0</td>\n",
       "      <td>160.0</td>\n",
       "      <td>286</td>\n",
       "      <td>0</td>\n",
       "      <td>2</td>\n",
       "      <td>108.0</td>\n",
       "      <td>1</td>\n",
       "      <td>...</td>\n",
       "      <td>0</td>\n",
       "      <td>1</td>\n",
       "      <td>0</td>\n",
       "      <td>1</td>\n",
       "      <td>0</td>\n",
       "      <td>0</td>\n",
       "      <td>0</td>\n",
       "      <td>0</td>\n",
       "      <td>0</td>\n",
       "      <td>0</td>\n",
       "    </tr>\n",
       "    <tr>\n",
       "      <th>2</th>\n",
       "      <td>2</td>\n",
       "      <td>-888</td>\n",
       "      <td>67.0</td>\n",
       "      <td>1.0</td>\n",
       "      <td>120.0</td>\n",
       "      <td>229</td>\n",
       "      <td>0</td>\n",
       "      <td>2</td>\n",
       "      <td>129.0</td>\n",
       "      <td>1</td>\n",
       "      <td>...</td>\n",
       "      <td>0</td>\n",
       "      <td>1</td>\n",
       "      <td>0</td>\n",
       "      <td>0</td>\n",
       "      <td>1</td>\n",
       "      <td>0</td>\n",
       "      <td>0</td>\n",
       "      <td>0</td>\n",
       "      <td>0</td>\n",
       "      <td>0</td>\n",
       "    </tr>\n",
       "    <tr>\n",
       "      <th>3</th>\n",
       "      <td>3</td>\n",
       "      <td>-888</td>\n",
       "      <td>37.0</td>\n",
       "      <td>1.0</td>\n",
       "      <td>130.0</td>\n",
       "      <td>250</td>\n",
       "      <td>0</td>\n",
       "      <td>0</td>\n",
       "      <td>187.0</td>\n",
       "      <td>0</td>\n",
       "      <td>...</td>\n",
       "      <td>1</td>\n",
       "      <td>0</td>\n",
       "      <td>0</td>\n",
       "      <td>0</td>\n",
       "      <td>0</td>\n",
       "      <td>0</td>\n",
       "      <td>0</td>\n",
       "      <td>1</td>\n",
       "      <td>0</td>\n",
       "      <td>0</td>\n",
       "    </tr>\n",
       "    <tr>\n",
       "      <th>4</th>\n",
       "      <td>4</td>\n",
       "      <td>-888</td>\n",
       "      <td>41.0</td>\n",
       "      <td>0.0</td>\n",
       "      <td>130.0</td>\n",
       "      <td>204</td>\n",
       "      <td>0</td>\n",
       "      <td>2</td>\n",
       "      <td>172.0</td>\n",
       "      <td>0</td>\n",
       "      <td>...</td>\n",
       "      <td>0</td>\n",
       "      <td>0</td>\n",
       "      <td>0</td>\n",
       "      <td>0</td>\n",
       "      <td>0</td>\n",
       "      <td>0</td>\n",
       "      <td>1</td>\n",
       "      <td>0</td>\n",
       "      <td>0</td>\n",
       "      <td>0</td>\n",
       "    </tr>\n",
       "  </tbody>\n",
       "</table>\n",
       "<p>5 rows × 33 columns</p>\n",
       "</div>"
      ],
      "text/plain": [
       "   unnamed  diagnosed   age  sex  trestbps  chol  fbs  restecg  thalach  \\\n",
       "0        0       -888  63.0  1.0     145.0   233    1        2    150.0   \n",
       "1        1       -888  67.0  1.0     160.0   286    0        2    108.0   \n",
       "2        2       -888  67.0  1.0     120.0   229    0        2    129.0   \n",
       "3        3       -888  37.0  1.0     130.0   250    0        0    187.0   \n",
       "4        4       -888  41.0  0.0     130.0   204    0        2    172.0   \n",
       "\n",
       "   exang  ...  cp_3.0  cp_4.0  cat_A  cat_B  cat_C  cat_D  cat_E  cat_F  \\\n",
       "0      0  ...       0       0      0      0      0      1      0      0   \n",
       "1      1  ...       0       1      0      1      0      0      0      0   \n",
       "2      1  ...       0       1      0      0      1      0      0      0   \n",
       "3      0  ...       1       0      0      0      0      0      0      1   \n",
       "4      0  ...       0       0      0      0      0      0      1      0   \n",
       "\n",
       "   cat_G  cat_Z  \n",
       "0      0      0  \n",
       "1      0      0  \n",
       "2      0      0  \n",
       "3      0      0  \n",
       "4      0      0  \n",
       "\n",
       "[5 rows x 33 columns]"
      ]
     },
     "execution_count": 7,
     "metadata": {},
     "output_type": "execute_result"
    }
   ],
   "source": [
    "test_df.head()"
   ]
  },
  {
   "cell_type": "code",
   "execution_count": 8,
   "id": "66b17366",
   "metadata": {},
   "outputs": [],
   "source": [
    "test_df['diagnosed'] = test_df['num'].apply(lambda x: 0 if x == 0 else 1)"
   ]
  },
  {
   "cell_type": "code",
   "execution_count": 9,
   "id": "1d10190a",
   "metadata": {},
   "outputs": [],
   "source": [
    "X_train = train_df\n",
    "y_train = train_df['diagnosed']\n",
    "\n",
    "X_test = test_df\n",
    "y_test = test_df['diagnosed'] "
   ]
  },
  {
   "cell_type": "markdown",
   "id": "5a161979",
   "metadata": {},
   "source": [
    "### train the model and make prediction"
   ]
  },
  {
   "cell_type": "code",
   "execution_count": 10,
   "id": "13bd4ea1",
   "metadata": {},
   "outputs": [
    {
     "data": {
      "text/plain": [
       "BaggingClassifier(base_estimator=RandomForestClassifier(), max_samples=0.6,\n",
       "                  n_estimators=100)"
      ]
     },
     "execution_count": 10,
     "metadata": {},
     "output_type": "execute_result"
    }
   ],
   "source": [
    "#clf = tree.DecisionTreeClassifier()\n",
    "#clf = clf.fit(X_train, y_train)\n",
    "from sklearn.ensemble import BaggingClassifier\n",
    "from sklearn.ensemble import RandomForestClassifier\n",
    "rf = RandomForestClassifier(n_estimators=100)\n",
    "clf = BaggingClassifier(rf, max_samples=0.6, max_features=1.0, n_estimators=100)\n",
    "\n",
    "clf.fit(X_train, y_train)\n",
    "\n",
    "\n",
    "\n"
   ]
  },
  {
   "cell_type": "code",
   "execution_count": 11,
   "id": "c44cd960",
   "metadata": {},
   "outputs": [],
   "source": [
    "y_pred = clf.predict(X_test)"
   ]
  },
  {
   "cell_type": "code",
   "execution_count": 12,
   "id": "e3d9186d",
   "metadata": {},
   "outputs": [
    {
     "name": "stdout",
     "output_type": "stream",
     "text": [
      "accuracy_score: 1.00\n"
     ]
    }
   ],
   "source": [
    "\n",
    "print(\"accuracy_score: %.2f\"\n",
    "      % accuracy_score(y_test, y_pred))"
   ]
  },
  {
   "cell_type": "markdown",
   "id": "ff640d50",
   "metadata": {},
   "source": [
    "### serialize the model with pickle "
   ]
  },
  {
   "cell_type": "code",
   "execution_count": 13,
   "id": "a171a4f9",
   "metadata": {},
   "outputs": [],
   "source": [
    "# the model saved is to be loaded in server site\n",
    "\n",
    "import pickle\n",
    "import os\n",
    "models_path = os.path.join(os.path.pardir,'models')\n",
    "pickle_path = os.path.join(models_path,'final_prediction.pickle')\n",
    "\n",
    "#pickle.dump(clf, open('models/final_prediction.pickle', 'wb'))\n",
    "pickle.dump(clf, open(pickle_path, 'wb'))"
   ]
  },
  {
   "cell_type": "code",
   "execution_count": 14,
   "id": "1b31e92e",
   "metadata": {},
   "outputs": [],
   "source": [
    "api_file = os.path.join(os.path.pardir,'models','api.py')"
   ]
  },
  {
   "cell_type": "markdown",
   "id": "2bf55374",
   "metadata": {},
   "source": [
    "## server site API provider"
   ]
  },
  {
   "cell_type": "code",
   "execution_count": 15,
   "id": "8de075ba",
   "metadata": {},
   "outputs": [
    {
     "name": "stdout",
     "output_type": "stream",
     "text": [
      "Overwriting ..\\models\\api.py\n"
     ]
    }
   ],
   "source": [
    "%%writefile $api_file\n",
    "\n",
    "from flask import Flask, request, redirect, url_for, flash, jsonify\n",
    "import numpy as np\n",
    "import pickle as p\n",
    "import json\n",
    "\n",
    "\n",
    "app = Flask(__name__)\n",
    "\n",
    "\n",
    "@app.route('/api/', methods=['POST'])\n",
    "def makecalc():\n",
    "    data = request.get_json()\n",
    "    prediction = np.array2string(model.predict(data))\n",
    "\n",
    "    return jsonify(prediction)\n",
    "\n",
    "if __name__ == '__main__':\n",
    "    \n",
    "# load the model and run prediction\n",
    "# the run is in the server site\n",
    "\n",
    "    modelfile = 'final_prediction.pickle'\n",
    "    model = p.load(open(modelfile, 'rb'))\n",
    "    app.run(debug=True, host='127.0.0.1')\n"
   ]
  },
  {
   "cell_type": "markdown",
   "id": "ad8688b2",
   "metadata": {},
   "source": [
    "## client site API caller"
   ]
  },
  {
   "cell_type": "code",
   "execution_count": 16,
   "id": "0824b794",
   "metadata": {},
   "outputs": [],
   "source": [
    "# as test choose 5 rows from testset to compare result\n",
    "\n",
    "patients = test_df[test_df['diagnosed'] == 1][:5]\n"
   ]
  },
  {
   "cell_type": "code",
   "execution_count": 17,
   "id": "d7089e0d",
   "metadata": {},
   "outputs": [],
   "source": [
    "data = patients.to_numpy().astype('float')"
   ]
  },
  {
   "cell_type": "code",
   "execution_count": 18,
   "id": "3a04a84f",
   "metadata": {},
   "outputs": [
    {
     "data": {
      "text/plain": [
       "array([[  1. ,   1. ,  67. ,   1. , 160. , 286. ,   0. ,   2. , 108. ,\n",
       "          1. ,   1.5,   2. ,   0. ,   3. ,   2. ,   0. ,   0. ,   0. ,\n",
       "          1. ,   0. ,   1. ,   0. ,   0. ,   0. ,   1. ,   0. ,   1. ,\n",
       "          0. ,   0. ,   0. ,   0. ,   0. ,   0. ],\n",
       "       [  2. ,   1. ,  67. ,   1. , 120. , 229. ,   0. ,   2. , 129. ,\n",
       "          1. ,   2.6,   2. ,   0. ,   3. ,   1. ,   1. ,   0. ,   0. ,\n",
       "          0. ,   0. ,   1. ,   0. ,   0. ,   0. ,   1. ,   0. ,   0. ,\n",
       "          1. ,   0. ,   0. ,   0. ,   0. ,   0. ],\n",
       "       [  6. ,   1. ,  62. ,   0. , 140. , 268. ,   0. ,   2. , 160. ,\n",
       "          0. ,   3.6,   3. ,   0. ,   3. ,   3. ,   0. ,   0. ,   1. ,\n",
       "          0. ,   0. ,   1. ,   0. ,   0. ,   0. ,   1. ,   0. ,   0. ,\n",
       "          0. ,   0. ,   1. ,   0. ,   0. ,   0. ],\n",
       "       [  8. ,   1. ,  63. ,   1. , 130. , 254. ,   0. ,   2. , 147. ,\n",
       "          0. ,   1.4,   2. ,   0. ,   3. ,   2. ,   0. ,   1. ,   0. ,\n",
       "          0. ,   0. ,   1. ,   0. ,   0. ,   0. ,   1. ,   0. ,   0. ,\n",
       "          0. ,   1. ,   0. ,   0. ,   0. ,   0. ],\n",
       "       [  9. ,   1. ,  53. ,   1. , 140. , 203. ,   1. ,   2. , 155. ,\n",
       "          1. ,   3.1,   3. ,   0. ,   3. ,   1. ,   0. ,   0. ,   1. ,\n",
       "          0. ,   1. ,   0. ,   0. ,   0. ,   0. ,   1. ,   0. ,   0. ,\n",
       "          0. ,   1. ,   0. ,   0. ,   0. ,   0. ]])"
      ]
     },
     "execution_count": 18,
     "metadata": {},
     "output_type": "execute_result"
    }
   ],
   "source": [
    "data"
   ]
  },
  {
   "cell_type": "markdown",
   "id": "c2a793a6",
   "metadata": {},
   "source": [
    "### Before running this step make sure server is running\n",
    "#### C:\\Users\\DeeWu\\project\\models\\python api.py"
   ]
  },
  {
   "cell_type": "code",
   "execution_count": 20,
   "id": "9af76bc8",
   "metadata": {},
   "outputs": [
    {
     "name": "stdout",
     "output_type": "stream",
     "text": [
      "<Response [200]> \"[1 1 1 1 1]\"\n",
      "\n"
     ]
    }
   ],
   "source": [
    "import requests\n",
    "import json\n",
    "from flask import Flask, request\n",
    "\n",
    "url = 'http://127.0.0.1:5000/api/'\n",
    "\n",
    "j_data = json.dumps(data.tolist())\n",
    "\n",
    "headers = {'content-type': 'application/json', 'Accept-Charset': 'UTF-8'}\n",
    "r = requests.post(url, data=j_data, headers=headers)\n",
    "\n",
    "print(r, r.text)\n"
   ]
  },
  {
   "cell_type": "code",
   "execution_count": null,
   "id": "93b477f6",
   "metadata": {},
   "outputs": [],
   "source": []
  }
 ],
 "metadata": {
  "kernelspec": {
   "display_name": "Python 3 (ipykernel)",
   "language": "python",
   "name": "python3"
  },
  "language_info": {
   "codemirror_mode": {
    "name": "ipython",
    "version": 3
   },
   "file_extension": ".py",
   "mimetype": "text/x-python",
   "name": "python",
   "nbconvert_exporter": "python",
   "pygments_lexer": "ipython3",
   "version": "3.9.6"
  }
 },
 "nbformat": 4,
 "nbformat_minor": 5
}
