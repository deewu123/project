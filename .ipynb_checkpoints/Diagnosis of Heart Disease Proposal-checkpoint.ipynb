{
 "cells": [
  {
   "cell_type": "markdown",
   "id": "0b0ca9a9",
   "metadata": {},
   "source": [
    "# Diagnosis of Heart Disease Proposal"
   ]
  },
  {
   "cell_type": "code",
   "execution_count": null,
   "id": "4b40c69e",
   "metadata": {},
   "outputs": [],
   "source": [
    "# import python library\n",
    "import pandas as pd\n",
    "import numpy as np"
   ]
  },
  {
   "cell_type": "code",
   "execution_count": null,
   "id": "0951a74c",
   "metadata": {},
   "outputs": [],
   "source": [
    "# Number of random draws from the prior\n",
    "n_draws = 10000"
   ]
  },
  {
   "cell_type": "code",
   "execution_count": null,
   "id": "1bdde84c",
   "metadata": {},
   "outputs": [],
   "source": [
    "# Here you sample n_draws draws from the prior into a pandas Series (to have convenient\n",
    "# methods available for histograms and descriptive statistics, e.g. median)\n",
    "prior = pd.Series(...)  \n",
    "\n",
    "prior.hist() # It's always good to eyeball the prior to make sure it looks ok."
   ]
  },
  {
   "cell_type": "code",
   "execution_count": null,
   "id": "c438f3df",
   "metadata": {},
   "outputs": [],
   "source": [
    "# Here you define the generative model\n",
    "def generative_model(parameters):\n",
    "    return(...)"
   ]
  },
  {
   "cell_type": "code",
   "execution_count": null,
   "id": "05a9be59",
   "metadata": {},
   "outputs": [],
   "source": [
    "# Here you simulate data using the parameters from the prior and the \n",
    "# generative model\n",
    "sim_data = list()\n",
    "for p in prior:\n",
    "    sim_data.append(generative_model(p))"
   ]
  },
  {
   "cell_type": "code",
   "execution_count": null,
   "id": "73d8568c",
   "metadata": {},
   "outputs": [],
   "source": [
    "# Here you filter off all draws that do not match the data.\n",
    "posterior = prior[list(map(lambda x: x == observed_data, sim_data))]\n",
    "\n",
    "posterior.hist() # Eyeball the posterior"
   ]
  },
  {
   "cell_type": "code",
   "execution_count": null,
   "id": "9718fddb",
   "metadata": {},
   "outputs": [],
   "source": [
    "# See that we got enought draws left after the filtering. \n",
    "# There are no rules here, but you probably want to aim for >1000 draws.\n",
    "\n",
    "# Now you can summarize the posterior, where a common summary is to take the mean or the median posterior, \n",
    "# and perhaps a 95% quantile interval.\n",
    "\n",
    "\n",
    "print('Number of draws left: %d, Posterior median: %.3f, Posterior quantile interval: %.3f-%.3f' % \n",
    "      (len(posterior), posterior.median(), posterior.quantile(.025), posterior.quantile(.975)))"
   ]
  },
  {
   "cell_type": "code",
   "execution_count": null,
   "id": "ced95573",
   "metadata": {},
   "outputs": [],
   "source": []
  }
 ],
 "metadata": {
  "kernelspec": {
   "display_name": "Python 3",
   "language": "python",
   "name": "python3"
  }
 },
 "nbformat": 4,
 "nbformat_minor": 5
}
