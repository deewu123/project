{
 "cells": [
  {
   "cell_type": "markdown",
   "id": "0a8e0587",
   "metadata": {},
   "source": [
    "## (1)\tBuild the naïve bayes classifier"
   ]
  },
  {
   "cell_type": "code",
   "execution_count": 1,
   "id": "e59781af",
   "metadata": {},
   "outputs": [],
   "source": [
    "import pandas as pd\n",
    "import numpy as np"
   ]
  },
  {
   "cell_type": "code",
   "execution_count": 2,
   "id": "abd1dc17",
   "metadata": {},
   "outputs": [
    {
     "data": {
      "text/html": [
       "<div>\n",
       "<style scoped>\n",
       "    .dataframe tbody tr th:only-of-type {\n",
       "        vertical-align: middle;\n",
       "    }\n",
       "\n",
       "    .dataframe tbody tr th {\n",
       "        vertical-align: top;\n",
       "    }\n",
       "\n",
       "    .dataframe thead th {\n",
       "        text-align: right;\n",
       "    }\n",
       "</style>\n",
       "<table border=\"1\" class=\"dataframe\">\n",
       "  <thead>\n",
       "    <tr style=\"text-align: right;\">\n",
       "      <th></th>\n",
       "      <th>Income</th>\n",
       "      <th>Has Child (under 10)</th>\n",
       "      <th>Age</th>\n",
       "      <th>Buy Car</th>\n",
       "    </tr>\n",
       "  </thead>\n",
       "  <tbody>\n",
       "    <tr>\n",
       "      <th>0</th>\n",
       "      <td>Low</td>\n",
       "      <td>No</td>\n",
       "      <td>Young</td>\n",
       "      <td>No</td>\n",
       "    </tr>\n",
       "    <tr>\n",
       "      <th>1</th>\n",
       "      <td>Mid-Range</td>\n",
       "      <td>Yes</td>\n",
       "      <td>Old</td>\n",
       "      <td>No</td>\n",
       "    </tr>\n",
       "    <tr>\n",
       "      <th>2</th>\n",
       "      <td>High</td>\n",
       "      <td>Yes</td>\n",
       "      <td>Mid-aged</td>\n",
       "      <td>Yes</td>\n",
       "    </tr>\n",
       "    <tr>\n",
       "      <th>3</th>\n",
       "      <td>High</td>\n",
       "      <td>No</td>\n",
       "      <td>Young</td>\n",
       "      <td>Yes</td>\n",
       "    </tr>\n",
       "    <tr>\n",
       "      <th>4</th>\n",
       "      <td>Mid-Range</td>\n",
       "      <td>Yes</td>\n",
       "      <td>Mid-aged</td>\n",
       "      <td>Yes</td>\n",
       "    </tr>\n",
       "    <tr>\n",
       "      <th>5</th>\n",
       "      <td>High</td>\n",
       "      <td>No</td>\n",
       "      <td>Old</td>\n",
       "      <td>No</td>\n",
       "    </tr>\n",
       "    <tr>\n",
       "      <th>6</th>\n",
       "      <td>Low</td>\n",
       "      <td>Yes</td>\n",
       "      <td>Young</td>\n",
       "      <td>Yes</td>\n",
       "    </tr>\n",
       "    <tr>\n",
       "      <th>7</th>\n",
       "      <td>Mid-Range</td>\n",
       "      <td>Yes</td>\n",
       "      <td>Mid-aged</td>\n",
       "      <td>No</td>\n",
       "    </tr>\n",
       "    <tr>\n",
       "      <th>8</th>\n",
       "      <td>High</td>\n",
       "      <td>Yes</td>\n",
       "      <td>Young</td>\n",
       "      <td>Yes</td>\n",
       "    </tr>\n",
       "    <tr>\n",
       "      <th>9</th>\n",
       "      <td>Low</td>\n",
       "      <td>No</td>\n",
       "      <td>Old</td>\n",
       "      <td>Yes</td>\n",
       "    </tr>\n",
       "  </tbody>\n",
       "</table>\n",
       "</div>"
      ],
      "text/plain": [
       "      Income Has Child (under 10)       Age Buy Car\n",
       "0        Low                   No     Young      No\n",
       "1  Mid-Range                  Yes       Old      No\n",
       "2       High                  Yes  Mid-aged     Yes\n",
       "3       High                   No     Young     Yes\n",
       "4  Mid-Range                  Yes  Mid-aged     Yes\n",
       "5       High                   No       Old      No\n",
       "6        Low                  Yes     Young     Yes\n",
       "7  Mid-Range                  Yes  Mid-aged      No\n",
       "8       High                  Yes     Young     Yes\n",
       "9        Low                   No       Old     Yes"
      ]
     },
     "execution_count": 2,
     "metadata": {},
     "output_type": "execute_result"
    }
   ],
   "source": [
    "df = pd.read_csv('cardata.csv')\n",
    "df = df.dropna()\n",
    "df.head(10)"
   ]
  },
  {
   "cell_type": "markdown",
   "id": "46a35cbb",
   "metadata": {},
   "source": [
    "### Rename attribute"
   ]
  },
  {
   "cell_type": "code",
   "execution_count": 3,
   "id": "b00293c2",
   "metadata": {},
   "outputs": [],
   "source": [
    "df = df.rename(columns={\"Income\": \"income\", \"Has Child (under 10)\": \"child\", \"Age\": \"age\", \"Buy Car\": \"buy\"})"
   ]
  },
  {
   "cell_type": "code",
   "execution_count": 4,
   "id": "e79afc02",
   "metadata": {},
   "outputs": [
    {
     "name": "stdout",
     "output_type": "stream",
     "text": [
      "<class 'pandas.core.frame.DataFrame'>\n",
      "Int64Index: 10 entries, 0 to 9\n",
      "Data columns (total 4 columns):\n",
      " #   Column  Non-Null Count  Dtype \n",
      "---  ------  --------------  ----- \n",
      " 0   income  10 non-null     object\n",
      " 1   child   10 non-null     object\n",
      " 2   age     10 non-null     object\n",
      " 3   buy     10 non-null     object\n",
      "dtypes: object(4)\n",
      "memory usage: 400.0+ bytes\n"
     ]
    }
   ],
   "source": [
    "df.info()"
   ]
  },
  {
   "cell_type": "markdown",
   "id": "f7d8de76",
   "metadata": {},
   "source": [
    "## Encoding child, buy"
   ]
  },
  {
   "cell_type": "code",
   "execution_count": 5,
   "id": "8ed9a317",
   "metadata": {},
   "outputs": [],
   "source": [
    "# child\n",
    "df['child'] = np.where(df.child == 'No', 0, 1)\n",
    "# buy\n",
    "df['buy'] = np.where(df.buy == 'No', 0, 1)"
   ]
  },
  {
   "cell_type": "markdown",
   "id": "b3a560a1",
   "metadata": {},
   "source": [
    "## Categorical Feature Encoding"
   ]
  },
  {
   "cell_type": "code",
   "execution_count": 6,
   "id": "9d4bc08e",
   "metadata": {},
   "outputs": [],
   "source": [
    "# columns income, age\n",
    "df = pd.get_dummies(df,columns=['income','age'])"
   ]
  },
  {
   "cell_type": "code",
   "execution_count": 7,
   "id": "ff3c7657",
   "metadata": {},
   "outputs": [
    {
     "name": "stdout",
     "output_type": "stream",
     "text": [
      "<class 'pandas.core.frame.DataFrame'>\n",
      "Int64Index: 10 entries, 0 to 9\n",
      "Data columns (total 8 columns):\n",
      " #   Column            Non-Null Count  Dtype\n",
      "---  ------            --------------  -----\n",
      " 0   child             10 non-null     int32\n",
      " 1   buy               10 non-null     int32\n",
      " 2   income_High       10 non-null     uint8\n",
      " 3   income_Low        10 non-null     uint8\n",
      " 4   income_Mid-Range  10 non-null     uint8\n",
      " 5   age_Mid-aged      10 non-null     uint8\n",
      " 6   age_Old           10 non-null     uint8\n",
      " 7   age_Young         10 non-null     uint8\n",
      "dtypes: int32(2), uint8(6)\n",
      "memory usage: 220.0 bytes\n"
     ]
    }
   ],
   "source": [
    "df.info()"
   ]
  },
  {
   "cell_type": "code",
   "execution_count": 8,
   "id": "077b59ce",
   "metadata": {},
   "outputs": [
    {
     "data": {
      "text/html": [
       "<div>\n",
       "<style scoped>\n",
       "    .dataframe tbody tr th:only-of-type {\n",
       "        vertical-align: middle;\n",
       "    }\n",
       "\n",
       "    .dataframe tbody tr th {\n",
       "        vertical-align: top;\n",
       "    }\n",
       "\n",
       "    .dataframe thead th {\n",
       "        text-align: right;\n",
       "    }\n",
       "</style>\n",
       "<table border=\"1\" class=\"dataframe\">\n",
       "  <thead>\n",
       "    <tr style=\"text-align: right;\">\n",
       "      <th></th>\n",
       "      <th>child</th>\n",
       "      <th>buy</th>\n",
       "      <th>income_High</th>\n",
       "      <th>income_Low</th>\n",
       "      <th>income_Mid-Range</th>\n",
       "      <th>age_Mid-aged</th>\n",
       "      <th>age_Old</th>\n",
       "      <th>age_Young</th>\n",
       "    </tr>\n",
       "  </thead>\n",
       "  <tbody>\n",
       "    <tr>\n",
       "      <th>0</th>\n",
       "      <td>0</td>\n",
       "      <td>0</td>\n",
       "      <td>0</td>\n",
       "      <td>1</td>\n",
       "      <td>0</td>\n",
       "      <td>0</td>\n",
       "      <td>0</td>\n",
       "      <td>1</td>\n",
       "    </tr>\n",
       "    <tr>\n",
       "      <th>1</th>\n",
       "      <td>1</td>\n",
       "      <td>0</td>\n",
       "      <td>0</td>\n",
       "      <td>0</td>\n",
       "      <td>1</td>\n",
       "      <td>0</td>\n",
       "      <td>1</td>\n",
       "      <td>0</td>\n",
       "    </tr>\n",
       "    <tr>\n",
       "      <th>2</th>\n",
       "      <td>1</td>\n",
       "      <td>1</td>\n",
       "      <td>1</td>\n",
       "      <td>0</td>\n",
       "      <td>0</td>\n",
       "      <td>1</td>\n",
       "      <td>0</td>\n",
       "      <td>0</td>\n",
       "    </tr>\n",
       "    <tr>\n",
       "      <th>3</th>\n",
       "      <td>0</td>\n",
       "      <td>1</td>\n",
       "      <td>1</td>\n",
       "      <td>0</td>\n",
       "      <td>0</td>\n",
       "      <td>0</td>\n",
       "      <td>0</td>\n",
       "      <td>1</td>\n",
       "    </tr>\n",
       "    <tr>\n",
       "      <th>4</th>\n",
       "      <td>1</td>\n",
       "      <td>1</td>\n",
       "      <td>0</td>\n",
       "      <td>0</td>\n",
       "      <td>1</td>\n",
       "      <td>1</td>\n",
       "      <td>0</td>\n",
       "      <td>0</td>\n",
       "    </tr>\n",
       "    <tr>\n",
       "      <th>5</th>\n",
       "      <td>0</td>\n",
       "      <td>0</td>\n",
       "      <td>1</td>\n",
       "      <td>0</td>\n",
       "      <td>0</td>\n",
       "      <td>0</td>\n",
       "      <td>1</td>\n",
       "      <td>0</td>\n",
       "    </tr>\n",
       "    <tr>\n",
       "      <th>6</th>\n",
       "      <td>1</td>\n",
       "      <td>1</td>\n",
       "      <td>0</td>\n",
       "      <td>1</td>\n",
       "      <td>0</td>\n",
       "      <td>0</td>\n",
       "      <td>0</td>\n",
       "      <td>1</td>\n",
       "    </tr>\n",
       "    <tr>\n",
       "      <th>7</th>\n",
       "      <td>1</td>\n",
       "      <td>0</td>\n",
       "      <td>0</td>\n",
       "      <td>0</td>\n",
       "      <td>1</td>\n",
       "      <td>1</td>\n",
       "      <td>0</td>\n",
       "      <td>0</td>\n",
       "    </tr>\n",
       "    <tr>\n",
       "      <th>8</th>\n",
       "      <td>1</td>\n",
       "      <td>1</td>\n",
       "      <td>1</td>\n",
       "      <td>0</td>\n",
       "      <td>0</td>\n",
       "      <td>0</td>\n",
       "      <td>0</td>\n",
       "      <td>1</td>\n",
       "    </tr>\n",
       "    <tr>\n",
       "      <th>9</th>\n",
       "      <td>0</td>\n",
       "      <td>1</td>\n",
       "      <td>0</td>\n",
       "      <td>1</td>\n",
       "      <td>0</td>\n",
       "      <td>0</td>\n",
       "      <td>1</td>\n",
       "      <td>0</td>\n",
       "    </tr>\n",
       "  </tbody>\n",
       "</table>\n",
       "</div>"
      ],
      "text/plain": [
       "   child  buy  income_High  income_Low  income_Mid-Range  age_Mid-aged  \\\n",
       "0      0    0            0           1                 0             0   \n",
       "1      1    0            0           0                 1             0   \n",
       "2      1    1            1           0                 0             1   \n",
       "3      0    1            1           0                 0             0   \n",
       "4      1    1            0           0                 1             1   \n",
       "5      0    0            1           0                 0             0   \n",
       "6      1    1            0           1                 0             0   \n",
       "7      1    0            0           0                 1             1   \n",
       "8      1    1            1           0                 0             0   \n",
       "9      0    1            0           1                 0             0   \n",
       "\n",
       "   age_Old  age_Young  \n",
       "0        0          1  \n",
       "1        1          0  \n",
       "2        0          0  \n",
       "3        0          1  \n",
       "4        0          0  \n",
       "5        1          0  \n",
       "6        0          1  \n",
       "7        0          0  \n",
       "8        0          1  \n",
       "9        1          0  "
      ]
     },
     "execution_count": 8,
     "metadata": {},
     "output_type": "execute_result"
    }
   ],
   "source": [
    "df.head(10)"
   ]
  },
  {
   "cell_type": "code",
   "execution_count": 9,
   "id": "def17e5d",
   "metadata": {},
   "outputs": [
    {
     "data": {
      "text/plain": [
       "(10, 8)"
      ]
     },
     "execution_count": 9,
     "metadata": {},
     "output_type": "execute_result"
    }
   ],
   "source": [
    "df.shape"
   ]
  },
  {
   "cell_type": "markdown",
   "id": "33c75bda",
   "metadata": {},
   "source": [
    "### X is dataset to train the algorithm\n",
    "### y is actual value of buying a car or not"
   ]
  },
  {
   "cell_type": "code",
   "execution_count": 10,
   "id": "5200401e",
   "metadata": {},
   "outputs": [],
   "source": [
    "X = df[[\"child\", \"income_High\", \"income_Low\", \"income_Mid-Range\", \"age_Young\", \"age_Old\", \"age_Mid-aged\"]].values\n",
    "y = df[\"buy\"].values"
   ]
  },
  {
   "cell_type": "code",
   "execution_count": 11,
   "id": "1ecc7751",
   "metadata": {},
   "outputs": [
    {
     "data": {
      "text/plain": [
       "array([[0, 0, 1, 0, 1, 0, 0],\n",
       "       [1, 0, 0, 1, 0, 1, 0],\n",
       "       [1, 1, 0, 0, 0, 0, 1],\n",
       "       [0, 1, 0, 0, 1, 0, 0],\n",
       "       [1, 0, 0, 1, 0, 0, 1],\n",
       "       [0, 1, 0, 0, 0, 1, 0],\n",
       "       [1, 0, 1, 0, 1, 0, 0],\n",
       "       [1, 0, 0, 1, 0, 0, 1],\n",
       "       [1, 1, 0, 0, 1, 0, 0],\n",
       "       [0, 0, 1, 0, 0, 1, 0]], dtype=int32)"
      ]
     },
     "execution_count": 11,
     "metadata": {},
     "output_type": "execute_result"
    }
   ],
   "source": [
    "X"
   ]
  },
  {
   "cell_type": "code",
   "execution_count": 12,
   "id": "86e44d9b",
   "metadata": {},
   "outputs": [
    {
     "data": {
      "text/plain": [
       "array([0, 0, 1, 1, 1, 0, 1, 0, 1, 1])"
      ]
     },
     "execution_count": 12,
     "metadata": {},
     "output_type": "execute_result"
    }
   ],
   "source": [
    "y"
   ]
  },
  {
   "cell_type": "markdown",
   "id": "fc30429c",
   "metadata": {},
   "source": [
    "### import sklearn library"
   ]
  },
  {
   "cell_type": "code",
   "execution_count": 13,
   "id": "f9c1c0a9",
   "metadata": {},
   "outputs": [],
   "source": [
    "from sklearn.model_selection import train_test_split\n",
    "from sklearn.naive_bayes import GaussianNB"
   ]
  },
  {
   "cell_type": "markdown",
   "id": "ba0d7b62",
   "metadata": {},
   "source": [
    "### Gaussian Naive Bayes"
   ]
  },
  {
   "cell_type": "code",
   "execution_count": 14,
   "id": "90af9c2e",
   "metadata": {},
   "outputs": [],
   "source": [
    "gnb = GaussianNB()"
   ]
  },
  {
   "cell_type": "code",
   "execution_count": 15,
   "id": "b812ffab",
   "metadata": {},
   "outputs": [
    {
     "data": {
      "text/plain": [
       "GaussianNB()"
      ]
     },
     "execution_count": 15,
     "metadata": {},
     "output_type": "execute_result"
    }
   ],
   "source": [
    "gnb.fit(X,y)"
   ]
  },
  {
   "cell_type": "markdown",
   "id": "2cc64336",
   "metadata": {},
   "source": [
    "### Prediction with whole dataset X"
   ]
  },
  {
   "cell_type": "code",
   "execution_count": 16,
   "id": "ae1e9a45",
   "metadata": {},
   "outputs": [],
   "source": [
    "naive = gnb.predict(X)"
   ]
  },
  {
   "cell_type": "markdown",
   "id": "dae68747",
   "metadata": {},
   "source": [
    "## list the result of the prediction"
   ]
  },
  {
   "cell_type": "code",
   "execution_count": 17,
   "id": "7cf9057f",
   "metadata": {},
   "outputs": [
    {
     "name": "stdout",
     "output_type": "stream",
     "text": [
      "[1 0 1 1 0 0 1 0 1 0]\n"
     ]
    }
   ],
   "source": [
    "print (naive)"
   ]
  },
  {
   "cell_type": "markdown",
   "id": "d33e13c8",
   "metadata": {},
   "source": [
    "## (2) Predict “Income = High, Has Child = No, Age = Mid-aged” "
   ]
  },
  {
   "cell_type": "markdown",
   "id": "c9ee651a",
   "metadata": {},
   "source": [
    "#### \"child\", \"income_High\", \"income_Low\", \"income_Mid-Range\", \"age_Young\", \"age_Old\", \"age_Mid-aged\""
   ]
  },
  {
   "cell_type": "code",
   "execution_count": 18,
   "id": "03df361b",
   "metadata": {},
   "outputs": [],
   "source": [
    "TEST = [[0, 1, 0, 0, 0, 0, 1]]"
   ]
  },
  {
   "cell_type": "markdown",
   "id": "5bac1c50",
   "metadata": {},
   "source": [
    "### prediction result: 1 - buy; 0 - do not buy"
   ]
  },
  {
   "cell_type": "code",
   "execution_count": 19,
   "id": "f32c4cf7",
   "metadata": {},
   "outputs": [
    {
     "name": "stdout",
     "output_type": "stream",
     "text": [
      "[1]\n"
     ]
    }
   ],
   "source": [
    "naiveTest = gnb.predict(TEST)\n",
    "print (naiveTest)"
   ]
  },
  {
   "cell_type": "markdown",
   "id": "eebeec18",
   "metadata": {},
   "source": [
    "### Evaluate Naive Bayes Classifier"
   ]
  },
  {
   "cell_type": "markdown",
   "id": "7c3da9fc",
   "metadata": {},
   "source": [
    "### Confusion Matrix"
   ]
  },
  {
   "cell_type": "code",
   "execution_count": 20,
   "id": "066eb98e",
   "metadata": {},
   "outputs": [
    {
     "data": {
      "text/plain": [
       "array([[3, 1],\n",
       "       [2, 4]], dtype=int64)"
      ]
     },
     "execution_count": 20,
     "metadata": {},
     "output_type": "execute_result"
    }
   ],
   "source": [
    "from sklearn.metrics import confusion_matrix\n",
    "confusion_matrix(y, naive)"
   ]
  },
  {
   "cell_type": "markdown",
   "id": "708fd1e0",
   "metadata": {},
   "source": [
    "### Accuracy"
   ]
  },
  {
   "cell_type": "code",
   "execution_count": 21,
   "id": "d849b05e",
   "metadata": {},
   "outputs": [
    {
     "name": "stdout",
     "output_type": "stream",
     "text": [
      "Logistic Regression:\t 0.7\n"
     ]
    }
   ],
   "source": [
    "from sklearn.metrics import accuracy_score\n",
    "print(\"Naive Bayes Classifier:\\t\",accuracy_score(y, naive))"
   ]
  },
  {
   "cell_type": "markdown",
   "id": "ae1ea8e7",
   "metadata": {},
   "source": [
    "### Precision"
   ]
  },
  {
   "cell_type": "code",
   "execution_count": 30,
   "id": "47ed71e2",
   "metadata": {},
   "outputs": [
    {
     "name": "stdout",
     "output_type": "stream",
     "text": [
      "Naive Bayes Classifier:\t 0.8\n"
     ]
    }
   ],
   "source": [
    "from sklearn.metrics import precision_score\n",
    "print(\"Naive Bayes Classifier:\\t\",precision_score(y, naive))"
   ]
  },
  {
   "cell_type": "markdown",
   "id": "0f7ccb62",
   "metadata": {},
   "source": [
    "### Recall (Sensitivity)"
   ]
  },
  {
   "cell_type": "code",
   "execution_count": 31,
   "id": "534a653d",
   "metadata": {},
   "outputs": [
    {
     "name": "stdout",
     "output_type": "stream",
     "text": [
      "Naive Bayes Classifier:\t 0.6666666666666666\n"
     ]
    }
   ],
   "source": [
    "from sklearn.metrics import recall_score\n",
    "print(\"Naive Bayes Classifier:\\t\",recall_score(y, naive))"
   ]
  },
  {
   "cell_type": "markdown",
   "id": "712a099a",
   "metadata": {},
   "source": [
    "### F1 Score"
   ]
  },
  {
   "cell_type": "code",
   "execution_count": 32,
   "id": "039d83e8",
   "metadata": {},
   "outputs": [
    {
     "name": "stdout",
     "output_type": "stream",
     "text": [
      "Naive Bayes Classifier:\t 0.7272727272727272\n"
     ]
    }
   ],
   "source": [
    "from sklearn.metrics import f1_score\n",
    "print(\"Naive Bayes Classifier:\\t\",f1_score(y, naive))\n"
   ]
  },
  {
   "cell_type": "code",
   "execution_count": 25,
   "id": "6e0c10e5",
   "metadata": {},
   "outputs": [],
   "source": [
    "from sklearn.metrics import classification_report"
   ]
  },
  {
   "cell_type": "markdown",
   "id": "78871f50",
   "metadata": {},
   "source": [
    "### Classification Report - desired probabilities"
   ]
  },
  {
   "cell_type": "code",
   "execution_count": 26,
   "id": "31fde809",
   "metadata": {},
   "outputs": [
    {
     "name": "stdout",
     "output_type": "stream",
     "text": [
      "              precision    recall  f1-score   support\n",
      "\n",
      "           0       0.60      0.75      0.67         4\n",
      "           1       0.80      0.67      0.73         6\n",
      "\n",
      "    accuracy                           0.70        10\n",
      "   macro avg       0.70      0.71      0.70        10\n",
      "weighted avg       0.72      0.70      0.70        10\n",
      "\n"
     ]
    }
   ],
   "source": [
    "print(classification_report(y, naive))"
   ]
  },
  {
   "cell_type": "markdown",
   "id": "a353e366",
   "metadata": {},
   "source": [
    "### Improved Performance with Bagging Classifier"
   ]
  },
  {
   "cell_type": "code",
   "execution_count": 27,
   "id": "173365ff",
   "metadata": {},
   "outputs": [
    {
     "name": "stdout",
     "output_type": "stream",
     "text": [
      "[0 0 1 1 1 0 1 1 1 1]\n"
     ]
    }
   ],
   "source": [
    "\n",
    "from sklearn.ensemble import BaggingClassifier\n",
    "bc = BaggingClassifier()\n",
    "bc.fit(X,y)\n",
    "bc_predictions = bc.predict(X)\n",
    "print(bc_predictions)"
   ]
  },
  {
   "cell_type": "code",
   "execution_count": 28,
   "id": "21c2285f",
   "metadata": {},
   "outputs": [
    {
     "name": "stdout",
     "output_type": "stream",
     "text": [
      "              precision    recall  f1-score   support\n",
      "\n",
      "           0       1.00      0.75      0.86         4\n",
      "           1       0.86      1.00      0.92         6\n",
      "\n",
      "    accuracy                           0.90        10\n",
      "   macro avg       0.93      0.88      0.89        10\n",
      "weighted avg       0.91      0.90      0.90        10\n",
      "\n"
     ]
    }
   ],
   "source": [
    "print(classification_report(y, bc_predictions))"
   ]
  },
  {
   "cell_type": "markdown",
   "id": "e3400b2c",
   "metadata": {},
   "source": [
    "### The second time predicting\n",
    "### with a more precise algorithm as comparison\n",
    "### prediction result: 1 - buy; 0 - do not buy"
   ]
  },
  {
   "cell_type": "code",
   "execution_count": 29,
   "id": "80525f33",
   "metadata": {},
   "outputs": [
    {
     "name": "stdout",
     "output_type": "stream",
     "text": [
      "[1]\n"
     ]
    }
   ],
   "source": [
    "bcTest = bc.predict(TEST)\n",
    "print (bcTest)"
   ]
  }
 ],
 "metadata": {
  "kernelspec": {
   "display_name": "Python 3",
   "language": "python",
   "name": "python3"
  },
  "language_info": {
   "codemirror_mode": {
    "name": "ipython",
    "version": 3
   },
   "file_extension": ".py",
   "mimetype": "text/x-python",
   "name": "python",
   "nbconvert_exporter": "python",
   "pygments_lexer": "ipython3",
   "version": "3.9.4"
  }
 },
 "nbformat": 4,
 "nbformat_minor": 5
}
