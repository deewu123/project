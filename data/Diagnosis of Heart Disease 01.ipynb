{
 "cells": [
  {
   "cell_type": "markdown",
   "id": "376a6b4f",
   "metadata": {},
   "source": [
    "# Diagnosis of Heart Disease 01"
   ]
  },
  {
   "cell_type": "code",
   "execution_count": null,
   "id": "c4c04a97",
   "metadata": {},
   "outputs": [],
   "source": []
  }
 ],
 "metadata": {
  "kernelspec": {
   "display_name": "Python 3",
   "language": "python",
   "name": "python3"
  }
 },
 "nbformat": 4,
 "nbformat_minor": 5
}
